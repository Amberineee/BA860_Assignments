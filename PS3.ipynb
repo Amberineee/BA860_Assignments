{
 "cells": [
  {
   "cell_type": "markdown",
   "metadata": {
    "id": "7R_64_cIZWWA"
   },
   "source": [
    "# Assignment 3\n",
    "## Group members: (Amber) Ying Wu, Ruchika Venkateswaran, Yixuan Wang"
   ]
  },
  {
   "cell_type": "code",
   "execution_count": 29,
   "metadata": {
    "id": "m73cebXjdUDB"
   },
   "outputs": [],
   "source": [
    "import pandas as pd, numpy as np, os, warnings, seaborn as sns, matplotlib.pyplot as plt, matplotlib\n",
    "from datetime import datetime\n",
    "\n",
    "warnings.simplefilter(action='ignore', category=FutureWarning) \n",
    "pd.options.mode.chained_assignment = None\n",
    "get_ipython().run_line_magic('matplotlib', 'inline')\n",
    "plt.style.use('seaborn')\n",
    "sns.set_color_codes('colorblind')\n",
    "matplotlib.rcParams.update({'font.size': 14}) \n",
    "matplotlib.rcParams.update({'xtick.labelsize':16})\n",
    "matplotlib.rcParams.update({'ytick.labelsize':16})\n",
    "matplotlib.rcParams.update({'axes.labelsize':16})\n",
    "matplotlib.rcParams.update({'axes.titlesize':20})\n",
    "matplotlib.rcParams.update({'legend.fontsize': 16}) \n",
    "sns.set_style('white')"
   ]
  },
  {
   "cell_type": "code",
   "execution_count": 30,
   "metadata": {
    "id": "fSAtRRFrdpPU"
   },
   "outputs": [],
   "source": [
    "df = pd.read_csv('Winters-Attribution-PS3.csv', index_col=0)"
   ]
  },
  {
   "cell_type": "code",
   "execution_count": 31,
   "metadata": {
    "colab": {
     "base_uri": "https://localhost:8080/",
     "height": 309
    },
    "id": "E3uPjjabeJm-",
    "outputId": "54b7b183-e0ba-4719-8fb2-de24e3290629"
   },
   "outputs": [
    {
     "data": {
      "text/html": [
       "<div>\n",
       "<style scoped>\n",
       "    .dataframe tbody tr th:only-of-type {\n",
       "        vertical-align: middle;\n",
       "    }\n",
       "\n",
       "    .dataframe tbody tr th {\n",
       "        vertical-align: top;\n",
       "    }\n",
       "\n",
       "    .dataframe thead th {\n",
       "        text-align: right;\n",
       "    }\n",
       "</style>\n",
       "<table border=\"1\" class=\"dataframe\">\n",
       "  <thead>\n",
       "    <tr style=\"text-align: right;\">\n",
       "      <th></th>\n",
       "      <th>Orderid</th>\n",
       "      <th>Orderdatetime</th>\n",
       "      <th>Saleamount</th>\n",
       "      <th>Newcustomer</th>\n",
       "      <th>Position</th>\n",
       "      <th>Positiondatetime</th>\n",
       "      <th>Groupname</th>\n",
       "      <th>Networkname</th>\n",
       "      <th>Networkid</th>\n",
       "      <th>Brand</th>\n",
       "      <th>Positionname</th>\n",
       "      <th>DaysToConvert</th>\n",
       "    </tr>\n",
       "  </thead>\n",
       "  <tbody>\n",
       "    <tr>\n",
       "      <th>1</th>\n",
       "      <td>11634052</td>\n",
       "      <td>2012-05-01 4:24</td>\n",
       "      <td>341.5</td>\n",
       "      <td>Y</td>\n",
       "      <td>1</td>\n",
       "      <td>2012-05-01 3:49</td>\n",
       "      <td>BUZZ AFFILIATE</td>\n",
       "      <td>Buzz CPA Affiliate</td>\n",
       "      <td>buzz23</td>\n",
       "      <td>N</td>\n",
       "      <td>CONVERTER</td>\n",
       "      <td>0</td>\n",
       "    </tr>\n",
       "    <tr>\n",
       "      <th>2</th>\n",
       "      <td>11634052</td>\n",
       "      <td>2012-05-01 4:24</td>\n",
       "      <td>341.5</td>\n",
       "      <td>Y</td>\n",
       "      <td>0</td>\n",
       "      <td>2012-05-01 3:47</td>\n",
       "      <td>SEARCH GOOGLE BRAND</td>\n",
       "      <td>G: Medifast Brand Terms &gt; Medifast &gt;</td>\n",
       "      <td>g000793</td>\n",
       "      <td>Y</td>\n",
       "      <td>ORIGINATOR</td>\n",
       "      <td>0</td>\n",
       "    </tr>\n",
       "    <tr>\n",
       "      <th>3</th>\n",
       "      <td>11634059</td>\n",
       "      <td>2012-05-01 4:08</td>\n",
       "      <td>339.0</td>\n",
       "      <td>Y</td>\n",
       "      <td>2</td>\n",
       "      <td>2012-04-29 21:01</td>\n",
       "      <td>PRINT - MAGAZINES</td>\n",
       "      <td>Medifastok.com</td>\n",
       "      <td>medifastok.com</td>\n",
       "      <td>N</td>\n",
       "      <td>CONVERTER</td>\n",
       "      <td>2</td>\n",
       "    </tr>\n",
       "    <tr>\n",
       "      <th>4</th>\n",
       "      <td>11634059</td>\n",
       "      <td>2012-05-01 4:08</td>\n",
       "      <td>339.0</td>\n",
       "      <td>Y</td>\n",
       "      <td>1</td>\n",
       "      <td>2012-04-24 5:29</td>\n",
       "      <td>CPM</td>\n",
       "      <td>Armonix</td>\n",
       "      <td>nar7467</td>\n",
       "      <td>N</td>\n",
       "      <td>ASSIST</td>\n",
       "      <td>7</td>\n",
       "    </tr>\n",
       "    <tr>\n",
       "      <th>5</th>\n",
       "      <td>11634059</td>\n",
       "      <td>2012-05-01 4:08</td>\n",
       "      <td>339.0</td>\n",
       "      <td>Y</td>\n",
       "      <td>0</td>\n",
       "      <td>2012-04-23 2:46</td>\n",
       "      <td>PRINT - MAGAZINES</td>\n",
       "      <td>Medifastok.com</td>\n",
       "      <td>medifastok.com</td>\n",
       "      <td>N</td>\n",
       "      <td>ORIGINATOR</td>\n",
       "      <td>8</td>\n",
       "    </tr>\n",
       "  </tbody>\n",
       "</table>\n",
       "</div>"
      ],
      "text/plain": [
       "    Orderid    Orderdatetime  Saleamount Newcustomer  Position  \\\n",
       "1  11634052  2012-05-01 4:24       341.5           Y         1   \n",
       "2  11634052  2012-05-01 4:24       341.5           Y         0   \n",
       "3  11634059  2012-05-01 4:08       339.0           Y         2   \n",
       "4  11634059  2012-05-01 4:08       339.0           Y         1   \n",
       "5  11634059  2012-05-01 4:08       339.0           Y         0   \n",
       "\n",
       "   Positiondatetime            Groupname  \\\n",
       "1   2012-05-01 3:49       BUZZ AFFILIATE   \n",
       "2   2012-05-01 3:47  SEARCH GOOGLE BRAND   \n",
       "3  2012-04-29 21:01    PRINT - MAGAZINES   \n",
       "4   2012-04-24 5:29                  CPM   \n",
       "5   2012-04-23 2:46    PRINT - MAGAZINES   \n",
       "\n",
       "                             Networkname       Networkid Brand Positionname  \\\n",
       "1                     Buzz CPA Affiliate          buzz23     N    CONVERTER   \n",
       "2  G: Medifast Brand Terms > Medifast >          g000793     Y   ORIGINATOR   \n",
       "3                         Medifastok.com  medifastok.com     N    CONVERTER   \n",
       "4                                Armonix         nar7467     N       ASSIST   \n",
       "5                         Medifastok.com  medifastok.com     N   ORIGINATOR   \n",
       "\n",
       "   DaysToConvert  \n",
       "1              0  \n",
       "2              0  \n",
       "3              2  \n",
       "4              7  \n",
       "5              8  "
      ]
     },
     "execution_count": 31,
     "metadata": {},
     "output_type": "execute_result"
    }
   ],
   "source": [
    "df.head(5)"
   ]
  },
  {
   "cell_type": "code",
   "execution_count": 32,
   "metadata": {
    "colab": {
     "base_uri": "https://localhost:8080/"
    },
    "id": "jAQomq-yZdWt",
    "outputId": "6fc01e4e-ef7b-4aeb-cbe3-137e22577a08"
   },
   "outputs": [
    {
     "data": {
      "text/plain": [
       "(7624, 12)"
      ]
     },
     "execution_count": 32,
     "metadata": {},
     "output_type": "execute_result"
    }
   ],
   "source": [
    "df.shape"
   ]
  },
  {
   "cell_type": "code",
   "execution_count": 33,
   "metadata": {
    "colab": {
     "base_uri": "https://localhost:8080/"
    },
    "id": "5Y7lUJl-eXys",
    "outputId": "1172d718-45f3-4cb3-ae33-74da1a82cef2"
   },
   "outputs": [
    {
     "name": "stdout",
     "output_type": "stream",
     "text": [
      "Time range:  2012-05-01 10:04 to 2012-06-01 3:45\n",
      "Number of touchpoints: 7624\n",
      "Number of orders: 1627\n",
      "Number of touchpoints per order: 4.69\n"
     ]
    }
   ],
   "source": [
    "print('Time range: ', df['Orderdatetime'].min(), 'to', df['Orderdatetime'].max())\n",
    "print('Number of touchpoints:', len(df))\n",
    "print('Number of orders:', len(df['Orderid'].unique()))\n",
    "print('Number of touchpoints per order:', np.round(len(df)/len(df['Orderid'].unique()), 2))"
   ]
  },
  {
   "cell_type": "code",
   "execution_count": 34,
   "metadata": {
    "colab": {
     "base_uri": "https://localhost:8080/"
    },
    "id": "UH9_Hzw6euSE",
    "outputId": "5216902d-0897-487b-c786-924eaaab3889"
   },
   "outputs": [
    {
     "data": {
      "text/plain": [
       "array(['CONVERTER', 'ORIGINATOR', 'ASSIST', 'ROSTER'], dtype=object)"
      ]
     },
     "execution_count": 34,
     "metadata": {},
     "output_type": "execute_result"
    }
   ],
   "source": [
    "df.Positionname.unique()"
   ]
  },
  {
   "cell_type": "markdown",
   "metadata": {
    "id": "j6i4sWY1faNP"
   },
   "source": [
    "**Q1. (30 pts) Compare first-touch vs. last-touch attribution models**\n",
    "\n",
    "**a) (10 pts) What is the number of orders attributed to each channel using a last-touch model? What about the number of orders attributed to each channel using a first-touch model? What is the corresponding share of credit from the two attribution models?** "
   ]
  },
  {
   "cell_type": "code",
   "execution_count": 35,
   "metadata": {
    "id": "jhv7lSeWfedS"
   },
   "outputs": [],
   "source": [
    "# calculating the count per channel by last touch\n",
    "num_order = len(df['Orderid'].unique())\n",
    "T_last_count = pd.DataFrame(df.loc[df['Positionname']=='CONVERTER', \n",
    "                            'Groupname'].value_counts()).reset_index().sort_values('index')\n",
    "# calculating the percentage per channel by last touch\n",
    "T_last_percent = pd.DataFrame((df.loc[df['Positionname']=='CONVERTER', \n",
    "                            'Groupname'].value_counts()/\n",
    "                            num_order)*100).reset_index().sort_values('index')\n",
    "# calculating the count per channel by first touch\n",
    "T_first_count = pd.DataFrame(df.loc[df['Positionname']=='ORIGINATOR', \n",
    "                             'Groupname'].value_counts()).reset_index().sort_values('index')\n",
    "# calculating the percentage per channel by first touch\n",
    "T_first_percent = pd.DataFrame(df.loc[df['Positionname']=='ORIGINATOR', \n",
    "                             'Groupname'].value_counts()/\n",
    "                             num_order*100).reset_index().sort_values('index')"
   ]
  },
  {
   "cell_type": "code",
   "execution_count": 36,
   "metadata": {
    "id": "RnhXlBwxf7D7"
   },
   "outputs": [],
   "source": [
    "# merging all 4 tables \n",
    "merge_1 = np.round(pd.merge(T_last_count, T_first_count, how = 'outer', on = 'index').fillna(0).rename(\n",
    "    columns={\"Groupname_x\": \"Converter\", \"Groupname_y\": \"Originator\"}), 3)\n",
    "merge_2= np.round(pd.merge(T_last_percent, T_first_percent, how = 'outer', on = 'index').fillna(0).rename(\n",
    "    columns={\"Groupname_x\": \"Converter %\", \"Groupname_y\": \"Originator %\"}), 3)\n",
    "first_last = np.round(pd.merge(merge_1, merge_2, how = 'outer', on = 'index').fillna(0), 3)\n",
    "\n",
    "new_row = {'index': 'TOTAL', 'Converter': first_last.Converter.sum(), 'Originator': first_last.Originator.sum(), 'Converter %': first_last['Converter %'].sum(), 'Originator %': first_last['Originator %'].sum()}\n",
    "first_last = first_last.append(new_row, ignore_index=True)\n",
    "first_last = np.round(first_last, decimals=2)\n",
    "first_last['Converter'] = first_last['Converter'].astype('int64')\n",
    "first_last['Originator'] = first_last['Originator'].astype('int64')"
   ]
  },
  {
   "cell_type": "markdown",
   "metadata": {
    "id": "iJSioY9ZmAiX"
   },
   "source": [
    "The table below displays the number of orders and corresponding share of credit from the two attribution (first and last touch) models."
   ]
  },
  {
   "cell_type": "code",
   "execution_count": 37,
   "metadata": {
    "colab": {
     "base_uri": "https://localhost:8080/",
     "height": 483
    },
    "id": "h4a7PHj3ipUw",
    "outputId": "d3b7b62d-9b6c-4fed-dafa-b44e01be81ad"
   },
   "outputs": [
    {
     "data": {
      "text/html": [
       "<div>\n",
       "<style scoped>\n",
       "    .dataframe tbody tr th:only-of-type {\n",
       "        vertical-align: middle;\n",
       "    }\n",
       "\n",
       "    .dataframe tbody tr th {\n",
       "        vertical-align: top;\n",
       "    }\n",
       "\n",
       "    .dataframe thead th {\n",
       "        text-align: right;\n",
       "    }\n",
       "</style>\n",
       "<table border=\"1\" class=\"dataframe\">\n",
       "  <thead>\n",
       "    <tr style=\"text-align: right;\">\n",
       "      <th></th>\n",
       "      <th>index</th>\n",
       "      <th>Converter</th>\n",
       "      <th>Originator</th>\n",
       "      <th>Converter %</th>\n",
       "      <th>Originator %</th>\n",
       "    </tr>\n",
       "  </thead>\n",
       "  <tbody>\n",
       "    <tr>\n",
       "      <th>0</th>\n",
       "      <td>BUZZ AFFILIATE</td>\n",
       "      <td>486</td>\n",
       "      <td>225</td>\n",
       "      <td>29.87</td>\n",
       "      <td>13.83</td>\n",
       "    </tr>\n",
       "    <tr>\n",
       "      <th>1</th>\n",
       "      <td>CJ</td>\n",
       "      <td>224</td>\n",
       "      <td>87</td>\n",
       "      <td>13.77</td>\n",
       "      <td>5.35</td>\n",
       "    </tr>\n",
       "    <tr>\n",
       "      <th>2</th>\n",
       "      <td>CPM</td>\n",
       "      <td>830</td>\n",
       "      <td>618</td>\n",
       "      <td>51.01</td>\n",
       "      <td>37.98</td>\n",
       "    </tr>\n",
       "    <tr>\n",
       "      <th>3</th>\n",
       "      <td>OTHER</td>\n",
       "      <td>3</td>\n",
       "      <td>20</td>\n",
       "      <td>0.18</td>\n",
       "      <td>1.23</td>\n",
       "    </tr>\n",
       "    <tr>\n",
       "      <th>4</th>\n",
       "      <td>PRINT - MAGAZINES</td>\n",
       "      <td>3</td>\n",
       "      <td>4</td>\n",
       "      <td>0.18</td>\n",
       "      <td>0.25</td>\n",
       "    </tr>\n",
       "    <tr>\n",
       "      <th>5</th>\n",
       "      <td>SEARCH GOOGLE NON-BRAND</td>\n",
       "      <td>32</td>\n",
       "      <td>53</td>\n",
       "      <td>1.97</td>\n",
       "      <td>3.26</td>\n",
       "    </tr>\n",
       "    <tr>\n",
       "      <th>6</th>\n",
       "      <td>SEARCH MSN NON-BRAND</td>\n",
       "      <td>7</td>\n",
       "      <td>4</td>\n",
       "      <td>0.43</td>\n",
       "      <td>0.25</td>\n",
       "    </tr>\n",
       "    <tr>\n",
       "      <th>7</th>\n",
       "      <td>TV</td>\n",
       "      <td>20</td>\n",
       "      <td>14</td>\n",
       "      <td>1.23</td>\n",
       "      <td>0.86</td>\n",
       "    </tr>\n",
       "    <tr>\n",
       "      <th>8</th>\n",
       "      <td>Uncategorized</td>\n",
       "      <td>22</td>\n",
       "      <td>9</td>\n",
       "      <td>1.35</td>\n",
       "      <td>0.55</td>\n",
       "    </tr>\n",
       "    <tr>\n",
       "      <th>9</th>\n",
       "      <td>DIRECT MAIL</td>\n",
       "      <td>0</td>\n",
       "      <td>1</td>\n",
       "      <td>0.00</td>\n",
       "      <td>0.06</td>\n",
       "    </tr>\n",
       "    <tr>\n",
       "      <th>10</th>\n",
       "      <td>SEARCH GOOGLE BRAND</td>\n",
       "      <td>0</td>\n",
       "      <td>474</td>\n",
       "      <td>0.00</td>\n",
       "      <td>29.13</td>\n",
       "    </tr>\n",
       "    <tr>\n",
       "      <th>11</th>\n",
       "      <td>SEARCH MSN BRAND</td>\n",
       "      <td>0</td>\n",
       "      <td>117</td>\n",
       "      <td>0.00</td>\n",
       "      <td>7.19</td>\n",
       "    </tr>\n",
       "    <tr>\n",
       "      <th>12</th>\n",
       "      <td>Social</td>\n",
       "      <td>0</td>\n",
       "      <td>1</td>\n",
       "      <td>0.00</td>\n",
       "      <td>0.06</td>\n",
       "    </tr>\n",
       "    <tr>\n",
       "      <th>13</th>\n",
       "      <td>TOTAL</td>\n",
       "      <td>1627</td>\n",
       "      <td>1627</td>\n",
       "      <td>100.00</td>\n",
       "      <td>100.00</td>\n",
       "    </tr>\n",
       "  </tbody>\n",
       "</table>\n",
       "</div>"
      ],
      "text/plain": [
       "                      index  Converter  Originator  Converter %  Originator %\n",
       "0            BUZZ AFFILIATE        486         225        29.87         13.83\n",
       "1                        CJ        224          87        13.77          5.35\n",
       "2                       CPM        830         618        51.01         37.98\n",
       "3                     OTHER          3          20         0.18          1.23\n",
       "4         PRINT - MAGAZINES          3           4         0.18          0.25\n",
       "5   SEARCH GOOGLE NON-BRAND         32          53         1.97          3.26\n",
       "6      SEARCH MSN NON-BRAND          7           4         0.43          0.25\n",
       "7                        TV         20          14         1.23          0.86\n",
       "8             Uncategorized         22           9         1.35          0.55\n",
       "9               DIRECT MAIL          0           1         0.00          0.06\n",
       "10      SEARCH GOOGLE BRAND          0         474         0.00         29.13\n",
       "11         SEARCH MSN BRAND          0         117         0.00          7.19\n",
       "12                   Social          0           1         0.00          0.06\n",
       "13                    TOTAL       1627        1627       100.00        100.00"
      ]
     },
     "execution_count": 37,
     "metadata": {},
     "output_type": "execute_result"
    }
   ],
   "source": [
    "first_last"
   ]
  },
  {
   "cell_type": "markdown",
   "metadata": {
    "id": "wj1VW-almOS0"
   },
   "source": [
    "**b) (10 pts) In a single bar chart, plot the share of credit (in percentage) for the first- and last touch attribution models by marketing channel.**"
   ]
  },
  {
   "cell_type": "code",
   "execution_count": 38,
   "metadata": {
    "colab": {
     "base_uri": "https://localhost:8080/",
     "height": 664
    },
    "id": "wXilVUl_gOuq",
    "outputId": "f9af914c-7bc7-40a1-e378-a4d84e757276"
   },
   "outputs": [
    {
     "data": {
      "image/png": "[encoded data removed]",
      "text/plain": [
       "<Figure size 720x432 with 1 Axes>"
      ]
     },
     "metadata": {},
     "output_type": "display_data"
    }
   ],
   "source": [
    "first_last[:13].plot(x='index', y=['Converter %', 'Originator %'], kind='bar', figsize=(10, 6))\n",
    "plt.xlabel('Groupname')\n",
    "plt.ylabel('Share of Credit')\n",
    "plt.title('The share of credit (%) for the first- and last touch attribution models by marketing channel');"
   ]
  },
  {
   "cell_type": "markdown",
   "metadata": {
    "id": "5OigNpuRoXWD"
   },
   "source": [
    "**c) (10 pts) Compare results from the two attribution model. What would be the\n",
    "consequence to Winters if it allocated its marketing budget entirely based on the lasttouch attribution model?**"
   ]
  },
  {
   "cell_type": "markdown",
   "metadata": {
    "id": "CqeRu8fsowku"
   },
   "source": [
    "The CPM channel has the share of credit when using both first and last touch attribution models (51.01% and 37.98% respectively). The Buzz Affiliates channel holds the second highest share of credit when using the last touch attribution model (29.87%), but has a significantly lower proportion of credit share for the first touch attribution model (13.83%). When customers search for google brands, the first touch attribution displays that this accounts to 29.13% of the total share of credit. The CJ channel has the third highest share of credit (13.77%) across the last touch attribution model. We note that all other channels have less than 8% of the total share of credit across both the first and last touch attribution models. This implies that CPM and Buzz Affiliates have the highest share of credits across both models, with an addition of the CJ channel's share of credit only for the last touch attribution model. \n",
    "\n",
    "If the marketing budget is allocated entirely based on the last touch attribution model, then Winters will not be able to account for the consumer interactions with all other touchpoints. There might be an interaction effect between all these different marketing touchpoints, which a single touch model (either first or last touch model) will fail to take into account. "
   ]
  },
  {
   "cell_type": "markdown",
   "metadata": {
    "id": "xwMEW2azragc"
   },
   "source": [
    "**Q2. (20 pts) Compare new customers and old customers**\n",
    "\n",
    "**a) (5 pts) What is the average number of days that it takes for a new customer to convert (from the first touchpoint)? What is the average number of days that it takes for an old customer to convert?**"
   ]
  },
  {
   "cell_type": "code",
   "execution_count": 39,
   "metadata": {
    "id": "szlllrDbmjQT"
   },
   "outputs": [],
   "source": [
    "num_order_new = len(df[(df['Positionname']=='CONVERTER')&(df['Newcustomer'] == 'Y')])\n",
    "num_order_old = len(df[(df['Positionname']=='CONVERTER')&(df['Newcustomer'] == 'N')])"
   ]
  },
  {
   "cell_type": "code",
   "execution_count": 40,
   "metadata": {
    "colab": {
     "base_uri": "https://localhost:8080/"
    },
    "id": "zmaTkU37s5JI",
    "outputId": "fd5ff3f5-65b8-452a-b671-3a9500bc68c7"
   },
   "outputs": [
    {
     "name": "stdout",
     "output_type": "stream",
     "text": [
      "5.5\n"
     ]
    }
   ],
   "source": [
    "new_firsttouchpoint = df[(df['Newcustomer'] == 'Y') & (df['Positionname'] == 'ORIGINATOR')]\n",
    "print(np.round(new_firsttouchpoint.DaysToConvert.mean(),2))"
   ]
  },
  {
   "cell_type": "code",
   "execution_count": 41,
   "metadata": {
    "colab": {
     "base_uri": "https://localhost:8080/"
    },
    "id": "u2I4GRmJvIOZ",
    "outputId": "641538ac-165b-4a11-f587-06dcc8a05d3e",
    "scrolled": true
   },
   "outputs": [
    {
     "name": "stdout",
     "output_type": "stream",
     "text": [
      "32.01\n"
     ]
    }
   ],
   "source": [
    "old_firsttouchpoint = df[(df['Newcustomer'] == 'N') & (df['Positionname'] == 'ORIGINATOR')]\n",
    "print(np.round(old_firsttouchpoint.DaysToConvert.mean(),2))"
   ]
  },
  {
   "cell_type": "markdown",
   "metadata": {
    "id": "nPH-jNuxvW2-"
   },
   "source": [
    "On average, it takes 5.5 days for a new customer to convert from the first touch point. And it takes 32.01 days for an old customer to convert from the first touch point."
   ]
  },
  {
   "cell_type": "markdown",
   "metadata": {
    "id": "Oo0S8ieYvk97"
   },
   "source": [
    "**b) (5 pts) What is the average number of touchpoints by new versus old customer’s orders? Hint: Use the Touches variable if available. If not, create the ‘Touches’ variable for the number of touchpoints per order. R users can use the add_count() function.**"
   ]
  },
  {
   "cell_type": "code",
   "execution_count": 42,
   "metadata": {
    "colab": {
     "base_uri": "https://localhost:8080/",
     "height": 450
    },
    "id": "nbTWj00-vl9D",
    "outputId": "174835fe-8e93-495c-e249-750bb75846bd"
   },
   "outputs": [
    {
     "data": {
      "text/html": [
       "<div>\n",
       "<style scoped>\n",
       "    .dataframe tbody tr th:only-of-type {\n",
       "        vertical-align: middle;\n",
       "    }\n",
       "\n",
       "    .dataframe tbody tr th {\n",
       "        vertical-align: top;\n",
       "    }\n",
       "\n",
       "    .dataframe thead th {\n",
       "        text-align: right;\n",
       "    }\n",
       "</style>\n",
       "<table border=\"1\" class=\"dataframe\">\n",
       "  <thead>\n",
       "    <tr style=\"text-align: right;\">\n",
       "      <th></th>\n",
       "      <th>Touches</th>\n",
       "    </tr>\n",
       "    <tr>\n",
       "      <th>Orderid</th>\n",
       "      <th></th>\n",
       "    </tr>\n",
       "  </thead>\n",
       "  <tbody>\n",
       "    <tr>\n",
       "      <th>11634052</th>\n",
       "      <td>2</td>\n",
       "    </tr>\n",
       "    <tr>\n",
       "      <th>11634059</th>\n",
       "      <td>3</td>\n",
       "    </tr>\n",
       "    <tr>\n",
       "      <th>11634191</th>\n",
       "      <td>4</td>\n",
       "    </tr>\n",
       "    <tr>\n",
       "      <th>11634217</th>\n",
       "      <td>3</td>\n",
       "    </tr>\n",
       "    <tr>\n",
       "      <th>11634218</th>\n",
       "      <td>5</td>\n",
       "    </tr>\n",
       "    <tr>\n",
       "      <th>...</th>\n",
       "      <td>...</td>\n",
       "    </tr>\n",
       "    <tr>\n",
       "      <th>11777393</th>\n",
       "      <td>2</td>\n",
       "    </tr>\n",
       "    <tr>\n",
       "      <th>11777407</th>\n",
       "      <td>3</td>\n",
       "    </tr>\n",
       "    <tr>\n",
       "      <th>11777419</th>\n",
       "      <td>2</td>\n",
       "    </tr>\n",
       "    <tr>\n",
       "      <th>11777467</th>\n",
       "      <td>3</td>\n",
       "    </tr>\n",
       "    <tr>\n",
       "      <th>11777469</th>\n",
       "      <td>4</td>\n",
       "    </tr>\n",
       "  </tbody>\n",
       "</table>\n",
       "<p>982 rows × 1 columns</p>\n",
       "</div>"
      ],
      "text/plain": [
       "          Touches\n",
       "Orderid          \n",
       "11634052        2\n",
       "11634059        3\n",
       "11634191        4\n",
       "11634217        3\n",
       "11634218        5\n",
       "...           ...\n",
       "11777393        2\n",
       "11777407        3\n",
       "11777419        2\n",
       "11777467        3\n",
       "11777469        4\n",
       "\n",
       "[982 rows x 1 columns]"
      ]
     },
     "execution_count": 42,
     "metadata": {},
     "output_type": "execute_result"
    }
   ],
   "source": [
    "new = df[df['Newcustomer'] == 'Y']\n",
    "temp = new.groupby('Orderid')['Position'].count()\n",
    "temp_new = pd.DataFrame(temp)\n",
    "temp_new['Touches'] = temp_new['Position']\n",
    "temp_new = temp_new['Touches']\n",
    "temp_new = pd.DataFrame(temp_new)\n",
    "temp_new"
   ]
  },
  {
   "cell_type": "code",
   "execution_count": 43,
   "metadata": {
    "colab": {
     "base_uri": "https://localhost:8080/",
     "height": 450
    },
    "id": "e3EAilXJ2DsE",
    "outputId": "118a6dd9-dafa-4c2d-a6b3-f36044bf43c9"
   },
   "outputs": [
    {
     "data": {
      "text/html": [
       "<div>\n",
       "<style scoped>\n",
       "    .dataframe tbody tr th:only-of-type {\n",
       "        vertical-align: middle;\n",
       "    }\n",
       "\n",
       "    .dataframe tbody tr th {\n",
       "        vertical-align: top;\n",
       "    }\n",
       "\n",
       "    .dataframe thead th {\n",
       "        text-align: right;\n",
       "    }\n",
       "</style>\n",
       "<table border=\"1\" class=\"dataframe\">\n",
       "  <thead>\n",
       "    <tr style=\"text-align: right;\">\n",
       "      <th></th>\n",
       "      <th>Touches</th>\n",
       "    </tr>\n",
       "    <tr>\n",
       "      <th>Orderid</th>\n",
       "      <th></th>\n",
       "    </tr>\n",
       "  </thead>\n",
       "  <tbody>\n",
       "    <tr>\n",
       "      <th>11634060</th>\n",
       "      <td>8</td>\n",
       "    </tr>\n",
       "    <tr>\n",
       "      <th>11634119</th>\n",
       "      <td>2</td>\n",
       "    </tr>\n",
       "    <tr>\n",
       "      <th>11635494</th>\n",
       "      <td>4</td>\n",
       "    </tr>\n",
       "    <tr>\n",
       "      <th>11636452</th>\n",
       "      <td>6</td>\n",
       "    </tr>\n",
       "    <tr>\n",
       "      <th>11637581</th>\n",
       "      <td>4</td>\n",
       "    </tr>\n",
       "    <tr>\n",
       "      <th>...</th>\n",
       "      <td>...</td>\n",
       "    </tr>\n",
       "    <tr>\n",
       "      <th>11776990</th>\n",
       "      <td>4</td>\n",
       "    </tr>\n",
       "    <tr>\n",
       "      <th>11777034</th>\n",
       "      <td>5</td>\n",
       "    </tr>\n",
       "    <tr>\n",
       "      <th>11777068</th>\n",
       "      <td>7</td>\n",
       "    </tr>\n",
       "    <tr>\n",
       "      <th>11777397</th>\n",
       "      <td>7</td>\n",
       "    </tr>\n",
       "    <tr>\n",
       "      <th>11777500</th>\n",
       "      <td>5</td>\n",
       "    </tr>\n",
       "  </tbody>\n",
       "</table>\n",
       "<p>645 rows × 1 columns</p>\n",
       "</div>"
      ],
      "text/plain": [
       "          Touches\n",
       "Orderid          \n",
       "11634060        8\n",
       "11634119        2\n",
       "11635494        4\n",
       "11636452        6\n",
       "11637581        4\n",
       "...           ...\n",
       "11776990        4\n",
       "11777034        5\n",
       "11777068        7\n",
       "11777397        7\n",
       "11777500        5\n",
       "\n",
       "[645 rows x 1 columns]"
      ]
     },
     "execution_count": 43,
     "metadata": {},
     "output_type": "execute_result"
    }
   ],
   "source": [
    "old = df[df['Newcustomer'] == 'N']\n",
    "temp = old.groupby('Orderid')['Position'].count()\n",
    "temp_old = pd.DataFrame(temp)\n",
    "temp_old['Touches'] = temp_old['Position']\n",
    "temp_old = temp_old['Touches']\n",
    "temp_old = pd.DataFrame(temp_old)\n",
    "temp_old"
   ]
  },
  {
   "cell_type": "code",
   "execution_count": 44,
   "metadata": {
    "colab": {
     "base_uri": "https://localhost:8080/"
    },
    "id": "oKKQLbo32E7b",
    "outputId": "e8495a98-e5c9-42a9-bde5-321ff18ce1df"
   },
   "outputs": [
    {
     "name": "stdout",
     "output_type": "stream",
     "text": [
      "4.32\n",
      "5.24\n"
     ]
    }
   ],
   "source": [
    "print(np.round(temp_new['Touches'].mean(),2))\n",
    "print(np.round(temp_old['Touches'].mean(),2))"
   ]
  },
  {
   "cell_type": "markdown",
   "metadata": {
    "id": "ztISmUvn21cT"
   },
   "source": [
    "New customers on average have 4.32 touchpoints while old customers on average have 5.24 touchpoints."
   ]
  },
  {
   "cell_type": "markdown",
   "metadata": {
    "id": "-CU3NPFt4B04"
   },
   "source": [
    "**c) (5 pts) What is the average order sales amount by new versus old customer’s orders?**"
   ]
  },
  {
   "cell_type": "code",
   "execution_count": 45,
   "metadata": {
    "colab": {
     "base_uri": "https://localhost:8080/",
     "height": 450
    },
    "id": "AYFBh9dVVvit",
    "outputId": "bf2d3b49-eeff-41b3-e59f-7599978f8b25"
   },
   "outputs": [
    {
     "data": {
      "text/html": [
       "<div>\n",
       "<style scoped>\n",
       "    .dataframe tbody tr th:only-of-type {\n",
       "        vertical-align: middle;\n",
       "    }\n",
       "\n",
       "    .dataframe tbody tr th {\n",
       "        vertical-align: top;\n",
       "    }\n",
       "\n",
       "    .dataframe thead th {\n",
       "        text-align: right;\n",
       "    }\n",
       "</style>\n",
       "<table border=\"1\" class=\"dataframe\">\n",
       "  <thead>\n",
       "    <tr style=\"text-align: right;\">\n",
       "      <th></th>\n",
       "      <th>Saleamount</th>\n",
       "    </tr>\n",
       "    <tr>\n",
       "      <th>Orderid</th>\n",
       "      <th></th>\n",
       "    </tr>\n",
       "  </thead>\n",
       "  <tbody>\n",
       "    <tr>\n",
       "      <th>11634052</th>\n",
       "      <td>341.50</td>\n",
       "    </tr>\n",
       "    <tr>\n",
       "      <th>11634059</th>\n",
       "      <td>339.00</td>\n",
       "    </tr>\n",
       "    <tr>\n",
       "      <th>11634191</th>\n",
       "      <td>315.00</td>\n",
       "    </tr>\n",
       "    <tr>\n",
       "      <th>11634217</th>\n",
       "      <td>731.60</td>\n",
       "    </tr>\n",
       "    <tr>\n",
       "      <th>11634218</th>\n",
       "      <td>256.50</td>\n",
       "    </tr>\n",
       "    <tr>\n",
       "      <th>...</th>\n",
       "      <td>...</td>\n",
       "    </tr>\n",
       "    <tr>\n",
       "      <th>11777393</th>\n",
       "      <td>253.21</td>\n",
       "    </tr>\n",
       "    <tr>\n",
       "      <th>11777407</th>\n",
       "      <td>341.50</td>\n",
       "    </tr>\n",
       "    <tr>\n",
       "      <th>11777419</th>\n",
       "      <td>99.00</td>\n",
       "    </tr>\n",
       "    <tr>\n",
       "      <th>11777467</th>\n",
       "      <td>175.08</td>\n",
       "    </tr>\n",
       "    <tr>\n",
       "      <th>11777469</th>\n",
       "      <td>192.05</td>\n",
       "    </tr>\n",
       "  </tbody>\n",
       "</table>\n",
       "<p>982 rows × 1 columns</p>\n",
       "</div>"
      ],
      "text/plain": [
       "          Saleamount\n",
       "Orderid             \n",
       "11634052      341.50\n",
       "11634059      339.00\n",
       "11634191      315.00\n",
       "11634217      731.60\n",
       "11634218      256.50\n",
       "...              ...\n",
       "11777393      253.21\n",
       "11777407      341.50\n",
       "11777419       99.00\n",
       "11777467      175.08\n",
       "11777469      192.05\n",
       "\n",
       "[982 rows x 1 columns]"
      ]
     },
     "execution_count": 45,
     "metadata": {},
     "output_type": "execute_result"
    }
   ],
   "source": [
    "temp2 = new.groupby('Orderid')['Saleamount'].mean()\n",
    "temp2_new = pd.DataFrame(temp2)\n",
    "temp2_new"
   ]
  },
  {
   "cell_type": "code",
   "execution_count": 46,
   "metadata": {
    "colab": {
     "base_uri": "https://localhost:8080/",
     "height": 450
    },
    "id": "WLU7AylVbBwz",
    "outputId": "85fab0de-507d-49c8-f67c-1a41e7564b81"
   },
   "outputs": [
    {
     "data": {
      "text/html": [
       "<div>\n",
       "<style scoped>\n",
       "    .dataframe tbody tr th:only-of-type {\n",
       "        vertical-align: middle;\n",
       "    }\n",
       "\n",
       "    .dataframe tbody tr th {\n",
       "        vertical-align: top;\n",
       "    }\n",
       "\n",
       "    .dataframe thead th {\n",
       "        text-align: right;\n",
       "    }\n",
       "</style>\n",
       "<table border=\"1\" class=\"dataframe\">\n",
       "  <thead>\n",
       "    <tr style=\"text-align: right;\">\n",
       "      <th></th>\n",
       "      <th>Saleamount</th>\n",
       "    </tr>\n",
       "    <tr>\n",
       "      <th>Orderid</th>\n",
       "      <th></th>\n",
       "    </tr>\n",
       "  </thead>\n",
       "  <tbody>\n",
       "    <tr>\n",
       "      <th>11634060</th>\n",
       "      <td>101.79</td>\n",
       "    </tr>\n",
       "    <tr>\n",
       "      <th>11634119</th>\n",
       "      <td>174.69</td>\n",
       "    </tr>\n",
       "    <tr>\n",
       "      <th>11635494</th>\n",
       "      <td>107.76</td>\n",
       "    </tr>\n",
       "    <tr>\n",
       "      <th>11636452</th>\n",
       "      <td>291.48</td>\n",
       "    </tr>\n",
       "    <tr>\n",
       "      <th>11637581</th>\n",
       "      <td>184.15</td>\n",
       "    </tr>\n",
       "    <tr>\n",
       "      <th>...</th>\n",
       "      <td>...</td>\n",
       "    </tr>\n",
       "    <tr>\n",
       "      <th>11776990</th>\n",
       "      <td>177.54</td>\n",
       "    </tr>\n",
       "    <tr>\n",
       "      <th>11777034</th>\n",
       "      <td>90.71</td>\n",
       "    </tr>\n",
       "    <tr>\n",
       "      <th>11777068</th>\n",
       "      <td>282.69</td>\n",
       "    </tr>\n",
       "    <tr>\n",
       "      <th>11777397</th>\n",
       "      <td>171.73</td>\n",
       "    </tr>\n",
       "    <tr>\n",
       "      <th>11777500</th>\n",
       "      <td>265.39</td>\n",
       "    </tr>\n",
       "  </tbody>\n",
       "</table>\n",
       "<p>645 rows × 1 columns</p>\n",
       "</div>"
      ],
      "text/plain": [
       "          Saleamount\n",
       "Orderid             \n",
       "11634060      101.79\n",
       "11634119      174.69\n",
       "11635494      107.76\n",
       "11636452      291.48\n",
       "11637581      184.15\n",
       "...              ...\n",
       "11776990      177.54\n",
       "11777034       90.71\n",
       "11777068      282.69\n",
       "11777397      171.73\n",
       "11777500      265.39\n",
       "\n",
       "[645 rows x 1 columns]"
      ]
     },
     "execution_count": 46,
     "metadata": {},
     "output_type": "execute_result"
    }
   ],
   "source": [
    "temp2 = old.groupby('Orderid')['Saleamount'].mean()\n",
    "temp2_old = pd.DataFrame(temp2)\n",
    "temp2_old"
   ]
  },
  {
   "cell_type": "code",
   "execution_count": 47,
   "metadata": {
    "colab": {
     "base_uri": "https://localhost:8080/"
    },
    "id": "87xgu2BnbJKL",
    "outputId": "46c9a04d-b46c-4368-dd70-3a4774ef4a3d"
   },
   "outputs": [
    {
     "name": "stdout",
     "output_type": "stream",
     "text": [
      "267.57\n",
      "208.22\n"
     ]
    }
   ],
   "source": [
    "print(np.round(temp2_new['Saleamount'].mean(),2))\n",
    "print(np.round(temp2_old['Saleamount'].mean(),2))"
   ]
  },
  {
   "cell_type": "markdown",
   "metadata": {
    "id": "AFnHijQt4TyP"
   },
   "source": [
    "The average order sales for new customers' orders is 267.57 USD while the average order sales for old customers' orders is 208.22 USD."
   ]
  },
  {
   "cell_type": "markdown",
   "metadata": {
    "id": "xSk8BD0x4jG0"
   },
   "source": [
    "**d) (5 pts) Summarize how new and old customers differ along these three variables.**"
   ]
  },
  {
   "cell_type": "markdown",
   "metadata": {
    "id": "NsDZD7gW4o2q"
   },
   "source": [
    "The three variables used for the summary include the average number of days to convert, average number of touchpoints and average order sales for customers' orders. \n",
    "\n",
    "Old customers take approximately 27 days more to convert than new customers and they have a marginally higher number of touchpoints on average (old customers have 5.34 touchpoints on average while new customers have 4.32 touchpoints on average). However, the average order sales for new customers' is higher than that of old customers. This indicates that there might be some new customers who might be making bulk purchases, while old customers prefer to visit the site regularly to make smaller purchases. Old customers might prefer browsing on the website longer before making a purchase, which in turn leads to having more touchpoints when browsing longer on the site. "
   ]
  },
  {
   "cell_type": "markdown",
   "metadata": {
    "id": "Nbq2jdIWKp-_"
   },
   "source": [
    "**Q3. (20 pts) Consider the revenue per marketing channel using first-touch attribution.**\n",
    "\n",
    "**a) (10 pts) Create a table (as in Q1) containing the average sales per order as well as the total revenue by originator channel.**"
   ]
  },
  {
   "cell_type": "code",
   "execution_count": 48,
   "metadata": {
    "colab": {
     "base_uri": "https://localhost:8080/",
     "height": 483
    },
    "id": "2Q-uM5TuMGB8",
    "outputId": "1115aaf0-127a-49cd-a952-3c7ce8edd3cb"
   },
   "outputs": [
    {
     "data": {
      "text/html": [
       "<div>\n",
       "<style scoped>\n",
       "    .dataframe tbody tr th:only-of-type {\n",
       "        vertical-align: middle;\n",
       "    }\n",
       "\n",
       "    .dataframe tbody tr th {\n",
       "        vertical-align: top;\n",
       "    }\n",
       "\n",
       "    .dataframe thead th {\n",
       "        text-align: right;\n",
       "    }\n",
       "</style>\n",
       "<table border=\"1\" class=\"dataframe\">\n",
       "  <thead>\n",
       "    <tr style=\"text-align: right;\">\n",
       "      <th></th>\n",
       "      <th>avg_sale</th>\n",
       "      <th>total_revenue</th>\n",
       "    </tr>\n",
       "    <tr>\n",
       "      <th>Groupname</th>\n",
       "      <th></th>\n",
       "      <th></th>\n",
       "    </tr>\n",
       "  </thead>\n",
       "  <tbody>\n",
       "    <tr>\n",
       "      <th>BUZZ AFFILIATE</th>\n",
       "      <td>253.29</td>\n",
       "      <td>56990.67</td>\n",
       "    </tr>\n",
       "    <tr>\n",
       "      <th>CJ</th>\n",
       "      <td>249.26</td>\n",
       "      <td>21685.82</td>\n",
       "    </tr>\n",
       "    <tr>\n",
       "      <th>CPM</th>\n",
       "      <td>240.46</td>\n",
       "      <td>148603.61</td>\n",
       "    </tr>\n",
       "    <tr>\n",
       "      <th>DIRECT MAIL</th>\n",
       "      <td>170.98</td>\n",
       "      <td>170.98</td>\n",
       "    </tr>\n",
       "    <tr>\n",
       "      <th>OTHER</th>\n",
       "      <td>226.38</td>\n",
       "      <td>4527.62</td>\n",
       "    </tr>\n",
       "    <tr>\n",
       "      <th>PRINT - MAGAZINES</th>\n",
       "      <td>262.98</td>\n",
       "      <td>1051.91</td>\n",
       "    </tr>\n",
       "    <tr>\n",
       "      <th>SEARCH GOOGLE BRAND</th>\n",
       "      <td>243.89</td>\n",
       "      <td>115601.81</td>\n",
       "    </tr>\n",
       "    <tr>\n",
       "      <th>SEARCH GOOGLE NON-BRAND</th>\n",
       "      <td>245.82</td>\n",
       "      <td>13028.48</td>\n",
       "    </tr>\n",
       "    <tr>\n",
       "      <th>SEARCH MSN BRAND</th>\n",
       "      <td>246.33</td>\n",
       "      <td>28820.56</td>\n",
       "    </tr>\n",
       "    <tr>\n",
       "      <th>SEARCH MSN NON-BRAND</th>\n",
       "      <td>242.32</td>\n",
       "      <td>969.27</td>\n",
       "    </tr>\n",
       "    <tr>\n",
       "      <th>Social</th>\n",
       "      <td>165.00</td>\n",
       "      <td>165.00</td>\n",
       "    </tr>\n",
       "    <tr>\n",
       "      <th>TV</th>\n",
       "      <td>240.81</td>\n",
       "      <td>3371.29</td>\n",
       "    </tr>\n",
       "    <tr>\n",
       "      <th>Uncategorized</th>\n",
       "      <td>229.68</td>\n",
       "      <td>2067.08</td>\n",
       "    </tr>\n",
       "  </tbody>\n",
       "</table>\n",
       "</div>"
      ],
      "text/plain": [
       "                         avg_sale  total_revenue\n",
       "Groupname                                       \n",
       "BUZZ AFFILIATE             253.29       56990.67\n",
       "CJ                         249.26       21685.82\n",
       "CPM                        240.46      148603.61\n",
       "DIRECT MAIL                170.98         170.98\n",
       "OTHER                      226.38        4527.62\n",
       "PRINT - MAGAZINES          262.98        1051.91\n",
       "SEARCH GOOGLE BRAND        243.89      115601.81\n",
       "SEARCH GOOGLE NON-BRAND    245.82       13028.48\n",
       "SEARCH MSN BRAND           246.33       28820.56\n",
       "SEARCH MSN NON-BRAND       242.32         969.27\n",
       "Social                     165.00         165.00\n",
       "TV                         240.81        3371.29\n",
       "Uncategorized              229.68        2067.08"
      ]
     },
     "execution_count": 48,
     "metadata": {},
     "output_type": "execute_result"
    }
   ],
   "source": [
    "df1=pd.DataFrame(df.loc[df['Positionname']=='ORIGINATOR'])\n",
    "originator1 = pd.DataFrame(df1.groupby('Groupname')['Saleamount'].mean())\n",
    "originator2 = pd.DataFrame(df1.groupby('Groupname')['Saleamount'].sum())\n",
    "\n",
    "# merging the 2 tables \n",
    "merge_1 = np.round(pd.merge(originator1, originator2, how = 'outer', on = 'Groupname').fillna(0).rename(\n",
    "    columns={\"Saleamount_x\": \"avg_sale\", \"Saleamount_y\": \"total_revenue\"}), 2)\n",
    "merge_1"
   ]
  },
  {
   "cell_type": "markdown",
   "metadata": {
    "id": "XRnU8SuISfgd"
   },
   "source": [
    "**b) (5 pts) What is the total incremental gross revenue accruing to Winters by originator channel? Express your answer in a table. Assume that Winters has a gross margin of 40%. Also assume 5% of sales from branded search are incremental, and 10% sales are incremental for the remaining channels.**"
   ]
  },
  {
   "cell_type": "code",
   "execution_count": 49,
   "metadata": {
    "colab": {
     "base_uri": "https://localhost:8080/",
     "height": 483
    },
    "id": "WSAYLajkvh8n",
    "outputId": "a0dc08d2-d6bf-440b-d4d6-43b50ec116ad"
   },
   "outputs": [
    {
     "data": {
      "text/html": [
       "<div>\n",
       "<style scoped>\n",
       "    .dataframe tbody tr th:only-of-type {\n",
       "        vertical-align: middle;\n",
       "    }\n",
       "\n",
       "    .dataframe tbody tr th {\n",
       "        vertical-align: top;\n",
       "    }\n",
       "\n",
       "    .dataframe thead th {\n",
       "        text-align: right;\n",
       "    }\n",
       "</style>\n",
       "<table border=\"1\" class=\"dataframe\">\n",
       "  <thead>\n",
       "    <tr style=\"text-align: right;\">\n",
       "      <th></th>\n",
       "      <th>avg_sale</th>\n",
       "      <th>total_revenue</th>\n",
       "      <th>rate</th>\n",
       "      <th>incre_revenue</th>\n",
       "    </tr>\n",
       "    <tr>\n",
       "      <th>Groupname</th>\n",
       "      <th></th>\n",
       "      <th></th>\n",
       "      <th></th>\n",
       "      <th></th>\n",
       "    </tr>\n",
       "  </thead>\n",
       "  <tbody>\n",
       "    <tr>\n",
       "      <th>BUZZ AFFILIATE</th>\n",
       "      <td>253.29</td>\n",
       "      <td>56990.67</td>\n",
       "      <td>0.10</td>\n",
       "      <td>2279.63</td>\n",
       "    </tr>\n",
       "    <tr>\n",
       "      <th>CJ</th>\n",
       "      <td>249.26</td>\n",
       "      <td>21685.82</td>\n",
       "      <td>0.10</td>\n",
       "      <td>867.43</td>\n",
       "    </tr>\n",
       "    <tr>\n",
       "      <th>CPM</th>\n",
       "      <td>240.46</td>\n",
       "      <td>148603.61</td>\n",
       "      <td>0.10</td>\n",
       "      <td>5944.14</td>\n",
       "    </tr>\n",
       "    <tr>\n",
       "      <th>DIRECT MAIL</th>\n",
       "      <td>170.98</td>\n",
       "      <td>170.98</td>\n",
       "      <td>0.10</td>\n",
       "      <td>6.84</td>\n",
       "    </tr>\n",
       "    <tr>\n",
       "      <th>OTHER</th>\n",
       "      <td>226.38</td>\n",
       "      <td>4527.62</td>\n",
       "      <td>0.10</td>\n",
       "      <td>181.10</td>\n",
       "    </tr>\n",
       "    <tr>\n",
       "      <th>PRINT - MAGAZINES</th>\n",
       "      <td>262.98</td>\n",
       "      <td>1051.91</td>\n",
       "      <td>0.10</td>\n",
       "      <td>42.08</td>\n",
       "    </tr>\n",
       "    <tr>\n",
       "      <th>SEARCH GOOGLE BRAND</th>\n",
       "      <td>243.89</td>\n",
       "      <td>115601.81</td>\n",
       "      <td>0.05</td>\n",
       "      <td>2312.04</td>\n",
       "    </tr>\n",
       "    <tr>\n",
       "      <th>SEARCH GOOGLE NON-BRAND</th>\n",
       "      <td>245.82</td>\n",
       "      <td>13028.48</td>\n",
       "      <td>0.10</td>\n",
       "      <td>521.14</td>\n",
       "    </tr>\n",
       "    <tr>\n",
       "      <th>SEARCH MSN BRAND</th>\n",
       "      <td>246.33</td>\n",
       "      <td>28820.56</td>\n",
       "      <td>0.05</td>\n",
       "      <td>576.41</td>\n",
       "    </tr>\n",
       "    <tr>\n",
       "      <th>SEARCH MSN NON-BRAND</th>\n",
       "      <td>242.32</td>\n",
       "      <td>969.27</td>\n",
       "      <td>0.10</td>\n",
       "      <td>38.77</td>\n",
       "    </tr>\n",
       "    <tr>\n",
       "      <th>Social</th>\n",
       "      <td>165.00</td>\n",
       "      <td>165.00</td>\n",
       "      <td>0.10</td>\n",
       "      <td>6.60</td>\n",
       "    </tr>\n",
       "    <tr>\n",
       "      <th>TV</th>\n",
       "      <td>240.81</td>\n",
       "      <td>3371.29</td>\n",
       "      <td>0.10</td>\n",
       "      <td>134.85</td>\n",
       "    </tr>\n",
       "    <tr>\n",
       "      <th>Uncategorized</th>\n",
       "      <td>229.68</td>\n",
       "      <td>2067.08</td>\n",
       "      <td>0.10</td>\n",
       "      <td>82.68</td>\n",
       "    </tr>\n",
       "  </tbody>\n",
       "</table>\n",
       "</div>"
      ],
      "text/plain": [
       "                         avg_sale  total_revenue  rate  incre_revenue\n",
       "Groupname                                                            \n",
       "BUZZ AFFILIATE             253.29       56990.67  0.10        2279.63\n",
       "CJ                         249.26       21685.82  0.10         867.43\n",
       "CPM                        240.46      148603.61  0.10        5944.14\n",
       "DIRECT MAIL                170.98         170.98  0.10           6.84\n",
       "OTHER                      226.38        4527.62  0.10         181.10\n",
       "PRINT - MAGAZINES          262.98        1051.91  0.10          42.08\n",
       "SEARCH GOOGLE BRAND        243.89      115601.81  0.05        2312.04\n",
       "SEARCH GOOGLE NON-BRAND    245.82       13028.48  0.10         521.14\n",
       "SEARCH MSN BRAND           246.33       28820.56  0.05         576.41\n",
       "SEARCH MSN NON-BRAND       242.32         969.27  0.10          38.77\n",
       "Social                     165.00         165.00  0.10           6.60\n",
       "TV                         240.81        3371.29  0.10         134.85\n",
       "Uncategorized              229.68        2067.08  0.10          82.68"
      ]
     },
     "execution_count": 49,
     "metadata": {},
     "output_type": "execute_result"
    }
   ],
   "source": [
    "merge_2 = merge_1.copy()\n",
    "merge_2['rate'] = [0.1, 0.1, 0.1, 0.1, 0.1, 0.1, 0.05, 0.1, 0.05, 0.1, 0.1, 0.1, 0.1]\n",
    "merge_2['incre_revenue'] = np.round(merge_2['total_revenue'] * merge_2['rate'] * 0.4,2)\n",
    "merge_2"
   ]
  },
  {
   "cell_type": "markdown",
   "metadata": {
    "id": "4JB7b54eWD2s"
   },
   "source": [
    "**c) (5 pts) You just found out that Winters search ad team spent $4,200 on branded search advertising during the time period in the data. What is your advice to the search team based on the calculation above?**"
   ]
  },
  {
   "cell_type": "code",
   "execution_count": 50,
   "metadata": {
    "colab": {
     "base_uri": "https://localhost:8080/"
    },
    "id": "vhUA7Tcy0fUO",
    "outputId": "e4fae7fa-8dd2-4b9e-bef5-b026755019dc"
   },
   "outputs": [
    {
     "name": "stdout",
     "output_type": "stream",
     "text": [
      "2888.45\n"
     ]
    }
   ],
   "source": [
    "#calculating the sum of incremental revenue for the Search Google Brand and Search MSN Brand channels\n",
    "print(merge_2.iloc[6,3] + merge_2.iloc[8,3])"
   ]
  },
  {
   "cell_type": "code",
   "execution_count": 51,
   "metadata": {
    "colab": {
     "base_uri": "https://localhost:8080/"
    },
    "id": "cU3hPoT61eqQ",
    "outputId": "cdca7b07-cedb-485a-96c3-5c8ad0ad6b74"
   },
   "outputs": [
    {
     "name": "stdout",
     "output_type": "stream",
     "text": [
      "1311.55\n"
     ]
    }
   ],
   "source": [
    "# calculating the difference between the amount spent by the ad team and the incremental revenue for the Search Google Brand and Search MSN Brand channels\n",
    "print(np.round(4200-(merge_2.iloc[6,3] + merge_2.iloc[8,3]),2))"
   ]
  },
  {
   "cell_type": "markdown",
   "metadata": {
    "id": "QhROMicX1ZX8"
   },
   "source": [
    "The above calculations display that:\n",
    "\n",
    "- The total amount of incremental revenue for branded search advertising is $2888.45\n",
    "\n",
    "- The increment revenue for branded search advertising is lesser than the amount spent on branded search advertising by $1311.55, which indicates that the current strategy used (within the time period in the data) is not profitable. \n",
    "\n",
    "Based on these two points above, we would advice the search ad team to improve their current search ad strategy by:\n",
    "\n",
    "- Choose and match your keywords with prospective customers and leverage keyword research tools such as Google keyword planner and Moz keyword explorer\n",
    "- Include ad extensions by specifying all extension available which will improve quality score at no additional costs\n",
    "- Optimize ad content and landing page\n",
    "\n",
    "Alternatively, the team can also redirect their advertising spend on other channels that have higher incremental revenue growth."
   ]
  },
  {
   "cell_type": "markdown",
   "metadata": {
    "id": "kF3tATtOWHSL"
   },
   "source": [
    "**Q4. (25 pts) Linear/uniform attribution\n",
    "The linear attribution model divides the attribution share between touches equally. For example, an order with one CPM, one CJ, and one TV touchpoint will have place one third attribution share on each touch. This can be accomplished by using the Touches variable (see Q2) to define a new variable:\n",
    "LinearAttributionShare = 1 / Touches**"
   ]
  },
  {
   "cell_type": "markdown",
   "metadata": {
    "id": "IHcaujtfeYdN"
   },
   "source": [
    "**a) (10 pts) For each channel, what is the sum of the linear attribution shares? What is the corresponding share of credit (in percentage) according to the linear attribution model? Express your answer in a table like in Q1.**"
   ]
  },
  {
   "cell_type": "code",
   "execution_count": 52,
   "metadata": {
    "colab": {
     "base_uri": "https://localhost:8080/",
     "height": 483
    },
    "id": "TGscWGkVaacE",
    "outputId": "8bf07587-1fbd-481e-ba4a-2751b911302f"
   },
   "outputs": [
    {
     "data": {
      "text/html": [
       "<div>\n",
       "<style scoped>\n",
       "    .dataframe tbody tr th:only-of-type {\n",
       "        vertical-align: middle;\n",
       "    }\n",
       "\n",
       "    .dataframe tbody tr th {\n",
       "        vertical-align: top;\n",
       "    }\n",
       "\n",
       "    .dataframe thead th {\n",
       "        text-align: right;\n",
       "    }\n",
       "</style>\n",
       "<table border=\"1\" class=\"dataframe\">\n",
       "  <thead>\n",
       "    <tr style=\"text-align: right;\">\n",
       "      <th></th>\n",
       "      <th>LinearAttributionShare</th>\n",
       "      <th>Linear_ShareOfCredit %</th>\n",
       "    </tr>\n",
       "    <tr>\n",
       "      <th>Groupname</th>\n",
       "      <th></th>\n",
       "      <th></th>\n",
       "    </tr>\n",
       "  </thead>\n",
       "  <tbody>\n",
       "    <tr>\n",
       "      <th>BUZZ AFFILIATE</th>\n",
       "      <td>338.99</td>\n",
       "      <td>20.84</td>\n",
       "    </tr>\n",
       "    <tr>\n",
       "      <th>CJ</th>\n",
       "      <td>132.88</td>\n",
       "      <td>8.17</td>\n",
       "    </tr>\n",
       "    <tr>\n",
       "      <th>CPM</th>\n",
       "      <td>827.93</td>\n",
       "      <td>50.89</td>\n",
       "    </tr>\n",
       "    <tr>\n",
       "      <th>DIRECT MAIL</th>\n",
       "      <td>0.33</td>\n",
       "      <td>0.02</td>\n",
       "    </tr>\n",
       "    <tr>\n",
       "      <th>OTHER</th>\n",
       "      <td>8.11</td>\n",
       "      <td>0.50</td>\n",
       "    </tr>\n",
       "    <tr>\n",
       "      <th>PRINT - MAGAZINES</th>\n",
       "      <td>3.18</td>\n",
       "      <td>0.20</td>\n",
       "    </tr>\n",
       "    <tr>\n",
       "      <th>SEARCH GOOGLE BRAND</th>\n",
       "      <td>200.95</td>\n",
       "      <td>12.35</td>\n",
       "    </tr>\n",
       "    <tr>\n",
       "      <th>SEARCH GOOGLE NON-BRAND</th>\n",
       "      <td>31.50</td>\n",
       "      <td>1.94</td>\n",
       "    </tr>\n",
       "    <tr>\n",
       "      <th>SEARCH MSN BRAND</th>\n",
       "      <td>46.88</td>\n",
       "      <td>2.88</td>\n",
       "    </tr>\n",
       "    <tr>\n",
       "      <th>SEARCH MSN NON-BRAND</th>\n",
       "      <td>4.86</td>\n",
       "      <td>0.30</td>\n",
       "    </tr>\n",
       "    <tr>\n",
       "      <th>Social</th>\n",
       "      <td>0.38</td>\n",
       "      <td>0.02</td>\n",
       "    </tr>\n",
       "    <tr>\n",
       "      <th>TV</th>\n",
       "      <td>14.03</td>\n",
       "      <td>0.86</td>\n",
       "    </tr>\n",
       "    <tr>\n",
       "      <th>Uncategorized</th>\n",
       "      <td>16.99</td>\n",
       "      <td>1.04</td>\n",
       "    </tr>\n",
       "  </tbody>\n",
       "</table>\n",
       "</div>"
      ],
      "text/plain": [
       "                         LinearAttributionShare  Linear_ShareOfCredit %\n",
       "Groupname                                                              \n",
       "BUZZ AFFILIATE                           338.99                   20.84\n",
       "CJ                                       132.88                    8.17\n",
       "CPM                                      827.93                   50.89\n",
       "DIRECT MAIL                                0.33                    0.02\n",
       "OTHER                                      8.11                    0.50\n",
       "PRINT - MAGAZINES                          3.18                    0.20\n",
       "SEARCH GOOGLE BRAND                      200.95                   12.35\n",
       "SEARCH GOOGLE NON-BRAND                   31.50                    1.94\n",
       "SEARCH MSN BRAND                          46.88                    2.88\n",
       "SEARCH MSN NON-BRAND                       4.86                    0.30\n",
       "Social                                     0.38                    0.02\n",
       "TV                                        14.03                    0.86\n",
       "Uncategorized                             16.99                    1.04"
      ]
     },
     "execution_count": 52,
     "metadata": {},
     "output_type": "execute_result"
    }
   ],
   "source": [
    "temp = df.groupby('Orderid')['Position'].count()\n",
    "uniform_df = pd.DataFrame(temp)\n",
    "uniform_df['Touches'] = uniform_df['Position']\n",
    "uniform_df = uniform_df['Touches']\n",
    "uniform = pd.DataFrame(uniform_df)\n",
    "\n",
    "df_uniform = pd.merge(df, uniform, how = 'outer', on = 'Orderid').fillna(0)\n",
    "df_uniform['LinearAttributionShare'] = 1/(df_uniform.Touches)\n",
    "linear = pd.DataFrame(df_uniform.groupby('Groupname')['LinearAttributionShare'].sum())\n",
    "linear['Linear_ShareOfCredit %'] = linear['LinearAttributionShare']/sum(linear['LinearAttributionShare'])*100\n",
    "linear = np.round(linear, decimals=2)\n",
    "linear"
   ]
  },
  {
   "cell_type": "markdown",
   "metadata": {
    "id": "7xy07ltjefnU"
   },
   "source": [
    "**b) (10 pts) In a single bar chart, plot the share of credit (in percentage) for all three attribution models: first-touch, last-touch and linear.**"
   ]
  },
  {
   "cell_type": "code",
   "execution_count": 53,
   "metadata": {
    "colab": {
     "base_uri": "https://localhost:8080/",
     "height": 452
    },
    "id": "26zI20JBb93i",
    "outputId": "aeaea652-ff95-400e-f2c8-1c24248141e4"
   },
   "outputs": [
    {
     "data": {
      "text/html": [
       "<div>\n",
       "<style scoped>\n",
       "    .dataframe tbody tr th:only-of-type {\n",
       "        vertical-align: middle;\n",
       "    }\n",
       "\n",
       "    .dataframe tbody tr th {\n",
       "        vertical-align: top;\n",
       "    }\n",
       "\n",
       "    .dataframe thead th {\n",
       "        text-align: right;\n",
       "    }\n",
       "</style>\n",
       "<table border=\"1\" class=\"dataframe\">\n",
       "  <thead>\n",
       "    <tr style=\"text-align: right;\">\n",
       "      <th></th>\n",
       "      <th>index</th>\n",
       "      <th>FirstT_share%</th>\n",
       "      <th>LastT_share%</th>\n",
       "      <th>Linear_share%</th>\n",
       "    </tr>\n",
       "  </thead>\n",
       "  <tbody>\n",
       "    <tr>\n",
       "      <th>0</th>\n",
       "      <td>BUZZ AFFILIATE</td>\n",
       "      <td>13.83</td>\n",
       "      <td>29.87</td>\n",
       "      <td>20.84</td>\n",
       "    </tr>\n",
       "    <tr>\n",
       "      <th>1</th>\n",
       "      <td>CJ</td>\n",
       "      <td>5.35</td>\n",
       "      <td>13.77</td>\n",
       "      <td>8.17</td>\n",
       "    </tr>\n",
       "    <tr>\n",
       "      <th>2</th>\n",
       "      <td>CPM</td>\n",
       "      <td>37.98</td>\n",
       "      <td>51.01</td>\n",
       "      <td>50.89</td>\n",
       "    </tr>\n",
       "    <tr>\n",
       "      <th>3</th>\n",
       "      <td>OTHER</td>\n",
       "      <td>1.23</td>\n",
       "      <td>0.18</td>\n",
       "      <td>0.50</td>\n",
       "    </tr>\n",
       "    <tr>\n",
       "      <th>4</th>\n",
       "      <td>PRINT - MAGAZINES</td>\n",
       "      <td>0.25</td>\n",
       "      <td>0.18</td>\n",
       "      <td>0.20</td>\n",
       "    </tr>\n",
       "    <tr>\n",
       "      <th>5</th>\n",
       "      <td>SEARCH GOOGLE NON-BRAND</td>\n",
       "      <td>3.26</td>\n",
       "      <td>1.97</td>\n",
       "      <td>1.94</td>\n",
       "    </tr>\n",
       "    <tr>\n",
       "      <th>6</th>\n",
       "      <td>SEARCH MSN NON-BRAND</td>\n",
       "      <td>0.25</td>\n",
       "      <td>0.43</td>\n",
       "      <td>0.30</td>\n",
       "    </tr>\n",
       "    <tr>\n",
       "      <th>7</th>\n",
       "      <td>TV</td>\n",
       "      <td>0.86</td>\n",
       "      <td>1.23</td>\n",
       "      <td>0.86</td>\n",
       "    </tr>\n",
       "    <tr>\n",
       "      <th>8</th>\n",
       "      <td>Uncategorized</td>\n",
       "      <td>0.55</td>\n",
       "      <td>1.35</td>\n",
       "      <td>1.04</td>\n",
       "    </tr>\n",
       "    <tr>\n",
       "      <th>9</th>\n",
       "      <td>DIRECT MAIL</td>\n",
       "      <td>0.06</td>\n",
       "      <td>0.00</td>\n",
       "      <td>0.02</td>\n",
       "    </tr>\n",
       "    <tr>\n",
       "      <th>10</th>\n",
       "      <td>SEARCH GOOGLE BRAND</td>\n",
       "      <td>29.13</td>\n",
       "      <td>0.00</td>\n",
       "      <td>12.35</td>\n",
       "    </tr>\n",
       "    <tr>\n",
       "      <th>11</th>\n",
       "      <td>SEARCH MSN BRAND</td>\n",
       "      <td>7.19</td>\n",
       "      <td>0.00</td>\n",
       "      <td>2.88</td>\n",
       "    </tr>\n",
       "    <tr>\n",
       "      <th>12</th>\n",
       "      <td>Social</td>\n",
       "      <td>0.06</td>\n",
       "      <td>0.00</td>\n",
       "      <td>0.02</td>\n",
       "    </tr>\n",
       "  </tbody>\n",
       "</table>\n",
       "</div>"
      ],
      "text/plain": [
       "                      index  FirstT_share%  LastT_share%  Linear_share%\n",
       "0            BUZZ AFFILIATE          13.83         29.87          20.84\n",
       "1                        CJ           5.35         13.77           8.17\n",
       "2                       CPM          37.98         51.01          50.89\n",
       "3                     OTHER           1.23          0.18           0.50\n",
       "4         PRINT - MAGAZINES           0.25          0.18           0.20\n",
       "5   SEARCH GOOGLE NON-BRAND           3.26          1.97           1.94\n",
       "6      SEARCH MSN NON-BRAND           0.25          0.43           0.30\n",
       "7                        TV           0.86          1.23           0.86\n",
       "8             Uncategorized           0.55          1.35           1.04\n",
       "9               DIRECT MAIL           0.06          0.00           0.02\n",
       "10      SEARCH GOOGLE BRAND          29.13          0.00          12.35\n",
       "11         SEARCH MSN BRAND           7.19          0.00           2.88\n",
       "12                   Social           0.06          0.00           0.02"
      ]
     },
     "execution_count": 53,
     "metadata": {},
     "output_type": "execute_result"
    }
   ],
   "source": [
    "first_last['Channels'] = first_last['index']\n",
    "linear['Channels'] = linear.index\n",
    "merge_3= np.round(pd.merge(first_last, linear, how = 'outer', on = 'Channels').fillna(0), 2)\n",
    "merge_3['FirstT_share%'] = merge_3['Originator %']\n",
    "merge_3['LastT_share%'] = merge_3['Converter %']\n",
    "merge_3['Linear_share%'] = merge_3['Linear_ShareOfCredit %']\n",
    "merge_3 = merge_3[['index', 'FirstT_share%', 'LastT_share%', 'Linear_share%']]\n",
    "merge_3 = merge_3[:13]\n",
    "merge_3"
   ]
  },
  {
   "cell_type": "code",
   "execution_count": 54,
   "metadata": {
    "colab": {
     "base_uri": "https://localhost:8080/",
     "height": 664
    },
    "id": "VzgOHo8jfLx1",
    "outputId": "7b25b9db-cd22-44fb-cc60-4b1e2f4f7ee3"
   },
   "outputs": [
    {
     "data": {
      "text/plain": [
       "Text(0.5, 1.0, 'The share of credit (%) for all three attribution models')"
      ]
     },
     "execution_count": 54,
     "metadata": {},
     "output_type": "execute_result"
    },
    {
     "data": {
      "image/png": "[encoded data removed]",
      "text/plain": [
       "<Figure size 720x432 with 1 Axes>"
      ]
     },
     "metadata": {},
     "output_type": "display_data"
    }
   ],
   "source": [
    "merge_3[:13].plot(x='index', y=['FirstT_share%', 'LastT_share%', 'Linear_share%'], kind='bar', figsize=(10, 6))\n",
    "plt.xlabel('Groupname')\n",
    "plt.ylabel('Share of credit (%)')\n",
    "plt.title('The share of credit (%) for all three attribution models')"
   ]
  },
  {
   "cell_type": "markdown",
   "metadata": {
    "id": "MNLGYAyejNpe"
   },
   "source": [
    "**c) (5 pts) Compare the linear model to the first-touch and last-touch models.**"
   ]
  },
  {
   "cell_type": "markdown",
   "metadata": {
    "id": "uiplx46cjRWv"
   },
   "source": [
    "CPM holds the highest share of credit across all 3 models (~50% for last touch and linear models and 37.98% for the first touch model). The Buzz Affiliate channel nholds the second highest share of credit across both the linear and last touch models. Noticeably, both search channels (Google and MSN) only display share of credit across linear and first touch models. The linear model is the only attribution model that has share of credit across all 13 channels. \n",
    "\n",
    "The linear model has some disadvantages as well. While it assigns equal credits to each touchpoint, we lose the ability to examine the true impact of each touchpoint on the sale."
   ]
  },
  {
   "cell_type": "markdown",
   "metadata": {
    "id": "qvSVqkr3xbQm"
   },
   "source": [
    "**Q5. (30 pts) Examine the role of the intermediate (Roster and Assist) touch points.**\n",
    "\n",
    "**a) (10 pts) Focusing on the top channels, what is the proportion of each channel’s touchpoints by position name: 1) Originator, 2) Roster, 3) Assist, and 4) Converter. Show your result using a table like the following (with the exact top channels listed)**"
   ]
  },
  {
   "cell_type": "code",
   "execution_count": 55,
   "metadata": {
    "colab": {
     "base_uri": "https://localhost:8080/",
     "height": 297
    },
    "id": "7mz3lNr6tiC2",
    "outputId": "07f7ba3a-cbc3-4185-e254-6826eabdadd9"
   },
   "outputs": [
    {
     "data": {
      "text/html": [
       "<div>\n",
       "<style scoped>\n",
       "    .dataframe tbody tr th:only-of-type {\n",
       "        vertical-align: middle;\n",
       "    }\n",
       "\n",
       "    .dataframe tbody tr th {\n",
       "        vertical-align: top;\n",
       "    }\n",
       "\n",
       "    .dataframe thead th {\n",
       "        text-align: right;\n",
       "    }\n",
       "</style>\n",
       "<table border=\"1\" class=\"dataframe\">\n",
       "  <thead>\n",
       "    <tr style=\"text-align: right;\">\n",
       "      <th>Positionname</th>\n",
       "      <th>ASSIST</th>\n",
       "      <th>CONVERTER</th>\n",
       "      <th>ORIGINATOR</th>\n",
       "      <th>ROSTER</th>\n",
       "      <th>TOTAL</th>\n",
       "    </tr>\n",
       "    <tr>\n",
       "      <th>Groupname</th>\n",
       "      <th></th>\n",
       "      <th></th>\n",
       "      <th></th>\n",
       "      <th></th>\n",
       "      <th></th>\n",
       "    </tr>\n",
       "  </thead>\n",
       "  <tbody>\n",
       "    <tr>\n",
       "      <th>BUZZ AFFILIATE</th>\n",
       "      <td>18.83</td>\n",
       "      <td>34.54</td>\n",
       "      <td>15.99</td>\n",
       "      <td>30.63</td>\n",
       "      <td>100.0</td>\n",
       "    </tr>\n",
       "    <tr>\n",
       "      <th>CJ</th>\n",
       "      <td>16.48</td>\n",
       "      <td>42.91</td>\n",
       "      <td>16.67</td>\n",
       "      <td>23.95</td>\n",
       "      <td>100.0</td>\n",
       "    </tr>\n",
       "    <tr>\n",
       "      <th>CPM</th>\n",
       "      <td>18.08</td>\n",
       "      <td>18.76</td>\n",
       "      <td>13.97</td>\n",
       "      <td>49.19</td>\n",
       "      <td>100.0</td>\n",
       "    </tr>\n",
       "    <tr>\n",
       "      <th>SEARCH GOOGLE BRAND</th>\n",
       "      <td>12.77</td>\n",
       "      <td>0.00</td>\n",
       "      <td>59.32</td>\n",
       "      <td>27.91</td>\n",
       "      <td>100.0</td>\n",
       "    </tr>\n",
       "    <tr>\n",
       "      <th>SEARCH GOOGLE NON-BRAND</th>\n",
       "      <td>6.48</td>\n",
       "      <td>29.63</td>\n",
       "      <td>49.07</td>\n",
       "      <td>14.81</td>\n",
       "      <td>100.0</td>\n",
       "    </tr>\n",
       "    <tr>\n",
       "      <th>SEARCH MSN BRAND</th>\n",
       "      <td>7.60</td>\n",
       "      <td>0.00</td>\n",
       "      <td>68.42</td>\n",
       "      <td>23.98</td>\n",
       "      <td>100.0</td>\n",
       "    </tr>\n",
       "    <tr>\n",
       "      <th>TV</th>\n",
       "      <td>12.28</td>\n",
       "      <td>35.09</td>\n",
       "      <td>24.56</td>\n",
       "      <td>28.07</td>\n",
       "      <td>100.0</td>\n",
       "    </tr>\n",
       "  </tbody>\n",
       "</table>\n",
       "</div>"
      ],
      "text/plain": [
       "Positionname             ASSIST  CONVERTER  ORIGINATOR  ROSTER  TOTAL\n",
       "Groupname                                                            \n",
       "BUZZ AFFILIATE            18.83      34.54       15.99   30.63  100.0\n",
       "CJ                        16.48      42.91       16.67   23.95  100.0\n",
       "CPM                       18.08      18.76       13.97   49.19  100.0\n",
       "SEARCH GOOGLE BRAND       12.77       0.00       59.32   27.91  100.0\n",
       "SEARCH GOOGLE NON-BRAND    6.48      29.63       49.07   14.81  100.0\n",
       "SEARCH MSN BRAND           7.60       0.00       68.42   23.98  100.0\n",
       "TV                        12.28      35.09       24.56   28.07  100.0"
      ]
     },
     "execution_count": 55,
     "metadata": {},
     "output_type": "execute_result"
    }
   ],
   "source": [
    "filter_df = df[(df['Groupname'] == 'BUZZ AFFILIATE') | (df['Groupname'] == 'CJ') |  (df['Groupname'] == 'CPM') |  (df['Groupname'] == 'SEARCH GOOGLE BRAND') |  (df['Groupname'] == 'SEARCH GOOGLE NON-BRAND') |  (df['Groupname'] == 'SEARCH MSN BRAND') |  (df['Groupname'] == 'TV')]\n",
    "channel = pd.DataFrame(filter_df.groupby(['Groupname', 'Positionname'])['Position'].count())\n",
    "channel.reset_index(inplace=True)\n",
    "channel_pivot = channel.pivot(index='Groupname', columns='Positionname', values='Position')\n",
    "channel_pivot = channel_pivot.fillna(0)\n",
    "channel_pivot['Total_old'] = channel_pivot.ASSIST + channel_pivot.CONVERTER + channel_pivot.ORIGINATOR + channel_pivot.ROSTER\n",
    "channel_pivot['ASSIST'] = channel_pivot['ASSIST']/channel_pivot['Total_old']*100\n",
    "channel_pivot['CONVERTER'] = channel_pivot['CONVERTER']/channel_pivot['Total_old']*100\n",
    "channel_pivot['ORIGINATOR'] = channel_pivot['ORIGINATOR']/channel_pivot['Total_old']*100\n",
    "channel_pivot['ROSTER'] = channel_pivot['ROSTER']/channel_pivot['Total_old']*100\n",
    "channel_pivot['TOTAL'] = channel_pivot.ASSIST + channel_pivot.CONVERTER + channel_pivot.ORIGINATOR + channel_pivot.ROSTER\n",
    "channel_pivot.drop(columns=['Total_old'], inplace=True)\n",
    "channel_pivot = np.round(channel_pivot,2)\n",
    "channel_pivot"
   ]
  },
  {
   "cell_type": "markdown",
   "metadata": {
    "id": "2zi7Q899553y"
   },
   "source": [
    "**b) (10 pts) In a single bar chart, plot the share in percentage (y-axis) of touchpoint types by marketing channels (x-axis).**"
   ]
  },
  {
   "cell_type": "code",
   "execution_count": 56,
   "metadata": {
    "colab": {
     "base_uri": "https://localhost:8080/",
     "height": 664
    },
    "id": "W1oWZnvouZbL",
    "outputId": "72536e6a-5ca0-4897-f4e6-978245c1730b"
   },
   "outputs": [
    {
     "data": {
      "text/plain": [
       "Text(0.5, 1.0, 'The share in percentage of touchpoint types by marketing channels')"
      ]
     },
     "execution_count": 56,
     "metadata": {},
     "output_type": "execute_result"
    },
    {
     "data": {
      "image/png": "[encoded data removed]",
      "text/plain": [
       "<Figure size 720x432 with 1 Axes>"
      ]
     },
     "metadata": {},
     "output_type": "display_data"
    }
   ],
   "source": [
    "channel_pivot[['ASSIST', 'CONVERTER', 'ORIGINATOR', 'ROSTER']].plot(kind='bar', figsize=(10, 6))\n",
    "plt.ylabel('The share in percentage')\n",
    "plt.title('The share in percentage of touchpoint types by marketing channels')"
   ]
  },
  {
   "cell_type": "markdown",
   "metadata": {
    "id": "7LYc7A9l-7Tc"
   },
   "source": [
    "**c) (10 pts) Summarize the touch-point type results. Which channels seem to have relatively more or less of its touchpoints as rosters and assist?** \n",
    "\n",
    "\n",
    "All channels include 'rosters' and assist as 'touchpoints', as opposed to the 'converter', where both searches (MSN and Google) don't have any proportion of the 'converter' touchpoint. \n",
    "\n",
    "**Roster**\n",
    "\n",
    "*  The CPM, Buzz Affiliate, Search Google Brand and TV channels have a higher proportion of 'Rosters' as their touchpoints (49.18%, 30.63%, 27.91% and 28.07% respectively). \n",
    "*  The CJ, Search Google Non-Brand and Search MSN Brand channels have  lower proportion of 'Rosters' as their touchpoints (23.95%, 14.81% and 23.98% respectively). \n",
    "\n",
    "**Assist**\n",
    "\n",
    "*  The CPM, Buzz Affiliate and CJ channels have a higher proportion of 'Rosters' as their touchpoints (18.08%, 18.83% and 16.48% respectively). \n",
    "*  The Search Google Non-Brand, Search MSN Brand and TV channels have a lower proportion of 'Rosters' as their touchpoints (6.48%, 7.60% and 12.28% respectively). \n",
    "\n",
    "\n",
    "**Compared with linear attribution, which of these channels would receive too much or too little credit under first- and lasttouch attribution?**\n",
    "\n",
    "*  The graph in 4b) displays that the channels with the highest share of credit based on the linear attribution model include CPM, Buzz Affiliates and Search Google Brand (50.88%, 20.84% and 12.35% respectively). \n",
    "*  In the above graph, we notice that the channels with the highest proportion of 'Originator' (first touch attribution) include Search Google Brand, Search Google Non Brand and Search MSN Brand, out of which the only overlap between this and the share of credit in the linear attribution model is with the Search Google Brand channel. The Search Google Brand channel has the second highest proportion of 'Originators' as its touchpoint, and the linear attribution model displays a slightly high share of credit for this channel (12.35%).\n",
    "*  In the above graph, we notice that the channels with the highest proportion of 'Convertor' (last touch attribution) include CJ, Buzz Affiliate, Search Google Non-Brand and TV, out of which the only overlap between this and the share of credit in the linear attribution model is with the Buzz Affiliates. The Buzz Affiliates channel has the third highest proportion of 'Convertors' as its touchpoint, and the linear attribution model displays a high share of credit for this channel (20.84%).\n",
    "*  The CPM channel has relatively low proportions of 'Originator' and 'Convertor' as touchpoints, as compared to the linear attribution model which displays the highest share of credit for this channel (50.88%)."
   ]
  },
  {
   "cell_type": "markdown",
   "metadata": {
    "id": "Skr3HOhmxZgg"
   },
   "source": [
    "\n",
    "\n",
    "---\n"
   ]
  }
 ],
 "metadata": {
  "colab": {
   "collapsed_sections": [],
   "name": "Assignment 3.ipynb",
   "provenance": []
  },
  "kernelspec": {
   "display_name": "Python 3",
   "language": "python",
   "name": "python3"
  },
  "language_info": {
   "codemirror_mode": {
    "name": "ipython",
    "version": 3
   },
   "file_extension": ".py",
   "mimetype": "text/x-python",
   "name": "python",
   "nbconvert_exporter": "python",
   "pygments_lexer": "ipython3",
   "version": "3.7.6"
  }
 },
 "nbformat": 4,
 "nbformat_minor": 1
}
