{
  "nbformat": 4,
  "nbformat_minor": 0,
  "metadata": {
    "colab": {
      "name": "Assignment 3.ipynb",
      "provenance": [],
      "collapsed_sections": []
    },
    "kernelspec": {
      "name": "python3",
      "display_name": "Python 3"
    },
    "language_info": {
      "name": "python"
    }
  },
  "cells": [
    {
      "cell_type": "code",
      "metadata": {
        "id": "m73cebXjdUDB"
      },
      "source": [
        "import pandas as pd, numpy as np, os, warnings, seaborn as sns, matplotlib.pyplot as plt, matplotlib\n",
        "from datetime import datetime\n",
        "\n",
        "warnings.simplefilter(action='ignore', category=FutureWarning) \n",
        "pd.options.mode.chained_assignment = None\n",
        "get_ipython().run_line_magic('matplotlib', 'inline')\n",
        "plt.style.use('seaborn')\n",
        "sns.set_color_codes('colorblind')\n",
        "matplotlib.rcParams.update({'font.size': 14}) \n",
        "matplotlib.rcParams.update({'xtick.labelsize':16})\n",
        "matplotlib.rcParams.update({'ytick.labelsize':16})\n",
        "matplotlib.rcParams.update({'axes.labelsize':16})\n",
        "matplotlib.rcParams.update({'axes.titlesize':20})\n",
        "matplotlib.rcParams.update({'legend.fontsize': 16}) \n",
        "sns.set_style('white')"
      ],
      "execution_count": 1,
      "outputs": []
    },
    {
      "cell_type": "code",
      "metadata": {
        "id": "fSAtRRFrdpPU"
      },
      "source": [
        "url = '/content/Winters-Attribution-PS3.csv'\n",
        "df = pd.read_csv(url)"
      ],
      "execution_count": 2,
      "outputs": []
    },
    {
      "cell_type": "code",
      "metadata": {
        "colab": {
          "base_uri": "https://localhost:8080/",
          "height": 326
        },
        "id": "E3uPjjabeJm-",
        "outputId": "bf98c0f2-5619-447b-fd88-940f59e7a710"
      },
      "source": [
        "df.head(5)"
      ],
      "execution_count": 3,
      "outputs": [
        {
          "output_type": "execute_result",
          "data": {
            "text/html": [
              "<div>\n",
              "<style scoped>\n",
              "    .dataframe tbody tr th:only-of-type {\n",
              "        vertical-align: middle;\n",
              "    }\n",
              "\n",
              "    .dataframe tbody tr th {\n",
              "        vertical-align: top;\n",
              "    }\n",
              "\n",
              "    .dataframe thead th {\n",
              "        text-align: right;\n",
              "    }\n",
              "</style>\n",
              "<table border=\"1\" class=\"dataframe\">\n",
              "  <thead>\n",
              "    <tr style=\"text-align: right;\">\n",
              "      <th></th>\n",
              "      <th>Unnamed: 0</th>\n",
              "      <th>Orderid</th>\n",
              "      <th>Orderdatetime</th>\n",
              "      <th>Saleamount</th>\n",
              "      <th>Newcustomer</th>\n",
              "      <th>Position</th>\n",
              "      <th>Positiondatetime</th>\n",
              "      <th>Groupname</th>\n",
              "      <th>Networkname</th>\n",
              "      <th>Networkid</th>\n",
              "      <th>Brand</th>\n",
              "      <th>Positionname</th>\n",
              "      <th>DaysToConvert</th>\n",
              "    </tr>\n",
              "  </thead>\n",
              "  <tbody>\n",
              "    <tr>\n",
              "      <th>0</th>\n",
              "      <td>1</td>\n",
              "      <td>11634052</td>\n",
              "      <td>2012-05-01 4:24</td>\n",
              "      <td>341.5</td>\n",
              "      <td>Y</td>\n",
              "      <td>1</td>\n",
              "      <td>2012-05-01 3:49</td>\n",
              "      <td>BUZZ AFFILIATE</td>\n",
              "      <td>Buzz CPA Affiliate</td>\n",
              "      <td>buzz23</td>\n",
              "      <td>N</td>\n",
              "      <td>CONVERTER</td>\n",
              "      <td>0</td>\n",
              "    </tr>\n",
              "    <tr>\n",
              "      <th>1</th>\n",
              "      <td>2</td>\n",
              "      <td>11634052</td>\n",
              "      <td>2012-05-01 4:24</td>\n",
              "      <td>341.5</td>\n",
              "      <td>Y</td>\n",
              "      <td>0</td>\n",
              "      <td>2012-05-01 3:47</td>\n",
              "      <td>SEARCH GOOGLE BRAND</td>\n",
              "      <td>G: Medifast Brand Terms &gt; Medifast &gt;</td>\n",
              "      <td>g000793</td>\n",
              "      <td>Y</td>\n",
              "      <td>ORIGINATOR</td>\n",
              "      <td>0</td>\n",
              "    </tr>\n",
              "    <tr>\n",
              "      <th>2</th>\n",
              "      <td>3</td>\n",
              "      <td>11634059</td>\n",
              "      <td>2012-05-01 4:08</td>\n",
              "      <td>339.0</td>\n",
              "      <td>Y</td>\n",
              "      <td>2</td>\n",
              "      <td>2012-04-29 21:01</td>\n",
              "      <td>PRINT - MAGAZINES</td>\n",
              "      <td>Medifastok.com</td>\n",
              "      <td>medifastok.com</td>\n",
              "      <td>N</td>\n",
              "      <td>CONVERTER</td>\n",
              "      <td>2</td>\n",
              "    </tr>\n",
              "    <tr>\n",
              "      <th>3</th>\n",
              "      <td>4</td>\n",
              "      <td>11634059</td>\n",
              "      <td>2012-05-01 4:08</td>\n",
              "      <td>339.0</td>\n",
              "      <td>Y</td>\n",
              "      <td>1</td>\n",
              "      <td>2012-04-24 5:29</td>\n",
              "      <td>CPM</td>\n",
              "      <td>Armonix</td>\n",
              "      <td>nar7467</td>\n",
              "      <td>N</td>\n",
              "      <td>ASSIST</td>\n",
              "      <td>7</td>\n",
              "    </tr>\n",
              "    <tr>\n",
              "      <th>4</th>\n",
              "      <td>5</td>\n",
              "      <td>11634059</td>\n",
              "      <td>2012-05-01 4:08</td>\n",
              "      <td>339.0</td>\n",
              "      <td>Y</td>\n",
              "      <td>0</td>\n",
              "      <td>2012-04-23 2:46</td>\n",
              "      <td>PRINT - MAGAZINES</td>\n",
              "      <td>Medifastok.com</td>\n",
              "      <td>medifastok.com</td>\n",
              "      <td>N</td>\n",
              "      <td>ORIGINATOR</td>\n",
              "      <td>8</td>\n",
              "    </tr>\n",
              "  </tbody>\n",
              "</table>\n",
              "</div>"
            ],
            "text/plain": [
              "   Unnamed: 0   Orderid    Orderdatetime  ...  Brand Positionname  DaysToConvert\n",
              "0           1  11634052  2012-05-01 4:24  ...      N    CONVERTER              0\n",
              "1           2  11634052  2012-05-01 4:24  ...      Y   ORIGINATOR              0\n",
              "2           3  11634059  2012-05-01 4:08  ...      N    CONVERTER              2\n",
              "3           4  11634059  2012-05-01 4:08  ...      N       ASSIST              7\n",
              "4           5  11634059  2012-05-01 4:08  ...      N   ORIGINATOR              8\n",
              "\n",
              "[5 rows x 13 columns]"
            ]
          },
          "metadata": {
            "tags": []
          },
          "execution_count": 3
        }
      ]
    },
    {
      "cell_type": "code",
      "metadata": {
        "id": "WKgnVPd1e8CM"
      },
      "source": [
        "df = df[['Orderid', 'Orderdatetime', 'Saleamount', 'Newcustomer',\n",
        "       'Position', 'Positiondatetime', 'Groupname', 'Networkname', 'Networkid',\n",
        "       'Brand', 'Positionname', 'DaysToConvert']]"
      ],
      "execution_count": 8,
      "outputs": []
    },
    {
      "cell_type": "code",
      "metadata": {
        "colab": {
          "base_uri": "https://localhost:8080/"
        },
        "id": "5Y7lUJl-eXys",
        "outputId": "16f98725-eaf0-49aa-ebd1-a9356ca08975"
      },
      "source": [
        "print('Time range: ', df['Orderdatetime'].min(), 'to', df['Orderdatetime'].max())\n",
        "print('Number of touchpoints:', len(df))\n",
        "print('Number of orders:', len(df['Orderid'].unique()))\n",
        "print('Number of touchpoints per order:', np.round(len(df)/len(df['Orderid'].unique()), 2))"
      ],
      "execution_count": 9,
      "outputs": [
        {
          "output_type": "stream",
          "text": [
            "Time range:  2012-05-01 10:04 to 2012-06-01 3:45\n",
            "Number of touchpoints: 7624\n",
            "Number of orders: 1627\n",
            "Number of touchpoints per order: 4.69\n"
          ],
          "name": "stdout"
        }
      ]
    },
    {
      "cell_type": "code",
      "metadata": {
        "colab": {
          "base_uri": "https://localhost:8080/"
        },
        "id": "UH9_Hzw6euSE",
        "outputId": "7aaadad7-6dbf-4101-9625-944019613e19"
      },
      "source": [
        "df.Positionname.unique()"
      ],
      "execution_count": 10,
      "outputs": [
        {
          "output_type": "execute_result",
          "data": {
            "text/plain": [
              "array(['CONVERTER', 'ORIGINATOR', 'ASSIST', 'ROSTER'], dtype=object)"
            ]
          },
          "metadata": {
            "tags": []
          },
          "execution_count": 10
        }
      ]
    },
    {
      "cell_type": "markdown",
      "metadata": {
        "id": "j6i4sWY1faNP"
      },
      "source": [
        "**Q1. (30 pts) Compare first-touch vs. last-touch attribution models**\n",
        "\n",
        "**a) (10 pts) What is the number of orders attributed to each channel using a last-touch model? What about the number of orders attributed to each channel using a first-touch model? What is the corresponding share of credit from the two attribution models?** "
      ]
    },
    {
      "cell_type": "code",
      "metadata": {
        "colab": {
          "base_uri": "https://localhost:8080/",
          "height": 331
        },
        "id": "jhv7lSeWfedS",
        "outputId": "a23d3289-af99-481c-c681-bdcc4246da12"
      },
      "source": [
        "# calculating the count per channel by last touch\n",
        "num_order = len(df['Orderid'].unique())\n",
        "T_last_count = pd.DataFrame(df.loc[df['Positionname']=='CONVERTER', \n",
        "                             'Groupname'].value_counts()).reset_index().sort_values('index')\n",
        "np.round(T_last_count,3)"
      ],
      "execution_count": 31,
      "outputs": [
        {
          "output_type": "execute_result",
          "data": {
            "text/html": [
              "<div>\n",
              "<style scoped>\n",
              "    .dataframe tbody tr th:only-of-type {\n",
              "        vertical-align: middle;\n",
              "    }\n",
              "\n",
              "    .dataframe tbody tr th {\n",
              "        vertical-align: top;\n",
              "    }\n",
              "\n",
              "    .dataframe thead th {\n",
              "        text-align: right;\n",
              "    }\n",
              "</style>\n",
              "<table border=\"1\" class=\"dataframe\">\n",
              "  <thead>\n",
              "    <tr style=\"text-align: right;\">\n",
              "      <th></th>\n",
              "      <th>index</th>\n",
              "      <th>Groupname</th>\n",
              "    </tr>\n",
              "  </thead>\n",
              "  <tbody>\n",
              "    <tr>\n",
              "      <th>1</th>\n",
              "      <td>BUZZ AFFILIATE</td>\n",
              "      <td>486</td>\n",
              "    </tr>\n",
              "    <tr>\n",
              "      <th>2</th>\n",
              "      <td>CJ</td>\n",
              "      <td>224</td>\n",
              "    </tr>\n",
              "    <tr>\n",
              "      <th>0</th>\n",
              "      <td>CPM</td>\n",
              "      <td>830</td>\n",
              "    </tr>\n",
              "    <tr>\n",
              "      <th>7</th>\n",
              "      <td>OTHER</td>\n",
              "      <td>3</td>\n",
              "    </tr>\n",
              "    <tr>\n",
              "      <th>8</th>\n",
              "      <td>PRINT - MAGAZINES</td>\n",
              "      <td>3</td>\n",
              "    </tr>\n",
              "    <tr>\n",
              "      <th>3</th>\n",
              "      <td>SEARCH GOOGLE NON-BRAND</td>\n",
              "      <td>32</td>\n",
              "    </tr>\n",
              "    <tr>\n",
              "      <th>6</th>\n",
              "      <td>SEARCH MSN NON-BRAND</td>\n",
              "      <td>7</td>\n",
              "    </tr>\n",
              "    <tr>\n",
              "      <th>5</th>\n",
              "      <td>TV</td>\n",
              "      <td>20</td>\n",
              "    </tr>\n",
              "    <tr>\n",
              "      <th>4</th>\n",
              "      <td>Uncategorized</td>\n",
              "      <td>22</td>\n",
              "    </tr>\n",
              "  </tbody>\n",
              "</table>\n",
              "</div>"
            ],
            "text/plain": [
              "                     index  Groupname\n",
              "1           BUZZ AFFILIATE        486\n",
              "2                       CJ        224\n",
              "0                      CPM        830\n",
              "7                    OTHER          3\n",
              "8        PRINT - MAGAZINES          3\n",
              "3  SEARCH GOOGLE NON-BRAND         32\n",
              "6     SEARCH MSN NON-BRAND          7\n",
              "5                       TV         20\n",
              "4            Uncategorized         22"
            ]
          },
          "metadata": {
            "tags": []
          },
          "execution_count": 31
        }
      ]
    },
    {
      "cell_type": "code",
      "metadata": {
        "colab": {
          "base_uri": "https://localhost:8080/",
          "height": 331
        },
        "id": "ufccavwngq_8",
        "outputId": "3c729944-a2e2-408d-fa45-62aee5d7c785"
      },
      "source": [
        "# calculating the percentage per channel by last touch\n",
        "num_order = len(df['Orderid'].unique())\n",
        "T_last_percent = pd.DataFrame((df.loc[df['Positionname']=='CONVERTER', \n",
        "                             'Groupname'].value_counts()/num_order)*100).reset_index().sort_values('index')\n",
        "np.round(T_last_percent,3)"
      ],
      "execution_count": 32,
      "outputs": [
        {
          "output_type": "execute_result",
          "data": {
            "text/html": [
              "<div>\n",
              "<style scoped>\n",
              "    .dataframe tbody tr th:only-of-type {\n",
              "        vertical-align: middle;\n",
              "    }\n",
              "\n",
              "    .dataframe tbody tr th {\n",
              "        vertical-align: top;\n",
              "    }\n",
              "\n",
              "    .dataframe thead th {\n",
              "        text-align: right;\n",
              "    }\n",
              "</style>\n",
              "<table border=\"1\" class=\"dataframe\">\n",
              "  <thead>\n",
              "    <tr style=\"text-align: right;\">\n",
              "      <th></th>\n",
              "      <th>index</th>\n",
              "      <th>Groupname</th>\n",
              "    </tr>\n",
              "  </thead>\n",
              "  <tbody>\n",
              "    <tr>\n",
              "      <th>1</th>\n",
              "      <td>BUZZ AFFILIATE</td>\n",
              "      <td>29.871</td>\n",
              "    </tr>\n",
              "    <tr>\n",
              "      <th>2</th>\n",
              "      <td>CJ</td>\n",
              "      <td>13.768</td>\n",
              "    </tr>\n",
              "    <tr>\n",
              "      <th>0</th>\n",
              "      <td>CPM</td>\n",
              "      <td>51.014</td>\n",
              "    </tr>\n",
              "    <tr>\n",
              "      <th>7</th>\n",
              "      <td>OTHER</td>\n",
              "      <td>0.184</td>\n",
              "    </tr>\n",
              "    <tr>\n",
              "      <th>8</th>\n",
              "      <td>PRINT - MAGAZINES</td>\n",
              "      <td>0.184</td>\n",
              "    </tr>\n",
              "    <tr>\n",
              "      <th>3</th>\n",
              "      <td>SEARCH GOOGLE NON-BRAND</td>\n",
              "      <td>1.967</td>\n",
              "    </tr>\n",
              "    <tr>\n",
              "      <th>6</th>\n",
              "      <td>SEARCH MSN NON-BRAND</td>\n",
              "      <td>0.430</td>\n",
              "    </tr>\n",
              "    <tr>\n",
              "      <th>5</th>\n",
              "      <td>TV</td>\n",
              "      <td>1.229</td>\n",
              "    </tr>\n",
              "    <tr>\n",
              "      <th>4</th>\n",
              "      <td>Uncategorized</td>\n",
              "      <td>1.352</td>\n",
              "    </tr>\n",
              "  </tbody>\n",
              "</table>\n",
              "</div>"
            ],
            "text/plain": [
              "                     index  Groupname\n",
              "1           BUZZ AFFILIATE     29.871\n",
              "2                       CJ     13.768\n",
              "0                      CPM     51.014\n",
              "7                    OTHER      0.184\n",
              "8        PRINT - MAGAZINES      0.184\n",
              "3  SEARCH GOOGLE NON-BRAND      1.967\n",
              "6     SEARCH MSN NON-BRAND      0.430\n",
              "5                       TV      1.229\n",
              "4            Uncategorized      1.352"
            ]
          },
          "metadata": {
            "tags": []
          },
          "execution_count": 32
        }
      ]
    },
    {
      "cell_type": "code",
      "metadata": {
        "colab": {
          "base_uri": "https://localhost:8080/",
          "height": 455
        },
        "id": "2AofZwTchCLP",
        "outputId": "3cc37e6f-99ae-45be-ec7a-dfba41263964"
      },
      "source": [
        "# calculating the count per channel by first touch\n",
        "num_order = len(df['Orderid'].unique())\n",
        "T_first_count = pd.DataFrame(df.loc[df['Positionname']=='ORIGINATOR', \n",
        "                             'Groupname'].value_counts()).reset_index().sort_values('index')\n",
        "np.round(T_first_count,3)"
      ],
      "execution_count": 40,
      "outputs": [
        {
          "output_type": "execute_result",
          "data": {
            "text/html": [
              "<div>\n",
              "<style scoped>\n",
              "    .dataframe tbody tr th:only-of-type {\n",
              "        vertical-align: middle;\n",
              "    }\n",
              "\n",
              "    .dataframe tbody tr th {\n",
              "        vertical-align: top;\n",
              "    }\n",
              "\n",
              "    .dataframe thead th {\n",
              "        text-align: right;\n",
              "    }\n",
              "</style>\n",
              "<table border=\"1\" class=\"dataframe\">\n",
              "  <thead>\n",
              "    <tr style=\"text-align: right;\">\n",
              "      <th></th>\n",
              "      <th>index</th>\n",
              "      <th>Groupname</th>\n",
              "    </tr>\n",
              "  </thead>\n",
              "  <tbody>\n",
              "    <tr>\n",
              "      <th>2</th>\n",
              "      <td>BUZZ AFFILIATE</td>\n",
              "      <td>225</td>\n",
              "    </tr>\n",
              "    <tr>\n",
              "      <th>4</th>\n",
              "      <td>CJ</td>\n",
              "      <td>87</td>\n",
              "    </tr>\n",
              "    <tr>\n",
              "      <th>0</th>\n",
              "      <td>CPM</td>\n",
              "      <td>618</td>\n",
              "    </tr>\n",
              "    <tr>\n",
              "      <th>11</th>\n",
              "      <td>DIRECT MAIL</td>\n",
              "      <td>1</td>\n",
              "    </tr>\n",
              "    <tr>\n",
              "      <th>6</th>\n",
              "      <td>OTHER</td>\n",
              "      <td>20</td>\n",
              "    </tr>\n",
              "    <tr>\n",
              "      <th>10</th>\n",
              "      <td>PRINT - MAGAZINES</td>\n",
              "      <td>4</td>\n",
              "    </tr>\n",
              "    <tr>\n",
              "      <th>1</th>\n",
              "      <td>SEARCH GOOGLE BRAND</td>\n",
              "      <td>474</td>\n",
              "    </tr>\n",
              "    <tr>\n",
              "      <th>5</th>\n",
              "      <td>SEARCH GOOGLE NON-BRAND</td>\n",
              "      <td>53</td>\n",
              "    </tr>\n",
              "    <tr>\n",
              "      <th>3</th>\n",
              "      <td>SEARCH MSN BRAND</td>\n",
              "      <td>117</td>\n",
              "    </tr>\n",
              "    <tr>\n",
              "      <th>9</th>\n",
              "      <td>SEARCH MSN NON-BRAND</td>\n",
              "      <td>4</td>\n",
              "    </tr>\n",
              "    <tr>\n",
              "      <th>12</th>\n",
              "      <td>Social</td>\n",
              "      <td>1</td>\n",
              "    </tr>\n",
              "    <tr>\n",
              "      <th>7</th>\n",
              "      <td>TV</td>\n",
              "      <td>14</td>\n",
              "    </tr>\n",
              "    <tr>\n",
              "      <th>8</th>\n",
              "      <td>Uncategorized</td>\n",
              "      <td>9</td>\n",
              "    </tr>\n",
              "  </tbody>\n",
              "</table>\n",
              "</div>"
            ],
            "text/plain": [
              "                      index  Groupname\n",
              "2            BUZZ AFFILIATE        225\n",
              "4                        CJ         87\n",
              "0                       CPM        618\n",
              "11              DIRECT MAIL          1\n",
              "6                     OTHER         20\n",
              "10        PRINT - MAGAZINES          4\n",
              "1       SEARCH GOOGLE BRAND        474\n",
              "5   SEARCH GOOGLE NON-BRAND         53\n",
              "3          SEARCH MSN BRAND        117\n",
              "9      SEARCH MSN NON-BRAND          4\n",
              "12                   Social          1\n",
              "7                        TV         14\n",
              "8             Uncategorized          9"
            ]
          },
          "metadata": {
            "tags": []
          },
          "execution_count": 40
        }
      ]
    },
    {
      "cell_type": "code",
      "metadata": {
        "colab": {
          "base_uri": "https://localhost:8080/",
          "height": 455
        },
        "id": "9_6M7eAff4Ws",
        "outputId": "f0b5543a-95f0-4787-dea1-939c241e943b"
      },
      "source": [
        "# calculating the percentage per channel by first touch\n",
        "num_order = len(df['Orderid'].unique())\n",
        "T_first_percent = pd.DataFrame(df.loc[df['Positionname']=='ORIGINATOR', \n",
        "                             'Groupname'].value_counts()/num_order\n",
        "                             *100).reset_index().sort_values('index')\n",
        "np.round(T_first_percent,3)"
      ],
      "execution_count": 41,
      "outputs": [
        {
          "output_type": "execute_result",
          "data": {
            "text/html": [
              "<div>\n",
              "<style scoped>\n",
              "    .dataframe tbody tr th:only-of-type {\n",
              "        vertical-align: middle;\n",
              "    }\n",
              "\n",
              "    .dataframe tbody tr th {\n",
              "        vertical-align: top;\n",
              "    }\n",
              "\n",
              "    .dataframe thead th {\n",
              "        text-align: right;\n",
              "    }\n",
              "</style>\n",
              "<table border=\"1\" class=\"dataframe\">\n",
              "  <thead>\n",
              "    <tr style=\"text-align: right;\">\n",
              "      <th></th>\n",
              "      <th>index</th>\n",
              "      <th>Groupname</th>\n",
              "    </tr>\n",
              "  </thead>\n",
              "  <tbody>\n",
              "    <tr>\n",
              "      <th>2</th>\n",
              "      <td>BUZZ AFFILIATE</td>\n",
              "      <td>13.829</td>\n",
              "    </tr>\n",
              "    <tr>\n",
              "      <th>4</th>\n",
              "      <td>CJ</td>\n",
              "      <td>5.347</td>\n",
              "    </tr>\n",
              "    <tr>\n",
              "      <th>0</th>\n",
              "      <td>CPM</td>\n",
              "      <td>37.984</td>\n",
              "    </tr>\n",
              "    <tr>\n",
              "      <th>11</th>\n",
              "      <td>DIRECT MAIL</td>\n",
              "      <td>0.061</td>\n",
              "    </tr>\n",
              "    <tr>\n",
              "      <th>6</th>\n",
              "      <td>OTHER</td>\n",
              "      <td>1.229</td>\n",
              "    </tr>\n",
              "    <tr>\n",
              "      <th>10</th>\n",
              "      <td>PRINT - MAGAZINES</td>\n",
              "      <td>0.246</td>\n",
              "    </tr>\n",
              "    <tr>\n",
              "      <th>1</th>\n",
              "      <td>SEARCH GOOGLE BRAND</td>\n",
              "      <td>29.133</td>\n",
              "    </tr>\n",
              "    <tr>\n",
              "      <th>5</th>\n",
              "      <td>SEARCH GOOGLE NON-BRAND</td>\n",
              "      <td>3.258</td>\n",
              "    </tr>\n",
              "    <tr>\n",
              "      <th>3</th>\n",
              "      <td>SEARCH MSN BRAND</td>\n",
              "      <td>7.191</td>\n",
              "    </tr>\n",
              "    <tr>\n",
              "      <th>9</th>\n",
              "      <td>SEARCH MSN NON-BRAND</td>\n",
              "      <td>0.246</td>\n",
              "    </tr>\n",
              "    <tr>\n",
              "      <th>12</th>\n",
              "      <td>Social</td>\n",
              "      <td>0.061</td>\n",
              "    </tr>\n",
              "    <tr>\n",
              "      <th>7</th>\n",
              "      <td>TV</td>\n",
              "      <td>0.860</td>\n",
              "    </tr>\n",
              "    <tr>\n",
              "      <th>8</th>\n",
              "      <td>Uncategorized</td>\n",
              "      <td>0.553</td>\n",
              "    </tr>\n",
              "  </tbody>\n",
              "</table>\n",
              "</div>"
            ],
            "text/plain": [
              "                      index  Groupname\n",
              "2            BUZZ AFFILIATE     13.829\n",
              "4                        CJ      5.347\n",
              "0                       CPM     37.984\n",
              "11              DIRECT MAIL      0.061\n",
              "6                     OTHER      1.229\n",
              "10        PRINT - MAGAZINES      0.246\n",
              "1       SEARCH GOOGLE BRAND     29.133\n",
              "5   SEARCH GOOGLE NON-BRAND      3.258\n",
              "3          SEARCH MSN BRAND      7.191\n",
              "9      SEARCH MSN NON-BRAND      0.246\n",
              "12                   Social      0.061\n",
              "7                        TV      0.860\n",
              "8             Uncategorized      0.553"
            ]
          },
          "metadata": {
            "tags": []
          },
          "execution_count": 41
        }
      ]
    },
    {
      "cell_type": "code",
      "metadata": {
        "id": "RnhXlBwxf7D7"
      },
      "source": [
        "# merging all 4 tables \n",
        "merge_1 = np.round(pd.merge(T_last_count, T_first_count, how = 'outer', on = 'index').fillna(0).rename(\n",
        "    columns={\"Groupname_x\": \"Converter\", \"Groupname_y\": \"Originator\"}), 3)\n",
        "\n",
        "merge_2= np.round(pd.merge(T_last_percent, T_first_percent, how = 'outer', on = 'index').fillna(0).rename(\n",
        "    columns={\"Groupname_x\": \"Converter %\", \"Groupname_y\": \"Originator %\"}), 5)\n",
        "\n",
        "first_last = np.round(pd.merge(merge_1, merge_2, how = 'outer', on = 'index').fillna(0), 3)"
      ],
      "execution_count": 73,
      "outputs": []
    },
    {
      "cell_type": "markdown",
      "metadata": {
        "id": "iJSioY9ZmAiX"
      },
      "source": [
        "The table below displays the number of orders and corresponding share of credit from the two attribution (first and last touch) models."
      ]
    },
    {
      "cell_type": "code",
      "metadata": {
        "colab": {
          "base_uri": "https://localhost:8080/",
          "height": 486
        },
        "id": "h4a7PHj3ipUw",
        "outputId": "fd6b1293-db71-4c97-e956-3d45cc6ba2c1"
      },
      "source": [
        "new_row = {'index': 'TOTAL', 'Converter': first_last.Converter.sum(), 'Originator': first_last.Originator.sum(), 'Converter %': first_last['Converter %'].sum(), 'Originator %': first_last['Originator %'].sum()}\n",
        "first_last = first_last.append(new_row, ignore_index=True)\n",
        "first_last"
      ],
      "execution_count": 72,
      "outputs": [
        {
          "output_type": "execute_result",
          "data": {
            "text/html": [
              "<div>\n",
              "<style scoped>\n",
              "    .dataframe tbody tr th:only-of-type {\n",
              "        vertical-align: middle;\n",
              "    }\n",
              "\n",
              "    .dataframe tbody tr th {\n",
              "        vertical-align: top;\n",
              "    }\n",
              "\n",
              "    .dataframe thead th {\n",
              "        text-align: right;\n",
              "    }\n",
              "</style>\n",
              "<table border=\"1\" class=\"dataframe\">\n",
              "  <thead>\n",
              "    <tr style=\"text-align: right;\">\n",
              "      <th></th>\n",
              "      <th>index</th>\n",
              "      <th>Converter</th>\n",
              "      <th>Originator</th>\n",
              "      <th>Converter %</th>\n",
              "      <th>Originator %</th>\n",
              "    </tr>\n",
              "  </thead>\n",
              "  <tbody>\n",
              "    <tr>\n",
              "      <th>0</th>\n",
              "      <td>BUZZ AFFILIATE</td>\n",
              "      <td>486.0</td>\n",
              "      <td>225</td>\n",
              "      <td>29.871</td>\n",
              "      <td>13.829</td>\n",
              "    </tr>\n",
              "    <tr>\n",
              "      <th>1</th>\n",
              "      <td>CJ</td>\n",
              "      <td>224.0</td>\n",
              "      <td>87</td>\n",
              "      <td>13.768</td>\n",
              "      <td>5.347</td>\n",
              "    </tr>\n",
              "    <tr>\n",
              "      <th>2</th>\n",
              "      <td>CPM</td>\n",
              "      <td>830.0</td>\n",
              "      <td>618</td>\n",
              "      <td>51.014</td>\n",
              "      <td>37.984</td>\n",
              "    </tr>\n",
              "    <tr>\n",
              "      <th>3</th>\n",
              "      <td>OTHER</td>\n",
              "      <td>3.0</td>\n",
              "      <td>20</td>\n",
              "      <td>0.184</td>\n",
              "      <td>1.229</td>\n",
              "    </tr>\n",
              "    <tr>\n",
              "      <th>4</th>\n",
              "      <td>PRINT - MAGAZINES</td>\n",
              "      <td>3.0</td>\n",
              "      <td>4</td>\n",
              "      <td>0.184</td>\n",
              "      <td>0.246</td>\n",
              "    </tr>\n",
              "    <tr>\n",
              "      <th>5</th>\n",
              "      <td>SEARCH GOOGLE NON-BRAND</td>\n",
              "      <td>32.0</td>\n",
              "      <td>53</td>\n",
              "      <td>1.967</td>\n",
              "      <td>3.258</td>\n",
              "    </tr>\n",
              "    <tr>\n",
              "      <th>6</th>\n",
              "      <td>SEARCH MSN NON-BRAND</td>\n",
              "      <td>7.0</td>\n",
              "      <td>4</td>\n",
              "      <td>0.430</td>\n",
              "      <td>0.246</td>\n",
              "    </tr>\n",
              "    <tr>\n",
              "      <th>7</th>\n",
              "      <td>TV</td>\n",
              "      <td>20.0</td>\n",
              "      <td>14</td>\n",
              "      <td>1.229</td>\n",
              "      <td>0.860</td>\n",
              "    </tr>\n",
              "    <tr>\n",
              "      <th>8</th>\n",
              "      <td>Uncategorized</td>\n",
              "      <td>22.0</td>\n",
              "      <td>9</td>\n",
              "      <td>1.352</td>\n",
              "      <td>0.553</td>\n",
              "    </tr>\n",
              "    <tr>\n",
              "      <th>9</th>\n",
              "      <td>DIRECT MAIL</td>\n",
              "      <td>0.0</td>\n",
              "      <td>1</td>\n",
              "      <td>0.000</td>\n",
              "      <td>0.061</td>\n",
              "    </tr>\n",
              "    <tr>\n",
              "      <th>10</th>\n",
              "      <td>SEARCH GOOGLE BRAND</td>\n",
              "      <td>0.0</td>\n",
              "      <td>474</td>\n",
              "      <td>0.000</td>\n",
              "      <td>29.133</td>\n",
              "    </tr>\n",
              "    <tr>\n",
              "      <th>11</th>\n",
              "      <td>SEARCH MSN BRAND</td>\n",
              "      <td>0.0</td>\n",
              "      <td>117</td>\n",
              "      <td>0.000</td>\n",
              "      <td>7.191</td>\n",
              "    </tr>\n",
              "    <tr>\n",
              "      <th>12</th>\n",
              "      <td>Social</td>\n",
              "      <td>0.0</td>\n",
              "      <td>1</td>\n",
              "      <td>0.000</td>\n",
              "      <td>0.061</td>\n",
              "    </tr>\n",
              "    <tr>\n",
              "      <th>13</th>\n",
              "      <td>TOTAL</td>\n",
              "      <td>1627.0</td>\n",
              "      <td>1627</td>\n",
              "      <td>99.999</td>\n",
              "      <td>99.998</td>\n",
              "    </tr>\n",
              "  </tbody>\n",
              "</table>\n",
              "</div>"
            ],
            "text/plain": [
              "                      index  Converter  Originator  Converter %  Originator %\n",
              "0            BUZZ AFFILIATE      486.0         225       29.871        13.829\n",
              "1                        CJ      224.0          87       13.768         5.347\n",
              "2                       CPM      830.0         618       51.014        37.984\n",
              "3                     OTHER        3.0          20        0.184         1.229\n",
              "4         PRINT - MAGAZINES        3.0           4        0.184         0.246\n",
              "5   SEARCH GOOGLE NON-BRAND       32.0          53        1.967         3.258\n",
              "6      SEARCH MSN NON-BRAND        7.0           4        0.430         0.246\n",
              "7                        TV       20.0          14        1.229         0.860\n",
              "8             Uncategorized       22.0           9        1.352         0.553\n",
              "9               DIRECT MAIL        0.0           1        0.000         0.061\n",
              "10      SEARCH GOOGLE BRAND        0.0         474        0.000        29.133\n",
              "11         SEARCH MSN BRAND        0.0         117        0.000         7.191\n",
              "12                   Social        0.0           1        0.000         0.061\n",
              "13                    TOTAL     1627.0        1627       99.999        99.998"
            ]
          },
          "metadata": {
            "tags": []
          },
          "execution_count": 72
        }
      ]
    },
    {
      "cell_type": "markdown",
      "metadata": {
        "id": "wj1VW-almOS0"
      },
      "source": [
        "**b) (10 pts) In a single bar chart, plot the share of credit (in percentage) for the first- and last touch attribution models by marketing channel.**"
      ]
    },
    {
      "cell_type": "code",
      "metadata": {
        "colab": {
          "base_uri": "https://localhost:8080/",
          "height": 861
        },
        "id": "MDzpRnvNkWBr",
        "outputId": "01ed0988-c48a-4d46-9c83-f9fb2a14f1af"
      },
      "source": [
        "first_last[:13].plot(x='index', y=['Converter %', 'Originator %'], kind='bar', figsize=(15, 10))"
      ],
      "execution_count": 89,
      "outputs": [
        {
          "output_type": "execute_result",
          "data": {
            "text/plain": [
              "<matplotlib.axes._subplots.AxesSubplot at 0x7f7efc1b0ed0>"
            ]
          },
          "metadata": {
            "tags": []
          },
          "execution_count": 89
        },
        {
          "output_type": "display_data",
          "data": {
            "image/png": "[encoded data removed]",
            "text/plain": [
              "<Figure size 1080x720 with 1 Axes>"
            ]
          },
          "metadata": {
            "tags": [],
            "needs_background": "light"
          }
        }
      ]
    },
    {
      "cell_type": "markdown",
      "metadata": {
        "id": "5OigNpuRoXWD"
      },
      "source": [
        "**c) (10 pts) Compare results from the two attribution model. What would be the\n",
        "consequence to Winters if it allocated its marketing budget entirely based on the lasttouch attribution model?**"
      ]
    },
    {
      "cell_type": "markdown",
      "metadata": {
        "id": "CqeRu8fsowku"
      },
      "source": [
        "The CPM channel has the share of credit when using both first and last touch attribution models (51.01% and 37.98% respectively). The Buzz Affiliates channel holds the second highest share of credit when using the last touch attribution model (29.87%), but has a significantly lower proportion of credit share for the first touch attribution model (13.83%). When customers search for google brands, the first touch attribution displays that this accounts to 29.13% of the total share of credit. The CJ channel has the third highest share of credit (13.77%) across the last touch attribution model. We note that all other channels have less than 8% of the total share of credit across both the first and last touch attribution models. This implies that CPM and Buzz Affiliates have the highest share of credits across both models, with an addition of the CJ channel's share of credit only for the last touch attribution model. \n",
        "\n",
        "If the marketing budget is allocated entirely based on the last touch attribution model, then Winters will not be able to account for the consumer interactions with all other touchpoints. There might be an interaction effect between all these different marketing touchpoints, which a single touch model (either first or last touch model) will fail to take into account. "
      ]
    },
    {
      "cell_type": "markdown",
      "metadata": {
        "id": "xwMEW2azragc"
      },
      "source": [
        "**Q2. (20 pts) Compare new customers and old customers**\n",
        "\n",
        "**a) (5 pts) What is the average number of days that it takes for a new customer to convert (from the first touchpoint)? What is the average number of days that it takes for an old customer to convert?**"
      ]
    },
    {
      "cell_type": "code",
      "metadata": {
        "id": "szlllrDbmjQT"
      },
      "source": [
        "num_order_new = len(df[(df['Positionname']=='CONVERTER')&(df['Newcustomer'] == 'Y')])\n",
        "num_order_old = len(df[(df['Positionname']=='CONVERTER')&(df['Newcustomer'] == 'N')])"
      ],
      "execution_count": 94,
      "outputs": []
    },
    {
      "cell_type": "code",
      "metadata": {
        "colab": {
          "base_uri": "https://localhost:8080/"
        },
        "id": "zmaTkU37s5JI",
        "outputId": "c8cb8ee2-1611-47c6-8087-538d78d288b7"
      },
      "source": [
        "new_firsttouchpoint = df[(df['Newcustomer'] == 'Y') & (df['Positionname'] == 'ORIGINATOR')]\n",
        "new_firsttouchpoint.DaysToConvert.mean()"
      ],
      "execution_count": 126,
      "outputs": [
        {
          "output_type": "execute_result",
          "data": {
            "text/plain": [
              "5.504073319755601"
            ]
          },
          "metadata": {
            "tags": []
          },
          "execution_count": 126
        }
      ]
    },
    {
      "cell_type": "markdown",
      "metadata": {
        "id": "mlMIuedIvIC8"
      },
      "source": [
        "On average, it takes 5.5 days for a new customer to convert from the first touch point. "
      ]
    },
    {
      "cell_type": "code",
      "metadata": {
        "colab": {
          "base_uri": "https://localhost:8080/"
        },
        "id": "u2I4GRmJvIOZ",
        "outputId": "bfb27613-aa43-4b71-aa25-68caf298853c"
      },
      "source": [
        "old_firsttouchpoint = df[(df['Newcustomer'] == 'N') & (df['Positionname'] == 'ORIGINATOR')]\n",
        "old_firsttouchpoint.DaysToConvert.mean()"
      ],
      "execution_count": 106,
      "outputs": [
        {
          "output_type": "execute_result",
          "data": {
            "text/plain": [
              "32.010852713178295"
            ]
          },
          "metadata": {
            "tags": []
          },
          "execution_count": 106
        }
      ]
    },
    {
      "cell_type": "markdown",
      "metadata": {
        "id": "nPH-jNuxvW2-"
      },
      "source": [
        "It takes 32 days on average for an old customer to convert from the first touch point."
      ]
    },
    {
      "cell_type": "markdown",
      "metadata": {
        "id": "Oo0S8ieYvk97"
      },
      "source": [
        "**b) (5 pts) What is the average number of touchpoints by new versus old customer’s orders? Hint: Use the Touches variable if available. If not, create the ‘Touches’ variable for the number of touchpoints per order. R users can use the add_count() function.**"
      ]
    },
    {
      "cell_type": "code",
      "metadata": {
        "colab": {
          "base_uri": "https://localhost:8080/"
        },
        "id": "nbTWj00-vl9D",
        "outputId": "f5457d8b-1135-4cfd-fcaa-46026f118d13"
      },
      "source": [
        "new = df[df['Newcustomer'] == 'Y']\n",
        "temp_new = new.groupby('Orderid')['Position'].count()\n",
        "temp_new"
      ],
      "execution_count": 155,
      "outputs": [
        {
          "output_type": "execute_result",
          "data": {
            "text/plain": [
              "Orderid\n",
              "11634060    8\n",
              "11634119    2\n",
              "11635494    4\n",
              "11636452    6\n",
              "11637581    4\n",
              "           ..\n",
              "11776990    4\n",
              "11777034    5\n",
              "11777068    7\n",
              "11777397    7\n",
              "11777500    5\n",
              "Name: Position, Length: 645, dtype: int64"
            ]
          },
          "metadata": {
            "tags": []
          },
          "execution_count": 155
        }
      ]
    },
    {
      "cell_type": "code",
      "metadata": {
        "colab": {
          "base_uri": "https://localhost:8080/"
        },
        "id": "Kdfadz-_1pHK",
        "outputId": "6e4f66c4-6e4c-485b-a39a-317b6e863521"
      },
      "source": [
        "temp_new.sum()/temp_new.shape[0]"
      ],
      "execution_count": 163,
      "outputs": [
        {
          "output_type": "execute_result",
          "data": {
            "text/plain": [
              "4.321792260692464"
            ]
          },
          "metadata": {
            "tags": []
          },
          "execution_count": 163
        }
      ]
    },
    {
      "cell_type": "code",
      "metadata": {
        "colab": {
          "base_uri": "https://localhost:8080/"
        },
        "id": "e3EAilXJ2DsE",
        "outputId": "5773b3ba-787a-47ca-e072-f99294dc7a64"
      },
      "source": [
        "old = df[df['Newcustomer'] == 'N']\n",
        "temp_old = old.groupby('Orderid')['Position'].count()\n",
        "temp_old"
      ],
      "execution_count": 156,
      "outputs": [
        {
          "output_type": "execute_result",
          "data": {
            "text/plain": [
              "Orderid\n",
              "11634060    8\n",
              "11634119    2\n",
              "11635494    4\n",
              "11636452    6\n",
              "11637581    4\n",
              "           ..\n",
              "11776990    4\n",
              "11777034    5\n",
              "11777068    7\n",
              "11777397    7\n",
              "11777500    5\n",
              "Name: Position, Length: 645, dtype: int64"
            ]
          },
          "metadata": {
            "tags": []
          },
          "execution_count": 156
        }
      ]
    },
    {
      "cell_type": "code",
      "metadata": {
        "colab": {
          "base_uri": "https://localhost:8080/"
        },
        "id": "oKKQLbo32E7b",
        "outputId": "80c21430-14ee-4e6b-d53c-70e747acae3f"
      },
      "source": [
        "temp_old.sum()/temp_old.shape[0]"
      ],
      "execution_count": 162,
      "outputs": [
        {
          "output_type": "execute_result",
          "data": {
            "text/plain": [
              "5.24031007751938"
            ]
          },
          "metadata": {
            "tags": []
          },
          "execution_count": 162
        }
      ]
    },
    {
      "cell_type": "markdown",
      "metadata": {
        "id": "ztISmUvn21cT"
      },
      "source": [
        "New customers on average have 4.32 touchpoints while old customers on average have 5.24 touchpoints."
      ]
    },
    {
      "cell_type": "markdown",
      "metadata": {
        "id": "-CU3NPFt4B04"
      },
      "source": [
        "**c) (5 pts) What is the average order sales amount by new versus old customer’s orders?**"
      ]
    },
    {
      "cell_type": "code",
      "metadata": {
        "colab": {
          "base_uri": "https://localhost:8080/"
        },
        "id": "tDKA2HPosg4t",
        "outputId": "6a71b38d-1f2d-49ae-a8b0-17c97b72ed58"
      },
      "source": [
        "print(new.Saleamount.mean())\n",
        "print(old.Saleamount.mean())"
      ],
      "execution_count": 167,
      "outputs": [
        {
          "output_type": "stream",
          "text": [
            "264.26314090480633\n",
            "205.5042189349092\n"
          ],
          "name": "stdout"
        }
      ]
    },
    {
      "cell_type": "markdown",
      "metadata": {
        "id": "AFnHijQt4TyP"
      },
      "source": [
        "The average order sales for new customers' orders is 264.26 USD while the average order sales for old customers' orders is 205.50 USD."
      ]
    },
    {
      "cell_type": "markdown",
      "metadata": {
        "id": "xSk8BD0x4jG0"
      },
      "source": [
        "**d) (5 pts) Summarize how new and old customers differ along these three variables.**"
      ]
    },
    {
      "cell_type": "markdown",
      "metadata": {
        "id": "NsDZD7gW4o2q"
      },
      "source": [
        "The three variables used for the summary include the average number of days to convert, average number of touchpoints and average order sales for customers' orders. \n",
        "\n",
        "Old customers take approximately 27 days more to convert than new customers and they have a marginally higher number of touchpoints on average (old customers have 5.34 touchpoints on average while new customers have 4.32 touchpoints on average). However, the average order sales for new customers' is higher than that of old customers. This indicates that there might be some new customers who might be making bulk purchases, while old customers prefer to visit the site regularly to make smaller purchases. Old customers might prefer browsing on the website longer before making a purchase, which in turn leads to having more touchpoints when browsing longer on the site. "
      ]
    },
    {
      "cell_type": "code",
      "metadata": {
        "colab": {
          "base_uri": "https://localhost:8080/",
          "height": 486
        },
        "id": "gLxEoe3Ys3cd",
        "outputId": "bbe271d1-7f5c-4d6a-8ca3-2018d959475c"
      },
      "source": [
        "T_first_new_percent = pd.DataFrame(df.loc[(df['Positionname']=='ORIGINATOR')&(df['Newcustomer'] == 'Y'), \n",
        "                'Groupname'].value_counts()/num_order_new*100).reset_index().sort_values('index')\n",
        "\n",
        "T_first_new_count = pd.DataFrame(df.loc[(df['Positionname']=='ORIGINATOR')&(df['Newcustomer'] == 'Y'), \n",
        "                'Groupname'].value_counts()).reset_index().sort_values('index')\n",
        "\n",
        "T_first_old_percent = pd.DataFrame(df.loc[(df['Positionname']=='ORIGINATOR')&(df['Newcustomer'] == 'N'), \n",
        "                'Groupname'].value_counts()/num_order_old*100).reset_index().sort_values('index')\n",
        "\n",
        "T_first_old_count = pd.DataFrame(df.loc[(df['Positionname']=='ORIGINATOR')&(df['Newcustomer'] == 'N'), \n",
        "                'Groupname'].value_counts()).reset_index().sort_values('index')\n",
        "                \n",
        "# merging all 4 tables \n",
        "merge_1 = np.round(pd.merge(T_first_new_count, T_first_old_count, how = 'outer', on = 'index').fillna(0).rename(\n",
        "    columns={\"Groupname_x\": \"New Customers\", \"Groupname_y\": \"Old Customers\"}), 3)\n",
        "\n",
        "merge_2= np.round(pd.merge(T_first_new_percent, T_first_old_percent, how = 'outer', on = 'index').fillna(0).rename(\n",
        "    columns={\"Groupname_x\": \"New Customer Share of Credit\", \"Groupname_y\": \"Old Customer Share of Credit\"}), 5)\n",
        "\n",
        "first_last = np.round(pd.merge(merge_1, merge_2, how = 'outer', on = 'index').fillna(0), 3)\n",
        "new_row = {'index': 'TOTAL', 'New Customers': first_last['New Customers'].sum(), 'Old Customers': first_last['Old Customers'].sum(), 'New Customer Share of Credit': first_last['New Customer Share of Credit'].sum(), 'Old Customer Share of Credit': first_last['Old Customer Share of Credit'].sum()}\n",
        "first_last = first_last.append(new_row, ignore_index=True)\n",
        "first_last"
      ],
      "execution_count": 164,
      "outputs": [
        {
          "output_type": "execute_result",
          "data": {
            "text/html": [
              "<div>\n",
              "<style scoped>\n",
              "    .dataframe tbody tr th:only-of-type {\n",
              "        vertical-align: middle;\n",
              "    }\n",
              "\n",
              "    .dataframe tbody tr th {\n",
              "        vertical-align: top;\n",
              "    }\n",
              "\n",
              "    .dataframe thead th {\n",
              "        text-align: right;\n",
              "    }\n",
              "</style>\n",
              "<table border=\"1\" class=\"dataframe\">\n",
              "  <thead>\n",
              "    <tr style=\"text-align: right;\">\n",
              "      <th></th>\n",
              "      <th>index</th>\n",
              "      <th>New Customers</th>\n",
              "      <th>Old Customers</th>\n",
              "      <th>New Customer Share of Credit</th>\n",
              "      <th>Old Customer Share of Credit</th>\n",
              "    </tr>\n",
              "  </thead>\n",
              "  <tbody>\n",
              "    <tr>\n",
              "      <th>0</th>\n",
              "      <td>BUZZ AFFILIATE</td>\n",
              "      <td>127.0</td>\n",
              "      <td>98.0</td>\n",
              "      <td>12.933</td>\n",
              "      <td>15.194</td>\n",
              "    </tr>\n",
              "    <tr>\n",
              "      <th>1</th>\n",
              "      <td>CJ</td>\n",
              "      <td>49.0</td>\n",
              "      <td>38.0</td>\n",
              "      <td>4.990</td>\n",
              "      <td>5.891</td>\n",
              "    </tr>\n",
              "    <tr>\n",
              "      <th>2</th>\n",
              "      <td>CPM</td>\n",
              "      <td>381.0</td>\n",
              "      <td>237.0</td>\n",
              "      <td>38.798</td>\n",
              "      <td>36.744</td>\n",
              "    </tr>\n",
              "    <tr>\n",
              "      <th>3</th>\n",
              "      <td>OTHER</td>\n",
              "      <td>6.0</td>\n",
              "      <td>14.0</td>\n",
              "      <td>0.611</td>\n",
              "      <td>2.171</td>\n",
              "    </tr>\n",
              "    <tr>\n",
              "      <th>4</th>\n",
              "      <td>PRINT - MAGAZINES</td>\n",
              "      <td>2.0</td>\n",
              "      <td>2.0</td>\n",
              "      <td>0.204</td>\n",
              "      <td>0.310</td>\n",
              "    </tr>\n",
              "    <tr>\n",
              "      <th>5</th>\n",
              "      <td>SEARCH GOOGLE BRAND</td>\n",
              "      <td>294.0</td>\n",
              "      <td>180.0</td>\n",
              "      <td>29.939</td>\n",
              "      <td>27.907</td>\n",
              "    </tr>\n",
              "    <tr>\n",
              "      <th>6</th>\n",
              "      <td>SEARCH GOOGLE NON-BRAND</td>\n",
              "      <td>34.0</td>\n",
              "      <td>19.0</td>\n",
              "      <td>3.462</td>\n",
              "      <td>2.946</td>\n",
              "    </tr>\n",
              "    <tr>\n",
              "      <th>7</th>\n",
              "      <td>SEARCH MSN BRAND</td>\n",
              "      <td>69.0</td>\n",
              "      <td>48.0</td>\n",
              "      <td>7.026</td>\n",
              "      <td>7.442</td>\n",
              "    </tr>\n",
              "    <tr>\n",
              "      <th>8</th>\n",
              "      <td>SEARCH MSN NON-BRAND</td>\n",
              "      <td>4.0</td>\n",
              "      <td>0.0</td>\n",
              "      <td>0.407</td>\n",
              "      <td>0.000</td>\n",
              "    </tr>\n",
              "    <tr>\n",
              "      <th>9</th>\n",
              "      <td>Social</td>\n",
              "      <td>1.0</td>\n",
              "      <td>0.0</td>\n",
              "      <td>0.102</td>\n",
              "      <td>0.000</td>\n",
              "    </tr>\n",
              "    <tr>\n",
              "      <th>10</th>\n",
              "      <td>TV</td>\n",
              "      <td>10.0</td>\n",
              "      <td>4.0</td>\n",
              "      <td>1.018</td>\n",
              "      <td>0.620</td>\n",
              "    </tr>\n",
              "    <tr>\n",
              "      <th>11</th>\n",
              "      <td>Uncategorized</td>\n",
              "      <td>5.0</td>\n",
              "      <td>4.0</td>\n",
              "      <td>0.509</td>\n",
              "      <td>0.620</td>\n",
              "    </tr>\n",
              "    <tr>\n",
              "      <th>12</th>\n",
              "      <td>DIRECT MAIL</td>\n",
              "      <td>0.0</td>\n",
              "      <td>1.0</td>\n",
              "      <td>0.000</td>\n",
              "      <td>0.155</td>\n",
              "    </tr>\n",
              "    <tr>\n",
              "      <th>13</th>\n",
              "      <td>TOTAL</td>\n",
              "      <td>982.0</td>\n",
              "      <td>645.0</td>\n",
              "      <td>99.999</td>\n",
              "      <td>100.000</td>\n",
              "    </tr>\n",
              "  </tbody>\n",
              "</table>\n",
              "</div>"
            ],
            "text/plain": [
              "                      index  ...  Old Customer Share of Credit\n",
              "0            BUZZ AFFILIATE  ...                        15.194\n",
              "1                        CJ  ...                         5.891\n",
              "2                       CPM  ...                        36.744\n",
              "3                     OTHER  ...                         2.171\n",
              "4         PRINT - MAGAZINES  ...                         0.310\n",
              "5       SEARCH GOOGLE BRAND  ...                        27.907\n",
              "6   SEARCH GOOGLE NON-BRAND  ...                         2.946\n",
              "7          SEARCH MSN BRAND  ...                         7.442\n",
              "8      SEARCH MSN NON-BRAND  ...                         0.000\n",
              "9                    Social  ...                         0.000\n",
              "10                       TV  ...                         0.620\n",
              "11            Uncategorized  ...                         0.620\n",
              "12              DIRECT MAIL  ...                         0.155\n",
              "13                    TOTAL  ...                       100.000\n",
              "\n",
              "[14 rows x 5 columns]"
            ]
          },
          "metadata": {
            "tags": []
          },
          "execution_count": 164
        }
      ]
    }
  ]
}