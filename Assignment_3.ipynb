{
  "nbformat": 4,
  "nbformat_minor": 0,
  "metadata": {
    "colab": {
      "name": "Assignment 3.ipynb",
      "provenance": [],
      "collapsed_sections": []
    },
    "kernelspec": {
      "name": "python3",
      "display_name": "Python 3"
    },
    "language_info": {
      "name": "python"
    }
  },
  "cells": [
    {
      "cell_type": "code",
      "metadata": {
        "id": "m73cebXjdUDB"
      },
      "source": [
        "import pandas as pd, numpy as np, os, warnings, seaborn as sns, matplotlib.pyplot as plt, matplotlib\n",
        "from datetime import datetime\n",
        "\n",
        "warnings.simplefilter(action='ignore', category=FutureWarning) \n",
        "pd.options.mode.chained_assignment = None\n",
        "get_ipython().run_line_magic('matplotlib', 'inline')\n",
        "plt.style.use('seaborn')\n",
        "sns.set_color_codes('colorblind')\n",
        "matplotlib.rcParams.update({'font.size': 14}) \n",
        "matplotlib.rcParams.update({'xtick.labelsize':16})\n",
        "matplotlib.rcParams.update({'ytick.labelsize':16})\n",
        "matplotlib.rcParams.update({'axes.labelsize':16})\n",
        "matplotlib.rcParams.update({'axes.titlesize':20})\n",
        "matplotlib.rcParams.update({'legend.fontsize': 16}) \n",
        "sns.set_style('white')"
      ],
      "execution_count": 1,
      "outputs": []
    },
    {
      "cell_type": "code",
      "metadata": {
        "id": "fSAtRRFrdpPU"
      },
      "source": [
        "url = '/content/Winters-Attribution-PS3.csv'\n",
        "df = pd.read_csv(url)"
      ],
      "execution_count": 77,
      "outputs": []
    },
    {
      "cell_type": "code",
      "metadata": {
        "colab": {
          "base_uri": "https://localhost:8080/",
          "height": 203
        },
        "id": "E3uPjjabeJm-",
        "outputId": "0ba38616-e2ad-4f1a-b5ca-f90f2d08de4f"
      },
      "source": [
        "df.head(5)"
      ],
      "execution_count": 4,
      "outputs": [
        {
          "output_type": "execute_result",
          "data": {
            "text/html": [
              "<div>\n",
              "<style scoped>\n",
              "    .dataframe tbody tr th:only-of-type {\n",
              "        vertical-align: middle;\n",
              "    }\n",
              "\n",
              "    .dataframe tbody tr th {\n",
              "        vertical-align: top;\n",
              "    }\n",
              "\n",
              "    .dataframe thead th {\n",
              "        text-align: right;\n",
              "    }\n",
              "</style>\n",
              "<table border=\"1\" class=\"dataframe\">\n",
              "  <thead>\n",
              "    <tr style=\"text-align: right;\">\n",
              "      <th></th>\n",
              "      <th>Unnamed: 0</th>\n",
              "      <th>Orderid</th>\n",
              "      <th>Orderdatetime</th>\n",
              "      <th>Saleamount</th>\n",
              "      <th>Newcustomer</th>\n",
              "      <th>Position</th>\n",
              "      <th>Positiondatetime</th>\n",
              "      <th>Groupname</th>\n",
              "      <th>Networkname</th>\n",
              "      <th>Networkid</th>\n",
              "      <th>Brand</th>\n",
              "      <th>Positionname</th>\n",
              "      <th>DaysToConvert</th>\n",
              "    </tr>\n",
              "  </thead>\n",
              "  <tbody>\n",
              "    <tr>\n",
              "      <th>0</th>\n",
              "      <td>1</td>\n",
              "      <td>11634052</td>\n",
              "      <td>2012-05-01 4:24</td>\n",
              "      <td>341.5</td>\n",
              "      <td>Y</td>\n",
              "      <td>1</td>\n",
              "      <td>2012-05-01 3:49</td>\n",
              "      <td>BUZZ AFFILIATE</td>\n",
              "      <td>Buzz CPA Affiliate</td>\n",
              "      <td>buzz23</td>\n",
              "      <td>N</td>\n",
              "      <td>CONVERTER</td>\n",
              "      <td>0</td>\n",
              "    </tr>\n",
              "    <tr>\n",
              "      <th>1</th>\n",
              "      <td>2</td>\n",
              "      <td>11634052</td>\n",
              "      <td>2012-05-01 4:24</td>\n",
              "      <td>341.5</td>\n",
              "      <td>Y</td>\n",
              "      <td>0</td>\n",
              "      <td>2012-05-01 3:47</td>\n",
              "      <td>SEARCH GOOGLE BRAND</td>\n",
              "      <td>G: Medifast Brand Terms &gt; Medifast &gt;</td>\n",
              "      <td>g000793</td>\n",
              "      <td>Y</td>\n",
              "      <td>ORIGINATOR</td>\n",
              "      <td>0</td>\n",
              "    </tr>\n",
              "    <tr>\n",
              "      <th>2</th>\n",
              "      <td>3</td>\n",
              "      <td>11634059</td>\n",
              "      <td>2012-05-01 4:08</td>\n",
              "      <td>339.0</td>\n",
              "      <td>Y</td>\n",
              "      <td>2</td>\n",
              "      <td>2012-04-29 21:01</td>\n",
              "      <td>PRINT - MAGAZINES</td>\n",
              "      <td>Medifastok.com</td>\n",
              "      <td>medifastok.com</td>\n",
              "      <td>N</td>\n",
              "      <td>CONVERTER</td>\n",
              "      <td>2</td>\n",
              "    </tr>\n",
              "    <tr>\n",
              "      <th>3</th>\n",
              "      <td>4</td>\n",
              "      <td>11634059</td>\n",
              "      <td>2012-05-01 4:08</td>\n",
              "      <td>339.0</td>\n",
              "      <td>Y</td>\n",
              "      <td>1</td>\n",
              "      <td>2012-04-24 5:29</td>\n",
              "      <td>CPM</td>\n",
              "      <td>Armonix</td>\n",
              "      <td>nar7467</td>\n",
              "      <td>N</td>\n",
              "      <td>ASSIST</td>\n",
              "      <td>7</td>\n",
              "    </tr>\n",
              "    <tr>\n",
              "      <th>4</th>\n",
              "      <td>5</td>\n",
              "      <td>11634059</td>\n",
              "      <td>2012-05-01 4:08</td>\n",
              "      <td>339.0</td>\n",
              "      <td>Y</td>\n",
              "      <td>0</td>\n",
              "      <td>2012-04-23 2:46</td>\n",
              "      <td>PRINT - MAGAZINES</td>\n",
              "      <td>Medifastok.com</td>\n",
              "      <td>medifastok.com</td>\n",
              "      <td>N</td>\n",
              "      <td>ORIGINATOR</td>\n",
              "      <td>8</td>\n",
              "    </tr>\n",
              "  </tbody>\n",
              "</table>\n",
              "</div>"
            ],
            "text/plain": [
              "   Unnamed: 0   Orderid    Orderdatetime  ...  Brand Positionname  DaysToConvert\n",
              "0           1  11634052  2012-05-01 4:24  ...      N    CONVERTER              0\n",
              "1           2  11634052  2012-05-01 4:24  ...      Y   ORIGINATOR              0\n",
              "2           3  11634059  2012-05-01 4:08  ...      N    CONVERTER              2\n",
              "3           4  11634059  2012-05-01 4:08  ...      N       ASSIST              7\n",
              "4           5  11634059  2012-05-01 4:08  ...      N   ORIGINATOR              8\n",
              "\n",
              "[5 rows x 13 columns]"
            ]
          },
          "metadata": {
            "tags": []
          },
          "execution_count": 4
        }
      ]
    },
    {
      "cell_type": "code",
      "metadata": {
        "colab": {
          "base_uri": "https://localhost:8080/"
        },
        "id": "jAQomq-yZdWt",
        "outputId": "fd9fa413-f48f-4c84-a239-2a1393c73501"
      },
      "source": [
        "df.shape"
      ],
      "execution_count": 84,
      "outputs": [
        {
          "output_type": "execute_result",
          "data": {
            "text/plain": [
              "(7624, 12)"
            ]
          },
          "metadata": {
            "tags": []
          },
          "execution_count": 84
        }
      ]
    },
    {
      "cell_type": "code",
      "metadata": {
        "id": "WKgnVPd1e8CM"
      },
      "source": [
        "df = df[['Orderid', 'Orderdatetime', 'Saleamount', 'Newcustomer',\n",
        "       'Position', 'Positiondatetime', 'Groupname', 'Networkname', 'Networkid',\n",
        "       'Brand', 'Positionname', 'DaysToConvert']]"
      ],
      "execution_count": 78,
      "outputs": []
    },
    {
      "cell_type": "code",
      "metadata": {
        "colab": {
          "base_uri": "https://localhost:8080/"
        },
        "id": "5Y7lUJl-eXys",
        "outputId": "1a164b80-a639-48ba-db29-9925da2e6a2c"
      },
      "source": [
        "print('Time range: ', df['Orderdatetime'].min(), 'to', df['Orderdatetime'].max())\n",
        "print('Number of touchpoints:', len(df))\n",
        "print('Number of orders:', len(df['Orderid'].unique()))\n",
        "print('Number of touchpoints per order:', np.round(len(df)/len(df['Orderid'].unique()), 2))"
      ],
      "execution_count": 6,
      "outputs": [
        {
          "output_type": "stream",
          "text": [
            "Time range:  2012-05-01 10:04 to 2012-06-01 3:45\n",
            "Number of touchpoints: 7624\n",
            "Number of orders: 1627\n",
            "Number of touchpoints per order: 4.69\n"
          ],
          "name": "stdout"
        }
      ]
    },
    {
      "cell_type": "code",
      "metadata": {
        "colab": {
          "base_uri": "https://localhost:8080/"
        },
        "id": "UH9_Hzw6euSE",
        "outputId": "e7453c7d-c826-4e34-dfb9-8cea1bec0ff9"
      },
      "source": [
        "df.Positionname.unique()"
      ],
      "execution_count": 7,
      "outputs": [
        {
          "output_type": "execute_result",
          "data": {
            "text/plain": [
              "array(['CONVERTER', 'ORIGINATOR', 'ASSIST', 'ROSTER'], dtype=object)"
            ]
          },
          "metadata": {
            "tags": []
          },
          "execution_count": 7
        }
      ]
    },
    {
      "cell_type": "markdown",
      "metadata": {
        "id": "j6i4sWY1faNP"
      },
      "source": [
        "**Q1. (30 pts) Compare first-touch vs. last-touch attribution models**\n",
        "\n",
        "**a) (10 pts) What is the number of orders attributed to each channel using a last-touch model? What about the number of orders attributed to each channel using a first-touch model? What is the corresponding share of credit from the two attribution models?** "
      ]
    },
    {
      "cell_type": "code",
      "metadata": {
        "colab": {
          "base_uri": "https://localhost:8080/",
          "height": 327
        },
        "id": "jhv7lSeWfedS",
        "outputId": "35727647-2541-40db-8d5c-3bd460ee810f"
      },
      "source": [
        "# calculating the count per channel by last touch\n",
        "num_order = len(df['Orderid'].unique())\n",
        "T_last_count = pd.DataFrame(df.loc[df['Positionname']=='CONVERTER', \n",
        "                             'Groupname'].value_counts()).reset_index().sort_values('index')\n",
        "np.round(T_last_count,3)"
      ],
      "execution_count": 134,
      "outputs": [
        {
          "output_type": "execute_result",
          "data": {
            "text/html": [
              "<div>\n",
              "<style scoped>\n",
              "    .dataframe tbody tr th:only-of-type {\n",
              "        vertical-align: middle;\n",
              "    }\n",
              "\n",
              "    .dataframe tbody tr th {\n",
              "        vertical-align: top;\n",
              "    }\n",
              "\n",
              "    .dataframe thead th {\n",
              "        text-align: right;\n",
              "    }\n",
              "</style>\n",
              "<table border=\"1\" class=\"dataframe\">\n",
              "  <thead>\n",
              "    <tr style=\"text-align: right;\">\n",
              "      <th></th>\n",
              "      <th>index</th>\n",
              "      <th>Groupname</th>\n",
              "    </tr>\n",
              "  </thead>\n",
              "  <tbody>\n",
              "    <tr>\n",
              "      <th>1</th>\n",
              "      <td>BUZZ AFFILIATE</td>\n",
              "      <td>486</td>\n",
              "    </tr>\n",
              "    <tr>\n",
              "      <th>2</th>\n",
              "      <td>CJ</td>\n",
              "      <td>224</td>\n",
              "    </tr>\n",
              "    <tr>\n",
              "      <th>0</th>\n",
              "      <td>CPM</td>\n",
              "      <td>830</td>\n",
              "    </tr>\n",
              "    <tr>\n",
              "      <th>7</th>\n",
              "      <td>OTHER</td>\n",
              "      <td>3</td>\n",
              "    </tr>\n",
              "    <tr>\n",
              "      <th>8</th>\n",
              "      <td>PRINT - MAGAZINES</td>\n",
              "      <td>3</td>\n",
              "    </tr>\n",
              "    <tr>\n",
              "      <th>3</th>\n",
              "      <td>SEARCH GOOGLE NON-BRAND</td>\n",
              "      <td>32</td>\n",
              "    </tr>\n",
              "    <tr>\n",
              "      <th>6</th>\n",
              "      <td>SEARCH MSN NON-BRAND</td>\n",
              "      <td>7</td>\n",
              "    </tr>\n",
              "    <tr>\n",
              "      <th>5</th>\n",
              "      <td>TV</td>\n",
              "      <td>20</td>\n",
              "    </tr>\n",
              "    <tr>\n",
              "      <th>4</th>\n",
              "      <td>Uncategorized</td>\n",
              "      <td>22</td>\n",
              "    </tr>\n",
              "  </tbody>\n",
              "</table>\n",
              "</div>"
            ],
            "text/plain": [
              "                     index  Groupname\n",
              "1           BUZZ AFFILIATE        486\n",
              "2                       CJ        224\n",
              "0                      CPM        830\n",
              "7                    OTHER          3\n",
              "8        PRINT - MAGAZINES          3\n",
              "3  SEARCH GOOGLE NON-BRAND         32\n",
              "6     SEARCH MSN NON-BRAND          7\n",
              "5                       TV         20\n",
              "4            Uncategorized         22"
            ]
          },
          "metadata": {
            "tags": []
          },
          "execution_count": 134
        }
      ]
    },
    {
      "cell_type": "code",
      "metadata": {
        "colab": {
          "base_uri": "https://localhost:8080/",
          "height": 327
        },
        "id": "ufccavwngq_8",
        "outputId": "439c6411-0611-4ab8-8bde-88432457a348"
      },
      "source": [
        "# calculating the percentage per channel by last touch\n",
        "num_order = len(df['Orderid'].unique())\n",
        "T_last_percent = pd.DataFrame((df.loc[df['Positionname']=='CONVERTER', \n",
        "                             'Groupname'].value_counts()/num_order)*100).reset_index().sort_values('index')\n",
        "np.round(T_last_percent,3)"
      ],
      "execution_count": 135,
      "outputs": [
        {
          "output_type": "execute_result",
          "data": {
            "text/html": [
              "<div>\n",
              "<style scoped>\n",
              "    .dataframe tbody tr th:only-of-type {\n",
              "        vertical-align: middle;\n",
              "    }\n",
              "\n",
              "    .dataframe tbody tr th {\n",
              "        vertical-align: top;\n",
              "    }\n",
              "\n",
              "    .dataframe thead th {\n",
              "        text-align: right;\n",
              "    }\n",
              "</style>\n",
              "<table border=\"1\" class=\"dataframe\">\n",
              "  <thead>\n",
              "    <tr style=\"text-align: right;\">\n",
              "      <th></th>\n",
              "      <th>index</th>\n",
              "      <th>Groupname</th>\n",
              "    </tr>\n",
              "  </thead>\n",
              "  <tbody>\n",
              "    <tr>\n",
              "      <th>1</th>\n",
              "      <td>BUZZ AFFILIATE</td>\n",
              "      <td>29.871</td>\n",
              "    </tr>\n",
              "    <tr>\n",
              "      <th>2</th>\n",
              "      <td>CJ</td>\n",
              "      <td>13.768</td>\n",
              "    </tr>\n",
              "    <tr>\n",
              "      <th>0</th>\n",
              "      <td>CPM</td>\n",
              "      <td>51.014</td>\n",
              "    </tr>\n",
              "    <tr>\n",
              "      <th>7</th>\n",
              "      <td>OTHER</td>\n",
              "      <td>0.184</td>\n",
              "    </tr>\n",
              "    <tr>\n",
              "      <th>8</th>\n",
              "      <td>PRINT - MAGAZINES</td>\n",
              "      <td>0.184</td>\n",
              "    </tr>\n",
              "    <tr>\n",
              "      <th>3</th>\n",
              "      <td>SEARCH GOOGLE NON-BRAND</td>\n",
              "      <td>1.967</td>\n",
              "    </tr>\n",
              "    <tr>\n",
              "      <th>6</th>\n",
              "      <td>SEARCH MSN NON-BRAND</td>\n",
              "      <td>0.430</td>\n",
              "    </tr>\n",
              "    <tr>\n",
              "      <th>5</th>\n",
              "      <td>TV</td>\n",
              "      <td>1.229</td>\n",
              "    </tr>\n",
              "    <tr>\n",
              "      <th>4</th>\n",
              "      <td>Uncategorized</td>\n",
              "      <td>1.352</td>\n",
              "    </tr>\n",
              "  </tbody>\n",
              "</table>\n",
              "</div>"
            ],
            "text/plain": [
              "                     index  Groupname\n",
              "1           BUZZ AFFILIATE     29.871\n",
              "2                       CJ     13.768\n",
              "0                      CPM     51.014\n",
              "7                    OTHER      0.184\n",
              "8        PRINT - MAGAZINES      0.184\n",
              "3  SEARCH GOOGLE NON-BRAND      1.967\n",
              "6     SEARCH MSN NON-BRAND      0.430\n",
              "5                       TV      1.229\n",
              "4            Uncategorized      1.352"
            ]
          },
          "metadata": {
            "tags": []
          },
          "execution_count": 135
        }
      ]
    },
    {
      "cell_type": "code",
      "metadata": {
        "colab": {
          "base_uri": "https://localhost:8080/",
          "height": 450
        },
        "id": "2AofZwTchCLP",
        "outputId": "a93a420b-81b3-4d16-c620-27fa2fa7d200"
      },
      "source": [
        "# calculating the count per channel by first touch\n",
        "num_order = len(df['Orderid'].unique())\n",
        "T_first_count = pd.DataFrame(df.loc[df['Positionname']=='ORIGINATOR', \n",
        "                             'Groupname'].value_counts()).reset_index().sort_values('index')\n",
        "np.round(T_first_count,3)"
      ],
      "execution_count": 136,
      "outputs": [
        {
          "output_type": "execute_result",
          "data": {
            "text/html": [
              "<div>\n",
              "<style scoped>\n",
              "    .dataframe tbody tr th:only-of-type {\n",
              "        vertical-align: middle;\n",
              "    }\n",
              "\n",
              "    .dataframe tbody tr th {\n",
              "        vertical-align: top;\n",
              "    }\n",
              "\n",
              "    .dataframe thead th {\n",
              "        text-align: right;\n",
              "    }\n",
              "</style>\n",
              "<table border=\"1\" class=\"dataframe\">\n",
              "  <thead>\n",
              "    <tr style=\"text-align: right;\">\n",
              "      <th></th>\n",
              "      <th>index</th>\n",
              "      <th>Groupname</th>\n",
              "    </tr>\n",
              "  </thead>\n",
              "  <tbody>\n",
              "    <tr>\n",
              "      <th>2</th>\n",
              "      <td>BUZZ AFFILIATE</td>\n",
              "      <td>225</td>\n",
              "    </tr>\n",
              "    <tr>\n",
              "      <th>4</th>\n",
              "      <td>CJ</td>\n",
              "      <td>87</td>\n",
              "    </tr>\n",
              "    <tr>\n",
              "      <th>0</th>\n",
              "      <td>CPM</td>\n",
              "      <td>618</td>\n",
              "    </tr>\n",
              "    <tr>\n",
              "      <th>12</th>\n",
              "      <td>DIRECT MAIL</td>\n",
              "      <td>1</td>\n",
              "    </tr>\n",
              "    <tr>\n",
              "      <th>6</th>\n",
              "      <td>OTHER</td>\n",
              "      <td>20</td>\n",
              "    </tr>\n",
              "    <tr>\n",
              "      <th>10</th>\n",
              "      <td>PRINT - MAGAZINES</td>\n",
              "      <td>4</td>\n",
              "    </tr>\n",
              "    <tr>\n",
              "      <th>1</th>\n",
              "      <td>SEARCH GOOGLE BRAND</td>\n",
              "      <td>474</td>\n",
              "    </tr>\n",
              "    <tr>\n",
              "      <th>5</th>\n",
              "      <td>SEARCH GOOGLE NON-BRAND</td>\n",
              "      <td>53</td>\n",
              "    </tr>\n",
              "    <tr>\n",
              "      <th>3</th>\n",
              "      <td>SEARCH MSN BRAND</td>\n",
              "      <td>117</td>\n",
              "    </tr>\n",
              "    <tr>\n",
              "      <th>9</th>\n",
              "      <td>SEARCH MSN NON-BRAND</td>\n",
              "      <td>4</td>\n",
              "    </tr>\n",
              "    <tr>\n",
              "      <th>11</th>\n",
              "      <td>Social</td>\n",
              "      <td>1</td>\n",
              "    </tr>\n",
              "    <tr>\n",
              "      <th>7</th>\n",
              "      <td>TV</td>\n",
              "      <td>14</td>\n",
              "    </tr>\n",
              "    <tr>\n",
              "      <th>8</th>\n",
              "      <td>Uncategorized</td>\n",
              "      <td>9</td>\n",
              "    </tr>\n",
              "  </tbody>\n",
              "</table>\n",
              "</div>"
            ],
            "text/plain": [
              "                      index  Groupname\n",
              "2            BUZZ AFFILIATE        225\n",
              "4                        CJ         87\n",
              "0                       CPM        618\n",
              "12              DIRECT MAIL          1\n",
              "6                     OTHER         20\n",
              "10        PRINT - MAGAZINES          4\n",
              "1       SEARCH GOOGLE BRAND        474\n",
              "5   SEARCH GOOGLE NON-BRAND         53\n",
              "3          SEARCH MSN BRAND        117\n",
              "9      SEARCH MSN NON-BRAND          4\n",
              "11                   Social          1\n",
              "7                        TV         14\n",
              "8             Uncategorized          9"
            ]
          },
          "metadata": {
            "tags": []
          },
          "execution_count": 136
        }
      ]
    },
    {
      "cell_type": "code",
      "metadata": {
        "colab": {
          "base_uri": "https://localhost:8080/",
          "height": 450
        },
        "id": "9_6M7eAff4Ws",
        "outputId": "7dd17685-b8fb-44c7-f41f-b6a0636be6e1"
      },
      "source": [
        "# calculating the percentage per channel by first touch\n",
        "num_order = len(df['Orderid'].unique())\n",
        "T_first_percent = pd.DataFrame(df.loc[df['Positionname']=='ORIGINATOR', \n",
        "                             'Groupname'].value_counts()/num_order\n",
        "                             *100).reset_index().sort_values('index')\n",
        "np.round(T_first_percent,3)"
      ],
      "execution_count": 137,
      "outputs": [
        {
          "output_type": "execute_result",
          "data": {
            "text/html": [
              "<div>\n",
              "<style scoped>\n",
              "    .dataframe tbody tr th:only-of-type {\n",
              "        vertical-align: middle;\n",
              "    }\n",
              "\n",
              "    .dataframe tbody tr th {\n",
              "        vertical-align: top;\n",
              "    }\n",
              "\n",
              "    .dataframe thead th {\n",
              "        text-align: right;\n",
              "    }\n",
              "</style>\n",
              "<table border=\"1\" class=\"dataframe\">\n",
              "  <thead>\n",
              "    <tr style=\"text-align: right;\">\n",
              "      <th></th>\n",
              "      <th>index</th>\n",
              "      <th>Groupname</th>\n",
              "    </tr>\n",
              "  </thead>\n",
              "  <tbody>\n",
              "    <tr>\n",
              "      <th>2</th>\n",
              "      <td>BUZZ AFFILIATE</td>\n",
              "      <td>13.829</td>\n",
              "    </tr>\n",
              "    <tr>\n",
              "      <th>4</th>\n",
              "      <td>CJ</td>\n",
              "      <td>5.347</td>\n",
              "    </tr>\n",
              "    <tr>\n",
              "      <th>0</th>\n",
              "      <td>CPM</td>\n",
              "      <td>37.984</td>\n",
              "    </tr>\n",
              "    <tr>\n",
              "      <th>12</th>\n",
              "      <td>DIRECT MAIL</td>\n",
              "      <td>0.061</td>\n",
              "    </tr>\n",
              "    <tr>\n",
              "      <th>6</th>\n",
              "      <td>OTHER</td>\n",
              "      <td>1.229</td>\n",
              "    </tr>\n",
              "    <tr>\n",
              "      <th>10</th>\n",
              "      <td>PRINT - MAGAZINES</td>\n",
              "      <td>0.246</td>\n",
              "    </tr>\n",
              "    <tr>\n",
              "      <th>1</th>\n",
              "      <td>SEARCH GOOGLE BRAND</td>\n",
              "      <td>29.133</td>\n",
              "    </tr>\n",
              "    <tr>\n",
              "      <th>5</th>\n",
              "      <td>SEARCH GOOGLE NON-BRAND</td>\n",
              "      <td>3.258</td>\n",
              "    </tr>\n",
              "    <tr>\n",
              "      <th>3</th>\n",
              "      <td>SEARCH MSN BRAND</td>\n",
              "      <td>7.191</td>\n",
              "    </tr>\n",
              "    <tr>\n",
              "      <th>9</th>\n",
              "      <td>SEARCH MSN NON-BRAND</td>\n",
              "      <td>0.246</td>\n",
              "    </tr>\n",
              "    <tr>\n",
              "      <th>11</th>\n",
              "      <td>Social</td>\n",
              "      <td>0.061</td>\n",
              "    </tr>\n",
              "    <tr>\n",
              "      <th>7</th>\n",
              "      <td>TV</td>\n",
              "      <td>0.860</td>\n",
              "    </tr>\n",
              "    <tr>\n",
              "      <th>8</th>\n",
              "      <td>Uncategorized</td>\n",
              "      <td>0.553</td>\n",
              "    </tr>\n",
              "  </tbody>\n",
              "</table>\n",
              "</div>"
            ],
            "text/plain": [
              "                      index  Groupname\n",
              "2            BUZZ AFFILIATE     13.829\n",
              "4                        CJ      5.347\n",
              "0                       CPM     37.984\n",
              "12              DIRECT MAIL      0.061\n",
              "6                     OTHER      1.229\n",
              "10        PRINT - MAGAZINES      0.246\n",
              "1       SEARCH GOOGLE BRAND     29.133\n",
              "5   SEARCH GOOGLE NON-BRAND      3.258\n",
              "3          SEARCH MSN BRAND      7.191\n",
              "9      SEARCH MSN NON-BRAND      0.246\n",
              "11                   Social      0.061\n",
              "7                        TV      0.860\n",
              "8             Uncategorized      0.553"
            ]
          },
          "metadata": {
            "tags": []
          },
          "execution_count": 137
        }
      ]
    },
    {
      "cell_type": "code",
      "metadata": {
        "id": "RnhXlBwxf7D7"
      },
      "source": [
        "# merging all 4 tables \n",
        "merge_1 = np.round(pd.merge(T_last_count, T_first_count, how = 'outer', on = 'index').fillna(0).rename(\n",
        "    columns={\"Groupname_x\": \"Converter\", \"Groupname_y\": \"Originator\"}), 3)\n",
        "\n",
        "merge_2= np.round(pd.merge(T_last_percent, T_first_percent, how = 'outer', on = 'index').fillna(0).rename(\n",
        "    columns={\"Groupname_x\": \"Converter %\", \"Groupname_y\": \"Originator %\"}), 5)\n",
        "\n",
        "first_last = np.round(pd.merge(merge_1, merge_2, how = 'outer', on = 'index').fillna(0), 3)"
      ],
      "execution_count": 138,
      "outputs": []
    },
    {
      "cell_type": "markdown",
      "metadata": {
        "id": "iJSioY9ZmAiX"
      },
      "source": [
        "The table below displays the number of orders and corresponding share of credit from the two attribution (first and last touch) models."
      ]
    },
    {
      "cell_type": "code",
      "metadata": {
        "colab": {
          "base_uri": "https://localhost:8080/",
          "height": 482
        },
        "id": "h4a7PHj3ipUw",
        "outputId": "149110c4-c065-4453-8fa5-8d3f84b980fa"
      },
      "source": [
        "new_row = {'index': 'TOTAL', 'Converter': first_last.Converter.sum(), 'Originator': first_last.Originator.sum(), 'Converter %': first_last['Converter %'].sum(), 'Originator %': first_last['Originator %'].sum()}\n",
        "first_last = first_last.append(new_row, ignore_index=True)\n",
        "first_last"
      ],
      "execution_count": 139,
      "outputs": [
        {
          "output_type": "execute_result",
          "data": {
            "text/html": [
              "<div>\n",
              "<style scoped>\n",
              "    .dataframe tbody tr th:only-of-type {\n",
              "        vertical-align: middle;\n",
              "    }\n",
              "\n",
              "    .dataframe tbody tr th {\n",
              "        vertical-align: top;\n",
              "    }\n",
              "\n",
              "    .dataframe thead th {\n",
              "        text-align: right;\n",
              "    }\n",
              "</style>\n",
              "<table border=\"1\" class=\"dataframe\">\n",
              "  <thead>\n",
              "    <tr style=\"text-align: right;\">\n",
              "      <th></th>\n",
              "      <th>index</th>\n",
              "      <th>Converter</th>\n",
              "      <th>Originator</th>\n",
              "      <th>Converter %</th>\n",
              "      <th>Originator %</th>\n",
              "    </tr>\n",
              "  </thead>\n",
              "  <tbody>\n",
              "    <tr>\n",
              "      <th>0</th>\n",
              "      <td>BUZZ AFFILIATE</td>\n",
              "      <td>486.0</td>\n",
              "      <td>225</td>\n",
              "      <td>29.871</td>\n",
              "      <td>13.829</td>\n",
              "    </tr>\n",
              "    <tr>\n",
              "      <th>1</th>\n",
              "      <td>CJ</td>\n",
              "      <td>224.0</td>\n",
              "      <td>87</td>\n",
              "      <td>13.768</td>\n",
              "      <td>5.347</td>\n",
              "    </tr>\n",
              "    <tr>\n",
              "      <th>2</th>\n",
              "      <td>CPM</td>\n",
              "      <td>830.0</td>\n",
              "      <td>618</td>\n",
              "      <td>51.014</td>\n",
              "      <td>37.984</td>\n",
              "    </tr>\n",
              "    <tr>\n",
              "      <th>3</th>\n",
              "      <td>OTHER</td>\n",
              "      <td>3.0</td>\n",
              "      <td>20</td>\n",
              "      <td>0.184</td>\n",
              "      <td>1.229</td>\n",
              "    </tr>\n",
              "    <tr>\n",
              "      <th>4</th>\n",
              "      <td>PRINT - MAGAZINES</td>\n",
              "      <td>3.0</td>\n",
              "      <td>4</td>\n",
              "      <td>0.184</td>\n",
              "      <td>0.246</td>\n",
              "    </tr>\n",
              "    <tr>\n",
              "      <th>5</th>\n",
              "      <td>SEARCH GOOGLE NON-BRAND</td>\n",
              "      <td>32.0</td>\n",
              "      <td>53</td>\n",
              "      <td>1.967</td>\n",
              "      <td>3.258</td>\n",
              "    </tr>\n",
              "    <tr>\n",
              "      <th>6</th>\n",
              "      <td>SEARCH MSN NON-BRAND</td>\n",
              "      <td>7.0</td>\n",
              "      <td>4</td>\n",
              "      <td>0.430</td>\n",
              "      <td>0.246</td>\n",
              "    </tr>\n",
              "    <tr>\n",
              "      <th>7</th>\n",
              "      <td>TV</td>\n",
              "      <td>20.0</td>\n",
              "      <td>14</td>\n",
              "      <td>1.229</td>\n",
              "      <td>0.860</td>\n",
              "    </tr>\n",
              "    <tr>\n",
              "      <th>8</th>\n",
              "      <td>Uncategorized</td>\n",
              "      <td>22.0</td>\n",
              "      <td>9</td>\n",
              "      <td>1.352</td>\n",
              "      <td>0.553</td>\n",
              "    </tr>\n",
              "    <tr>\n",
              "      <th>9</th>\n",
              "      <td>DIRECT MAIL</td>\n",
              "      <td>0.0</td>\n",
              "      <td>1</td>\n",
              "      <td>0.000</td>\n",
              "      <td>0.061</td>\n",
              "    </tr>\n",
              "    <tr>\n",
              "      <th>10</th>\n",
              "      <td>SEARCH GOOGLE BRAND</td>\n",
              "      <td>0.0</td>\n",
              "      <td>474</td>\n",
              "      <td>0.000</td>\n",
              "      <td>29.133</td>\n",
              "    </tr>\n",
              "    <tr>\n",
              "      <th>11</th>\n",
              "      <td>SEARCH MSN BRAND</td>\n",
              "      <td>0.0</td>\n",
              "      <td>117</td>\n",
              "      <td>0.000</td>\n",
              "      <td>7.191</td>\n",
              "    </tr>\n",
              "    <tr>\n",
              "      <th>12</th>\n",
              "      <td>Social</td>\n",
              "      <td>0.0</td>\n",
              "      <td>1</td>\n",
              "      <td>0.000</td>\n",
              "      <td>0.061</td>\n",
              "    </tr>\n",
              "    <tr>\n",
              "      <th>13</th>\n",
              "      <td>TOTAL</td>\n",
              "      <td>1627.0</td>\n",
              "      <td>1627</td>\n",
              "      <td>99.999</td>\n",
              "      <td>99.998</td>\n",
              "    </tr>\n",
              "  </tbody>\n",
              "</table>\n",
              "</div>"
            ],
            "text/plain": [
              "                      index  Converter  Originator  Converter %  Originator %\n",
              "0            BUZZ AFFILIATE      486.0         225       29.871        13.829\n",
              "1                        CJ      224.0          87       13.768         5.347\n",
              "2                       CPM      830.0         618       51.014        37.984\n",
              "3                     OTHER        3.0          20        0.184         1.229\n",
              "4         PRINT - MAGAZINES        3.0           4        0.184         0.246\n",
              "5   SEARCH GOOGLE NON-BRAND       32.0          53        1.967         3.258\n",
              "6      SEARCH MSN NON-BRAND        7.0           4        0.430         0.246\n",
              "7                        TV       20.0          14        1.229         0.860\n",
              "8             Uncategorized       22.0           9        1.352         0.553\n",
              "9               DIRECT MAIL        0.0           1        0.000         0.061\n",
              "10      SEARCH GOOGLE BRAND        0.0         474        0.000        29.133\n",
              "11         SEARCH MSN BRAND        0.0         117        0.000         7.191\n",
              "12                   Social        0.0           1        0.000         0.061\n",
              "13                    TOTAL     1627.0        1627       99.999        99.998"
            ]
          },
          "metadata": {
            "tags": []
          },
          "execution_count": 139
        }
      ]
    },
    {
      "cell_type": "markdown",
      "metadata": {
        "id": "wj1VW-almOS0"
      },
      "source": [
        "**b) (10 pts) In a single bar chart, plot the share of credit (in percentage) for the first- and last touch attribution models by marketing channel.**"
      ]
    },
    {
      "cell_type": "code",
      "metadata": {
        "colab": {
          "base_uri": "https://localhost:8080/",
          "height": 859
        },
        "id": "MDzpRnvNkWBr",
        "outputId": "256ec20d-6b50-4b01-8b13-567c7fd5a41d"
      },
      "source": [
        "first_last[:13].plot(x='index', y=['Converter %', 'Originator %'], kind='bar', figsize=(15, 10))"
      ],
      "execution_count": 140,
      "outputs": [
        {
          "output_type": "execute_result",
          "data": {
            "text/plain": [
              "<matplotlib.axes._subplots.AxesSubplot at 0x7f0473325890>"
            ]
          },
          "metadata": {
            "tags": []
          },
          "execution_count": 140
        },
        {
          "output_type": "display_data",
          "data": {
            "image/png": "[encoded data removed]",
            "text/plain": [
              "<Figure size 1080x720 with 1 Axes>"
            ]
          },
          "metadata": {
            "tags": [],
            "needs_background": "light"
          }
        }
      ]
    },
    {
      "cell_type": "markdown",
      "metadata": {
        "id": "5OigNpuRoXWD"
      },
      "source": [
        "**c) (10 pts) Compare results from the two attribution model. What would be the\n",
        "consequence to Winters if it allocated its marketing budget entirely based on the lasttouch attribution model?**"
      ]
    },
    {
      "cell_type": "markdown",
      "metadata": {
        "id": "CqeRu8fsowku"
      },
      "source": [
        "The CPM channel has the share of credit when using both first and last touch attribution models (51.01% and 37.98% respectively). The Buzz Affiliates channel holds the second highest share of credit when using the last touch attribution model (29.87%), but has a significantly lower proportion of credit share for the first touch attribution model (13.83%). When customers search for google brands, the first touch attribution displays that this accounts to 29.13% of the total share of credit. The CJ channel has the third highest share of credit (13.77%) across the last touch attribution model. We note that all other channels have less than 8% of the total share of credit across both the first and last touch attribution models. This implies that CPM and Buzz Affiliates have the highest share of credits across both models, with an addition of the CJ channel's share of credit only for the last touch attribution model. \n",
        "\n",
        "If the marketing budget is allocated entirely based on the last touch attribution model, then Winters will not be able to account for the consumer interactions with all other touchpoints. There might be an interaction effect between all these different marketing touchpoints, which a single touch model (either first or last touch model) will fail to take into account. "
      ]
    },
    {
      "cell_type": "markdown",
      "metadata": {
        "id": "xwMEW2azragc"
      },
      "source": [
        "**Q2. (20 pts) Compare new customers and old customers**\n",
        "\n",
        "**a) (5 pts) What is the average number of days that it takes for a new customer to convert (from the first touchpoint)? What is the average number of days that it takes for an old customer to convert?**"
      ]
    },
    {
      "cell_type": "code",
      "metadata": {
        "id": "szlllrDbmjQT"
      },
      "source": [
        "num_order_new = len(df[(df['Positionname']=='CONVERTER')&(df['Newcustomer'] == 'Y')])\n",
        "num_order_old = len(df[(df['Positionname']=='CONVERTER')&(df['Newcustomer'] == 'N')])"
      ],
      "execution_count": 15,
      "outputs": []
    },
    {
      "cell_type": "code",
      "metadata": {
        "colab": {
          "base_uri": "https://localhost:8080/"
        },
        "id": "zmaTkU37s5JI",
        "outputId": "521c6a7a-af29-4ad7-b114-cc28c687f976"
      },
      "source": [
        "new_firsttouchpoint = df[(df['Newcustomer'] == 'Y') & (df['Positionname'] == 'ORIGINATOR')]\n",
        "new_firsttouchpoint.DaysToConvert.mean()"
      ],
      "execution_count": 16,
      "outputs": [
        {
          "output_type": "execute_result",
          "data": {
            "text/plain": [
              "5.504073319755601"
            ]
          },
          "metadata": {
            "tags": []
          },
          "execution_count": 16
        }
      ]
    },
    {
      "cell_type": "markdown",
      "metadata": {
        "id": "mlMIuedIvIC8"
      },
      "source": [
        "On average, it takes 5.5 days for a new customer to convert from the first touch point. "
      ]
    },
    {
      "cell_type": "code",
      "metadata": {
        "colab": {
          "base_uri": "https://localhost:8080/"
        },
        "id": "u2I4GRmJvIOZ",
        "outputId": "44fad093-ddb7-4573-8be1-f9e2a7aacf99"
      },
      "source": [
        "old_firsttouchpoint = df[(df['Newcustomer'] == 'N') & (df['Positionname'] == 'ORIGINATOR')]\n",
        "old_firsttouchpoint.DaysToConvert.mean()"
      ],
      "execution_count": 17,
      "outputs": [
        {
          "output_type": "execute_result",
          "data": {
            "text/plain": [
              "32.010852713178295"
            ]
          },
          "metadata": {
            "tags": []
          },
          "execution_count": 17
        }
      ]
    },
    {
      "cell_type": "markdown",
      "metadata": {
        "id": "nPH-jNuxvW2-"
      },
      "source": [
        "It takes 32 days on average for an old customer to convert from the first touch point."
      ]
    },
    {
      "cell_type": "markdown",
      "metadata": {
        "id": "Oo0S8ieYvk97"
      },
      "source": [
        "**b) (5 pts) What is the average number of touchpoints by new versus old customer’s orders? Hint: Use the Touches variable if available. If not, create the ‘Touches’ variable for the number of touchpoints per order. R users can use the add_count() function.**"
      ]
    },
    {
      "cell_type": "code",
      "metadata": {
        "colab": {
          "base_uri": "https://localhost:8080/",
          "height": 449
        },
        "id": "nbTWj00-vl9D",
        "outputId": "41f3538e-4f9d-49c6-cb4b-0349ef744b40"
      },
      "source": [
        "new = df[df['Newcustomer'] == 'Y']\n",
        "temp = new.groupby('Orderid')['Position'].count()\n",
        "temp_new = pd.DataFrame(temp)\n",
        "temp_new['Touches'] = temp_new['Position']\n",
        "temp_new = temp_new['Touches']\n",
        "pd.DataFrame(temp_new)"
      ],
      "execution_count": 68,
      "outputs": [
        {
          "output_type": "execute_result",
          "data": {
            "text/html": [
              "<div>\n",
              "<style scoped>\n",
              "    .dataframe tbody tr th:only-of-type {\n",
              "        vertical-align: middle;\n",
              "    }\n",
              "\n",
              "    .dataframe tbody tr th {\n",
              "        vertical-align: top;\n",
              "    }\n",
              "\n",
              "    .dataframe thead th {\n",
              "        text-align: right;\n",
              "    }\n",
              "</style>\n",
              "<table border=\"1\" class=\"dataframe\">\n",
              "  <thead>\n",
              "    <tr style=\"text-align: right;\">\n",
              "      <th></th>\n",
              "      <th>Touches</th>\n",
              "    </tr>\n",
              "    <tr>\n",
              "      <th>Orderid</th>\n",
              "      <th></th>\n",
              "    </tr>\n",
              "  </thead>\n",
              "  <tbody>\n",
              "    <tr>\n",
              "      <th>11634052</th>\n",
              "      <td>2</td>\n",
              "    </tr>\n",
              "    <tr>\n",
              "      <th>11634059</th>\n",
              "      <td>3</td>\n",
              "    </tr>\n",
              "    <tr>\n",
              "      <th>11634191</th>\n",
              "      <td>4</td>\n",
              "    </tr>\n",
              "    <tr>\n",
              "      <th>11634217</th>\n",
              "      <td>3</td>\n",
              "    </tr>\n",
              "    <tr>\n",
              "      <th>11634218</th>\n",
              "      <td>5</td>\n",
              "    </tr>\n",
              "    <tr>\n",
              "      <th>...</th>\n",
              "      <td>...</td>\n",
              "    </tr>\n",
              "    <tr>\n",
              "      <th>11777393</th>\n",
              "      <td>2</td>\n",
              "    </tr>\n",
              "    <tr>\n",
              "      <th>11777407</th>\n",
              "      <td>3</td>\n",
              "    </tr>\n",
              "    <tr>\n",
              "      <th>11777419</th>\n",
              "      <td>2</td>\n",
              "    </tr>\n",
              "    <tr>\n",
              "      <th>11777467</th>\n",
              "      <td>3</td>\n",
              "    </tr>\n",
              "    <tr>\n",
              "      <th>11777469</th>\n",
              "      <td>4</td>\n",
              "    </tr>\n",
              "  </tbody>\n",
              "</table>\n",
              "<p>982 rows × 1 columns</p>\n",
              "</div>"
            ],
            "text/plain": [
              "          Touches\n",
              "Orderid          \n",
              "11634052        2\n",
              "11634059        3\n",
              "11634191        4\n",
              "11634217        3\n",
              "11634218        5\n",
              "...           ...\n",
              "11777393        2\n",
              "11777407        3\n",
              "11777419        2\n",
              "11777467        3\n",
              "11777469        4\n",
              "\n",
              "[982 rows x 1 columns]"
            ]
          },
          "metadata": {
            "tags": []
          },
          "execution_count": 68
        }
      ]
    },
    {
      "cell_type": "code",
      "metadata": {
        "colab": {
          "base_uri": "https://localhost:8080/"
        },
        "id": "Kdfadz-_1pHK",
        "outputId": "164d8310-a235-4bf4-bd49-d8ed62e8f734"
      },
      "source": [
        "temp_new.sum()/temp_new.shape[0]"
      ],
      "execution_count": 69,
      "outputs": [
        {
          "output_type": "execute_result",
          "data": {
            "text/plain": [
              "4.321792260692464"
            ]
          },
          "metadata": {
            "tags": []
          },
          "execution_count": 69
        }
      ]
    },
    {
      "cell_type": "code",
      "metadata": {
        "colab": {
          "base_uri": "https://localhost:8080/",
          "height": 449
        },
        "id": "e3EAilXJ2DsE",
        "outputId": "39450691-ebec-49ec-b113-9910e41e8b03"
      },
      "source": [
        "old = df[df['Newcustomer'] == 'N']\n",
        "temp = old.groupby('Orderid')['Position'].count()\n",
        "temp_old = pd.DataFrame(temp)\n",
        "temp_old['Touches'] = temp_old['Position']\n",
        "temp_old = temp_old['Touches']\n",
        "pd.DataFrame(temp_old)"
      ],
      "execution_count": 70,
      "outputs": [
        {
          "output_type": "execute_result",
          "data": {
            "text/html": [
              "<div>\n",
              "<style scoped>\n",
              "    .dataframe tbody tr th:only-of-type {\n",
              "        vertical-align: middle;\n",
              "    }\n",
              "\n",
              "    .dataframe tbody tr th {\n",
              "        vertical-align: top;\n",
              "    }\n",
              "\n",
              "    .dataframe thead th {\n",
              "        text-align: right;\n",
              "    }\n",
              "</style>\n",
              "<table border=\"1\" class=\"dataframe\">\n",
              "  <thead>\n",
              "    <tr style=\"text-align: right;\">\n",
              "      <th></th>\n",
              "      <th>Touches</th>\n",
              "    </tr>\n",
              "    <tr>\n",
              "      <th>Orderid</th>\n",
              "      <th></th>\n",
              "    </tr>\n",
              "  </thead>\n",
              "  <tbody>\n",
              "    <tr>\n",
              "      <th>11634060</th>\n",
              "      <td>8</td>\n",
              "    </tr>\n",
              "    <tr>\n",
              "      <th>11634119</th>\n",
              "      <td>2</td>\n",
              "    </tr>\n",
              "    <tr>\n",
              "      <th>11635494</th>\n",
              "      <td>4</td>\n",
              "    </tr>\n",
              "    <tr>\n",
              "      <th>11636452</th>\n",
              "      <td>6</td>\n",
              "    </tr>\n",
              "    <tr>\n",
              "      <th>11637581</th>\n",
              "      <td>4</td>\n",
              "    </tr>\n",
              "    <tr>\n",
              "      <th>...</th>\n",
              "      <td>...</td>\n",
              "    </tr>\n",
              "    <tr>\n",
              "      <th>11776990</th>\n",
              "      <td>4</td>\n",
              "    </tr>\n",
              "    <tr>\n",
              "      <th>11777034</th>\n",
              "      <td>5</td>\n",
              "    </tr>\n",
              "    <tr>\n",
              "      <th>11777068</th>\n",
              "      <td>7</td>\n",
              "    </tr>\n",
              "    <tr>\n",
              "      <th>11777397</th>\n",
              "      <td>7</td>\n",
              "    </tr>\n",
              "    <tr>\n",
              "      <th>11777500</th>\n",
              "      <td>5</td>\n",
              "    </tr>\n",
              "  </tbody>\n",
              "</table>\n",
              "<p>645 rows × 1 columns</p>\n",
              "</div>"
            ],
            "text/plain": [
              "          Touches\n",
              "Orderid          \n",
              "11634060        8\n",
              "11634119        2\n",
              "11635494        4\n",
              "11636452        6\n",
              "11637581        4\n",
              "...           ...\n",
              "11776990        4\n",
              "11777034        5\n",
              "11777068        7\n",
              "11777397        7\n",
              "11777500        5\n",
              "\n",
              "[645 rows x 1 columns]"
            ]
          },
          "metadata": {
            "tags": []
          },
          "execution_count": 70
        }
      ]
    },
    {
      "cell_type": "code",
      "metadata": {
        "colab": {
          "base_uri": "https://localhost:8080/"
        },
        "id": "oKKQLbo32E7b",
        "outputId": "68503bec-a228-4dea-d684-aabfd3c98795"
      },
      "source": [
        "temp_old.sum()/temp_old.shape[0]"
      ],
      "execution_count": 71,
      "outputs": [
        {
          "output_type": "execute_result",
          "data": {
            "text/plain": [
              "5.24031007751938"
            ]
          },
          "metadata": {
            "tags": []
          },
          "execution_count": 71
        }
      ]
    },
    {
      "cell_type": "markdown",
      "metadata": {
        "id": "ztISmUvn21cT"
      },
      "source": [
        "New customers on average have 4.32 touchpoints while old customers on average have 5.24 touchpoints."
      ]
    },
    {
      "cell_type": "markdown",
      "metadata": {
        "id": "-CU3NPFt4B04"
      },
      "source": [
        "**c) (5 pts) What is the average order sales amount by new versus old customer’s orders?**"
      ]
    },
    {
      "cell_type": "code",
      "metadata": {
        "colab": {
          "base_uri": "https://localhost:8080/"
        },
        "id": "tDKA2HPosg4t",
        "outputId": "58f6a668-0de0-4a86-d08e-1dc6915323ec"
      },
      "source": [
        "print(new.Saleamount.mean())\n",
        "print(old.Saleamount.mean())"
      ],
      "execution_count": 22,
      "outputs": [
        {
          "output_type": "stream",
          "text": [
            "264.26314090480633\n",
            "205.5042189349092\n"
          ],
          "name": "stdout"
        }
      ]
    },
    {
      "cell_type": "markdown",
      "metadata": {
        "id": "AFnHijQt4TyP"
      },
      "source": [
        "The average order sales for new customers' orders is 264.26 USD while the average order sales for old customers' orders is 205.50 USD."
      ]
    },
    {
      "cell_type": "markdown",
      "metadata": {
        "id": "xSk8BD0x4jG0"
      },
      "source": [
        "**d) (5 pts) Summarize how new and old customers differ along these three variables.**"
      ]
    },
    {
      "cell_type": "markdown",
      "metadata": {
        "id": "NsDZD7gW4o2q"
      },
      "source": [
        "The three variables used for the summary include the average number of days to convert, average number of touchpoints and average order sales for customers' orders. \n",
        "\n",
        "Old customers take approximately 27 days more to convert than new customers and they have a marginally higher number of touchpoints on average (old customers have 5.34 touchpoints on average while new customers have 4.32 touchpoints on average). However, the average order sales for new customers' is higher than that of old customers. This indicates that there might be some new customers who might be making bulk purchases, while old customers prefer to visit the site regularly to make smaller purchases. Old customers might prefer browsing on the website longer before making a purchase, which in turn leads to having more touchpoints when browsing longer on the site. "
      ]
    },
    {
      "cell_type": "code",
      "metadata": {
        "colab": {
          "base_uri": "https://localhost:8080/",
          "height": 482
        },
        "id": "gLxEoe3Ys3cd",
        "outputId": "98cd4df3-e46b-418d-fa82-4bb4a8e947c7"
      },
      "source": [
        "T_first_new_percent = pd.DataFrame(df.loc[(df['Positionname']=='ORIGINATOR')&(df['Newcustomer'] == 'Y'), \n",
        "                'Groupname'].value_counts()/num_order_new*100).reset_index().sort_values('index')\n",
        "\n",
        "T_first_new_count = pd.DataFrame(df.loc[(df['Positionname']=='ORIGINATOR')&(df['Newcustomer'] == 'Y'), \n",
        "                'Groupname'].value_counts()).reset_index().sort_values('index')\n",
        "\n",
        "T_first_old_percent = pd.DataFrame(df.loc[(df['Positionname']=='ORIGINATOR')&(df['Newcustomer'] == 'N'), \n",
        "                'Groupname'].value_counts()/num_order_old*100).reset_index().sort_values('index')\n",
        "\n",
        "T_first_old_count = pd.DataFrame(df.loc[(df['Positionname']=='ORIGINATOR')&(df['Newcustomer'] == 'N'), \n",
        "                'Groupname'].value_counts()).reset_index().sort_values('index')\n",
        "                \n",
        "# merging all 4 tables \n",
        "merge_1 = np.round(pd.merge(T_first_new_count, T_first_old_count, how = 'outer', on = 'index').fillna(0).rename(\n",
        "    columns={\"Groupname_x\": \"New Customers\", \"Groupname_y\": \"Old Customers\"}), 3)\n",
        "\n",
        "merge_2= np.round(pd.merge(T_first_new_percent, T_first_old_percent, how = 'outer', on = 'index').fillna(0).rename(\n",
        "    columns={\"Groupname_x\": \"New Customer Share of Credit\", \"Groupname_y\": \"Old Customer Share of Credit\"}), 5)\n",
        "\n",
        "first_last = np.round(pd.merge(merge_1, merge_2, how = 'outer', on = 'index').fillna(0), 3)\n",
        "new_row = {'index': 'TOTAL', 'New Customers': first_last['New Customers'].sum(), 'Old Customers': first_last['Old Customers'].sum(), 'New Customer Share of Credit': first_last['New Customer Share of Credit'].sum(), 'Old Customer Share of Credit': first_last['Old Customer Share of Credit'].sum()}\n",
        "first_last = first_last.append(new_row, ignore_index=True)\n",
        "first_last"
      ],
      "execution_count": 23,
      "outputs": [
        {
          "output_type": "execute_result",
          "data": {
            "text/html": [
              "<div>\n",
              "<style scoped>\n",
              "    .dataframe tbody tr th:only-of-type {\n",
              "        vertical-align: middle;\n",
              "    }\n",
              "\n",
              "    .dataframe tbody tr th {\n",
              "        vertical-align: top;\n",
              "    }\n",
              "\n",
              "    .dataframe thead th {\n",
              "        text-align: right;\n",
              "    }\n",
              "</style>\n",
              "<table border=\"1\" class=\"dataframe\">\n",
              "  <thead>\n",
              "    <tr style=\"text-align: right;\">\n",
              "      <th></th>\n",
              "      <th>index</th>\n",
              "      <th>New Customers</th>\n",
              "      <th>Old Customers</th>\n",
              "      <th>New Customer Share of Credit</th>\n",
              "      <th>Old Customer Share of Credit</th>\n",
              "    </tr>\n",
              "  </thead>\n",
              "  <tbody>\n",
              "    <tr>\n",
              "      <th>0</th>\n",
              "      <td>BUZZ AFFILIATE</td>\n",
              "      <td>127.0</td>\n",
              "      <td>98.0</td>\n",
              "      <td>12.933</td>\n",
              "      <td>15.194</td>\n",
              "    </tr>\n",
              "    <tr>\n",
              "      <th>1</th>\n",
              "      <td>CJ</td>\n",
              "      <td>49.0</td>\n",
              "      <td>38.0</td>\n",
              "      <td>4.990</td>\n",
              "      <td>5.891</td>\n",
              "    </tr>\n",
              "    <tr>\n",
              "      <th>2</th>\n",
              "      <td>CPM</td>\n",
              "      <td>381.0</td>\n",
              "      <td>237.0</td>\n",
              "      <td>38.798</td>\n",
              "      <td>36.744</td>\n",
              "    </tr>\n",
              "    <tr>\n",
              "      <th>3</th>\n",
              "      <td>OTHER</td>\n",
              "      <td>6.0</td>\n",
              "      <td>14.0</td>\n",
              "      <td>0.611</td>\n",
              "      <td>2.171</td>\n",
              "    </tr>\n",
              "    <tr>\n",
              "      <th>4</th>\n",
              "      <td>PRINT - MAGAZINES</td>\n",
              "      <td>2.0</td>\n",
              "      <td>2.0</td>\n",
              "      <td>0.204</td>\n",
              "      <td>0.310</td>\n",
              "    </tr>\n",
              "    <tr>\n",
              "      <th>5</th>\n",
              "      <td>SEARCH GOOGLE BRAND</td>\n",
              "      <td>294.0</td>\n",
              "      <td>180.0</td>\n",
              "      <td>29.939</td>\n",
              "      <td>27.907</td>\n",
              "    </tr>\n",
              "    <tr>\n",
              "      <th>6</th>\n",
              "      <td>SEARCH GOOGLE NON-BRAND</td>\n",
              "      <td>34.0</td>\n",
              "      <td>19.0</td>\n",
              "      <td>3.462</td>\n",
              "      <td>2.946</td>\n",
              "    </tr>\n",
              "    <tr>\n",
              "      <th>7</th>\n",
              "      <td>SEARCH MSN BRAND</td>\n",
              "      <td>69.0</td>\n",
              "      <td>48.0</td>\n",
              "      <td>7.026</td>\n",
              "      <td>7.442</td>\n",
              "    </tr>\n",
              "    <tr>\n",
              "      <th>8</th>\n",
              "      <td>SEARCH MSN NON-BRAND</td>\n",
              "      <td>4.0</td>\n",
              "      <td>0.0</td>\n",
              "      <td>0.407</td>\n",
              "      <td>0.000</td>\n",
              "    </tr>\n",
              "    <tr>\n",
              "      <th>9</th>\n",
              "      <td>Social</td>\n",
              "      <td>1.0</td>\n",
              "      <td>0.0</td>\n",
              "      <td>0.102</td>\n",
              "      <td>0.000</td>\n",
              "    </tr>\n",
              "    <tr>\n",
              "      <th>10</th>\n",
              "      <td>TV</td>\n",
              "      <td>10.0</td>\n",
              "      <td>4.0</td>\n",
              "      <td>1.018</td>\n",
              "      <td>0.620</td>\n",
              "    </tr>\n",
              "    <tr>\n",
              "      <th>11</th>\n",
              "      <td>Uncategorized</td>\n",
              "      <td>5.0</td>\n",
              "      <td>4.0</td>\n",
              "      <td>0.509</td>\n",
              "      <td>0.620</td>\n",
              "    </tr>\n",
              "    <tr>\n",
              "      <th>12</th>\n",
              "      <td>DIRECT MAIL</td>\n",
              "      <td>0.0</td>\n",
              "      <td>1.0</td>\n",
              "      <td>0.000</td>\n",
              "      <td>0.155</td>\n",
              "    </tr>\n",
              "    <tr>\n",
              "      <th>13</th>\n",
              "      <td>TOTAL</td>\n",
              "      <td>982.0</td>\n",
              "      <td>645.0</td>\n",
              "      <td>99.999</td>\n",
              "      <td>100.000</td>\n",
              "    </tr>\n",
              "  </tbody>\n",
              "</table>\n",
              "</div>"
            ],
            "text/plain": [
              "                      index  ...  Old Customer Share of Credit\n",
              "0            BUZZ AFFILIATE  ...                        15.194\n",
              "1                        CJ  ...                         5.891\n",
              "2                       CPM  ...                        36.744\n",
              "3                     OTHER  ...                         2.171\n",
              "4         PRINT - MAGAZINES  ...                         0.310\n",
              "5       SEARCH GOOGLE BRAND  ...                        27.907\n",
              "6   SEARCH GOOGLE NON-BRAND  ...                         2.946\n",
              "7          SEARCH MSN BRAND  ...                         7.442\n",
              "8      SEARCH MSN NON-BRAND  ...                         0.000\n",
              "9                    Social  ...                         0.000\n",
              "10                       TV  ...                         0.620\n",
              "11            Uncategorized  ...                         0.620\n",
              "12              DIRECT MAIL  ...                         0.155\n",
              "13                    TOTAL  ...                       100.000\n",
              "\n",
              "[14 rows x 5 columns]"
            ]
          },
          "metadata": {
            "tags": []
          },
          "execution_count": 23
        }
      ]
    },
    {
      "cell_type": "markdown",
      "metadata": {
        "id": "Nbq2jdIWKp-_"
      },
      "source": [
        "**Q3. (20 pts) Consider the revenue per marketing channel using first-touch attribution.**\n",
        "**a) (10 pts) Create a table (as in Q1) containing the average sales per order as well as the total revenue by originator channel.**"
      ]
    },
    {
      "cell_type": "code",
      "metadata": {
        "colab": {
          "base_uri": "https://localhost:8080/"
        },
        "id": "2NDpyqwyLfVz",
        "outputId": "9b495b10-90ee-4c5e-f548-8c6b763a70ab"
      },
      "source": [
        "originator = df[df['Positionname'] == 'ORIGINATOR']\n",
        "originator.groupby('Positionname')['Saleamount'].mean()"
      ],
      "execution_count": 44,
      "outputs": [
        {
          "output_type": "execute_result",
          "data": {
            "text/plain": [
              "Positionname\n",
              "ORIGINATOR    244.040627\n",
              "Name: Saleamount, dtype: float64"
            ]
          },
          "metadata": {
            "tags": []
          },
          "execution_count": 44
        }
      ]
    },
    {
      "cell_type": "code",
      "metadata": {
        "colab": {
          "base_uri": "https://localhost:8080/",
          "height": 482
        },
        "id": "2Q-uM5TuMGB8",
        "outputId": "4740adc7-a14f-4eb0-f654-aee27e47f7da"
      },
      "source": [
        "df1=pd.DataFrame(df.loc[df['Positionname']=='ORIGINATOR'])\n",
        "originator1 = pd.DataFrame(df1.groupby('Groupname')['Saleamount'].mean())\n",
        "originator1"
      ],
      "execution_count": 52,
      "outputs": [
        {
          "output_type": "execute_result",
          "data": {
            "text/html": [
              "<div>\n",
              "<style scoped>\n",
              "    .dataframe tbody tr th:only-of-type {\n",
              "        vertical-align: middle;\n",
              "    }\n",
              "\n",
              "    .dataframe tbody tr th {\n",
              "        vertical-align: top;\n",
              "    }\n",
              "\n",
              "    .dataframe thead th {\n",
              "        text-align: right;\n",
              "    }\n",
              "</style>\n",
              "<table border=\"1\" class=\"dataframe\">\n",
              "  <thead>\n",
              "    <tr style=\"text-align: right;\">\n",
              "      <th></th>\n",
              "      <th>Saleamount</th>\n",
              "    </tr>\n",
              "    <tr>\n",
              "      <th>Groupname</th>\n",
              "      <th></th>\n",
              "    </tr>\n",
              "  </thead>\n",
              "  <tbody>\n",
              "    <tr>\n",
              "      <th>BUZZ AFFILIATE</th>\n",
              "      <td>253.291867</td>\n",
              "    </tr>\n",
              "    <tr>\n",
              "      <th>CJ</th>\n",
              "      <td>249.262299</td>\n",
              "    </tr>\n",
              "    <tr>\n",
              "      <th>CPM</th>\n",
              "      <td>240.458916</td>\n",
              "    </tr>\n",
              "    <tr>\n",
              "      <th>DIRECT MAIL</th>\n",
              "      <td>170.980000</td>\n",
              "    </tr>\n",
              "    <tr>\n",
              "      <th>OTHER</th>\n",
              "      <td>226.381000</td>\n",
              "    </tr>\n",
              "    <tr>\n",
              "      <th>PRINT - MAGAZINES</th>\n",
              "      <td>262.977500</td>\n",
              "    </tr>\n",
              "    <tr>\n",
              "      <th>SEARCH GOOGLE BRAND</th>\n",
              "      <td>243.885675</td>\n",
              "    </tr>\n",
              "    <tr>\n",
              "      <th>SEARCH GOOGLE NON-BRAND</th>\n",
              "      <td>245.820377</td>\n",
              "    </tr>\n",
              "    <tr>\n",
              "      <th>SEARCH MSN BRAND</th>\n",
              "      <td>246.329573</td>\n",
              "    </tr>\n",
              "    <tr>\n",
              "      <th>SEARCH MSN NON-BRAND</th>\n",
              "      <td>242.317500</td>\n",
              "    </tr>\n",
              "    <tr>\n",
              "      <th>Social</th>\n",
              "      <td>165.000000</td>\n",
              "    </tr>\n",
              "    <tr>\n",
              "      <th>TV</th>\n",
              "      <td>240.806429</td>\n",
              "    </tr>\n",
              "    <tr>\n",
              "      <th>Uncategorized</th>\n",
              "      <td>229.675556</td>\n",
              "    </tr>\n",
              "  </tbody>\n",
              "</table>\n",
              "</div>"
            ],
            "text/plain": [
              "                         Saleamount\n",
              "Groupname                          \n",
              "BUZZ AFFILIATE           253.291867\n",
              "CJ                       249.262299\n",
              "CPM                      240.458916\n",
              "DIRECT MAIL              170.980000\n",
              "OTHER                    226.381000\n",
              "PRINT - MAGAZINES        262.977500\n",
              "SEARCH GOOGLE BRAND      243.885675\n",
              "SEARCH GOOGLE NON-BRAND  245.820377\n",
              "SEARCH MSN BRAND         246.329573\n",
              "SEARCH MSN NON-BRAND     242.317500\n",
              "Social                   165.000000\n",
              "TV                       240.806429\n",
              "Uncategorized            229.675556"
            ]
          },
          "metadata": {
            "tags": []
          },
          "execution_count": 52
        }
      ]
    },
    {
      "cell_type": "code",
      "metadata": {
        "colab": {
          "base_uri": "https://localhost:8080/",
          "height": 482
        },
        "id": "pdtEvtBHOoE0",
        "outputId": "e200c15c-ed23-45f7-999e-398b4ba697ee"
      },
      "source": [
        "df1=pd.DataFrame(df.loc[df['Positionname']=='ORIGINATOR'])\n",
        "originator2 = pd.DataFrame(df1.groupby('Groupname')['Saleamount'].sum())\n",
        "originator2"
      ],
      "execution_count": 53,
      "outputs": [
        {
          "output_type": "execute_result",
          "data": {
            "text/html": [
              "<div>\n",
              "<style scoped>\n",
              "    .dataframe tbody tr th:only-of-type {\n",
              "        vertical-align: middle;\n",
              "    }\n",
              "\n",
              "    .dataframe tbody tr th {\n",
              "        vertical-align: top;\n",
              "    }\n",
              "\n",
              "    .dataframe thead th {\n",
              "        text-align: right;\n",
              "    }\n",
              "</style>\n",
              "<table border=\"1\" class=\"dataframe\">\n",
              "  <thead>\n",
              "    <tr style=\"text-align: right;\">\n",
              "      <th></th>\n",
              "      <th>Saleamount</th>\n",
              "    </tr>\n",
              "    <tr>\n",
              "      <th>Groupname</th>\n",
              "      <th></th>\n",
              "    </tr>\n",
              "  </thead>\n",
              "  <tbody>\n",
              "    <tr>\n",
              "      <th>BUZZ AFFILIATE</th>\n",
              "      <td>56990.67</td>\n",
              "    </tr>\n",
              "    <tr>\n",
              "      <th>CJ</th>\n",
              "      <td>21685.82</td>\n",
              "    </tr>\n",
              "    <tr>\n",
              "      <th>CPM</th>\n",
              "      <td>148603.61</td>\n",
              "    </tr>\n",
              "    <tr>\n",
              "      <th>DIRECT MAIL</th>\n",
              "      <td>170.98</td>\n",
              "    </tr>\n",
              "    <tr>\n",
              "      <th>OTHER</th>\n",
              "      <td>4527.62</td>\n",
              "    </tr>\n",
              "    <tr>\n",
              "      <th>PRINT - MAGAZINES</th>\n",
              "      <td>1051.91</td>\n",
              "    </tr>\n",
              "    <tr>\n",
              "      <th>SEARCH GOOGLE BRAND</th>\n",
              "      <td>115601.81</td>\n",
              "    </tr>\n",
              "    <tr>\n",
              "      <th>SEARCH GOOGLE NON-BRAND</th>\n",
              "      <td>13028.48</td>\n",
              "    </tr>\n",
              "    <tr>\n",
              "      <th>SEARCH MSN BRAND</th>\n",
              "      <td>28820.56</td>\n",
              "    </tr>\n",
              "    <tr>\n",
              "      <th>SEARCH MSN NON-BRAND</th>\n",
              "      <td>969.27</td>\n",
              "    </tr>\n",
              "    <tr>\n",
              "      <th>Social</th>\n",
              "      <td>165.00</td>\n",
              "    </tr>\n",
              "    <tr>\n",
              "      <th>TV</th>\n",
              "      <td>3371.29</td>\n",
              "    </tr>\n",
              "    <tr>\n",
              "      <th>Uncategorized</th>\n",
              "      <td>2067.08</td>\n",
              "    </tr>\n",
              "  </tbody>\n",
              "</table>\n",
              "</div>"
            ],
            "text/plain": [
              "                         Saleamount\n",
              "Groupname                          \n",
              "BUZZ AFFILIATE             56990.67\n",
              "CJ                         21685.82\n",
              "CPM                       148603.61\n",
              "DIRECT MAIL                  170.98\n",
              "OTHER                       4527.62\n",
              "PRINT - MAGAZINES           1051.91\n",
              "SEARCH GOOGLE BRAND       115601.81\n",
              "SEARCH GOOGLE NON-BRAND    13028.48\n",
              "SEARCH MSN BRAND           28820.56\n",
              "SEARCH MSN NON-BRAND         969.27\n",
              "Social                       165.00\n",
              "TV                          3371.29\n",
              "Uncategorized               2067.08"
            ]
          },
          "metadata": {
            "tags": []
          },
          "execution_count": 53
        }
      ]
    },
    {
      "cell_type": "code",
      "metadata": {
        "colab": {
          "base_uri": "https://localhost:8080/",
          "height": 482
        },
        "id": "yT5S2N6sRRAy",
        "outputId": "3c0fd37a-56dc-4384-9ebe-a38d33041ffe"
      },
      "source": [
        "# merging the 2 tables \n",
        "merge_1 = np.round(pd.merge(originator1, originator2, how = 'outer', on = 'Groupname').fillna(0).rename(\n",
        "    columns={\"Saleamount_x\": \"Average Sales by Channel\", \"Saleamount_y\": \"Total Sales by Channel\"}), 3)\n",
        "merge_1"
      ],
      "execution_count": 57,
      "outputs": [
        {
          "output_type": "execute_result",
          "data": {
            "text/html": [
              "<div>\n",
              "<style scoped>\n",
              "    .dataframe tbody tr th:only-of-type {\n",
              "        vertical-align: middle;\n",
              "    }\n",
              "\n",
              "    .dataframe tbody tr th {\n",
              "        vertical-align: top;\n",
              "    }\n",
              "\n",
              "    .dataframe thead th {\n",
              "        text-align: right;\n",
              "    }\n",
              "</style>\n",
              "<table border=\"1\" class=\"dataframe\">\n",
              "  <thead>\n",
              "    <tr style=\"text-align: right;\">\n",
              "      <th></th>\n",
              "      <th>Average Sales by Channel</th>\n",
              "      <th>Total Sales by Channel</th>\n",
              "    </tr>\n",
              "    <tr>\n",
              "      <th>Groupname</th>\n",
              "      <th></th>\n",
              "      <th></th>\n",
              "    </tr>\n",
              "  </thead>\n",
              "  <tbody>\n",
              "    <tr>\n",
              "      <th>BUZZ AFFILIATE</th>\n",
              "      <td>253.292</td>\n",
              "      <td>56990.67</td>\n",
              "    </tr>\n",
              "    <tr>\n",
              "      <th>CJ</th>\n",
              "      <td>249.262</td>\n",
              "      <td>21685.82</td>\n",
              "    </tr>\n",
              "    <tr>\n",
              "      <th>CPM</th>\n",
              "      <td>240.459</td>\n",
              "      <td>148603.61</td>\n",
              "    </tr>\n",
              "    <tr>\n",
              "      <th>DIRECT MAIL</th>\n",
              "      <td>170.980</td>\n",
              "      <td>170.98</td>\n",
              "    </tr>\n",
              "    <tr>\n",
              "      <th>OTHER</th>\n",
              "      <td>226.381</td>\n",
              "      <td>4527.62</td>\n",
              "    </tr>\n",
              "    <tr>\n",
              "      <th>PRINT - MAGAZINES</th>\n",
              "      <td>262.977</td>\n",
              "      <td>1051.91</td>\n",
              "    </tr>\n",
              "    <tr>\n",
              "      <th>SEARCH GOOGLE BRAND</th>\n",
              "      <td>243.886</td>\n",
              "      <td>115601.81</td>\n",
              "    </tr>\n",
              "    <tr>\n",
              "      <th>SEARCH GOOGLE NON-BRAND</th>\n",
              "      <td>245.820</td>\n",
              "      <td>13028.48</td>\n",
              "    </tr>\n",
              "    <tr>\n",
              "      <th>SEARCH MSN BRAND</th>\n",
              "      <td>246.330</td>\n",
              "      <td>28820.56</td>\n",
              "    </tr>\n",
              "    <tr>\n",
              "      <th>SEARCH MSN NON-BRAND</th>\n",
              "      <td>242.318</td>\n",
              "      <td>969.27</td>\n",
              "    </tr>\n",
              "    <tr>\n",
              "      <th>Social</th>\n",
              "      <td>165.000</td>\n",
              "      <td>165.00</td>\n",
              "    </tr>\n",
              "    <tr>\n",
              "      <th>TV</th>\n",
              "      <td>240.806</td>\n",
              "      <td>3371.29</td>\n",
              "    </tr>\n",
              "    <tr>\n",
              "      <th>Uncategorized</th>\n",
              "      <td>229.676</td>\n",
              "      <td>2067.08</td>\n",
              "    </tr>\n",
              "  </tbody>\n",
              "</table>\n",
              "</div>"
            ],
            "text/plain": [
              "                         Average Sales by Channel  Total Sales by Channel\n",
              "Groupname                                                                \n",
              "BUZZ AFFILIATE                            253.292                56990.67\n",
              "CJ                                        249.262                21685.82\n",
              "CPM                                       240.459               148603.61\n",
              "DIRECT MAIL                               170.980                  170.98\n",
              "OTHER                                     226.381                 4527.62\n",
              "PRINT - MAGAZINES                         262.977                 1051.91\n",
              "SEARCH GOOGLE BRAND                       243.886               115601.81\n",
              "SEARCH GOOGLE NON-BRAND                   245.820                13028.48\n",
              "SEARCH MSN BRAND                          246.330                28820.56\n",
              "SEARCH MSN NON-BRAND                      242.318                  969.27\n",
              "Social                                    165.000                  165.00\n",
              "TV                                        240.806                 3371.29\n",
              "Uncategorized                             229.676                 2067.08"
            ]
          },
          "metadata": {
            "tags": []
          },
          "execution_count": 57
        }
      ]
    },
    {
      "cell_type": "markdown",
      "metadata": {
        "id": "XRnU8SuISfgd"
      },
      "source": [
        "**b) (5 pts) What is the total incremental gross revenue accruing to Winters by originator channel? Express your answer in a table. Assume that Winters has a gross margin of 40%. Also assume 5% of sales from branded search are incremental, and 10% sales are incremental for the remaining channels.**"
      ]
    },
    {
      "cell_type": "markdown",
      "metadata": {
        "id": "4JB7b54eWD2s"
      },
      "source": [
        "**c) (5 pts) You just found out that Winters search ad team spent $4,200 on branded search advertising during the time period in the data. What is your advice to the search team based on the calculation above?**"
      ]
    },
    {
      "cell_type": "markdown",
      "metadata": {
        "id": "kF3tATtOWHSL"
      },
      "source": [
        "**Q4. (25 pts) Linear/uniform attribution\n",
        "The linear attribution model divides the attribution share between touches equally. For example, an order with one CPM, one CJ, and one TV touchpoint will have place one third attribution share on each touch. This can be accomplished by using the Touches variable (see Q2) to define a new variable:\n",
        "LinearAttributionShare = 1 / Touches**"
      ]
    },
    {
      "cell_type": "code",
      "metadata": {
        "colab": {
          "base_uri": "https://localhost:8080/",
          "height": 173
        },
        "id": "yNHDnxwKRp9T",
        "outputId": "a430427c-7a53-468e-f379-a38bc0ea6c7f"
      },
      "source": [
        "temp = df.groupby('Orderid')['Position'].count()\n",
        "uniform_df = pd.DataFrame(temp)\n",
        "uniform_df['Touches'] = uniform_df['Position']\n",
        "uniform_df = uniform_df['Touches']\n",
        "uniform = pd.DataFrame(uniform_df)\n",
        "uniform.head(3)"
      ],
      "execution_count": 81,
      "outputs": [
        {
          "output_type": "execute_result",
          "data": {
            "text/html": [
              "<div>\n",
              "<style scoped>\n",
              "    .dataframe tbody tr th:only-of-type {\n",
              "        vertical-align: middle;\n",
              "    }\n",
              "\n",
              "    .dataframe tbody tr th {\n",
              "        vertical-align: top;\n",
              "    }\n",
              "\n",
              "    .dataframe thead th {\n",
              "        text-align: right;\n",
              "    }\n",
              "</style>\n",
              "<table border=\"1\" class=\"dataframe\">\n",
              "  <thead>\n",
              "    <tr style=\"text-align: right;\">\n",
              "      <th></th>\n",
              "      <th>Touches</th>\n",
              "    </tr>\n",
              "    <tr>\n",
              "      <th>Orderid</th>\n",
              "      <th></th>\n",
              "    </tr>\n",
              "  </thead>\n",
              "  <tbody>\n",
              "    <tr>\n",
              "      <th>11634052</th>\n",
              "      <td>2</td>\n",
              "    </tr>\n",
              "    <tr>\n",
              "      <th>11634059</th>\n",
              "      <td>3</td>\n",
              "    </tr>\n",
              "    <tr>\n",
              "      <th>11634060</th>\n",
              "      <td>8</td>\n",
              "    </tr>\n",
              "  </tbody>\n",
              "</table>\n",
              "</div>"
            ],
            "text/plain": [
              "          Touches\n",
              "Orderid          \n",
              "11634052        2\n",
              "11634059        3\n",
              "11634060        8"
            ]
          },
          "metadata": {
            "tags": []
          },
          "execution_count": 81
        }
      ]
    },
    {
      "cell_type": "code",
      "metadata": {
        "colab": {
          "base_uri": "https://localhost:8080/",
          "height": 141
        },
        "id": "AMZB58O2Yl-M",
        "outputId": "9943be2f-a6fa-4ba0-e4be-a0b9ab75af2d"
      },
      "source": [
        "df_uniform = np.round(pd.merge(df, uniform, how = 'outer', on = 'Orderid').fillna(0), 3)\n",
        "df_uniform.head(3)"
      ],
      "execution_count": 86,
      "outputs": [
        {
          "output_type": "execute_result",
          "data": {
            "text/html": [
              "<div>\n",
              "<style scoped>\n",
              "    .dataframe tbody tr th:only-of-type {\n",
              "        vertical-align: middle;\n",
              "    }\n",
              "\n",
              "    .dataframe tbody tr th {\n",
              "        vertical-align: top;\n",
              "    }\n",
              "\n",
              "    .dataframe thead th {\n",
              "        text-align: right;\n",
              "    }\n",
              "</style>\n",
              "<table border=\"1\" class=\"dataframe\">\n",
              "  <thead>\n",
              "    <tr style=\"text-align: right;\">\n",
              "      <th></th>\n",
              "      <th>Orderid</th>\n",
              "      <th>Orderdatetime</th>\n",
              "      <th>Saleamount</th>\n",
              "      <th>Newcustomer</th>\n",
              "      <th>Position</th>\n",
              "      <th>Positiondatetime</th>\n",
              "      <th>Groupname</th>\n",
              "      <th>Networkname</th>\n",
              "      <th>Networkid</th>\n",
              "      <th>Brand</th>\n",
              "      <th>Positionname</th>\n",
              "      <th>DaysToConvert</th>\n",
              "      <th>Touches</th>\n",
              "    </tr>\n",
              "  </thead>\n",
              "  <tbody>\n",
              "    <tr>\n",
              "      <th>0</th>\n",
              "      <td>11634052</td>\n",
              "      <td>2012-05-01 4:24</td>\n",
              "      <td>341.5</td>\n",
              "      <td>Y</td>\n",
              "      <td>1</td>\n",
              "      <td>2012-05-01 3:49</td>\n",
              "      <td>BUZZ AFFILIATE</td>\n",
              "      <td>Buzz CPA Affiliate</td>\n",
              "      <td>buzz23</td>\n",
              "      <td>N</td>\n",
              "      <td>CONVERTER</td>\n",
              "      <td>0</td>\n",
              "      <td>2</td>\n",
              "    </tr>\n",
              "    <tr>\n",
              "      <th>1</th>\n",
              "      <td>11634052</td>\n",
              "      <td>2012-05-01 4:24</td>\n",
              "      <td>341.5</td>\n",
              "      <td>Y</td>\n",
              "      <td>0</td>\n",
              "      <td>2012-05-01 3:47</td>\n",
              "      <td>SEARCH GOOGLE BRAND</td>\n",
              "      <td>G: Medifast Brand Terms &gt; Medifast &gt;</td>\n",
              "      <td>g000793</td>\n",
              "      <td>Y</td>\n",
              "      <td>ORIGINATOR</td>\n",
              "      <td>0</td>\n",
              "      <td>2</td>\n",
              "    </tr>\n",
              "    <tr>\n",
              "      <th>2</th>\n",
              "      <td>11634059</td>\n",
              "      <td>2012-05-01 4:08</td>\n",
              "      <td>339.0</td>\n",
              "      <td>Y</td>\n",
              "      <td>2</td>\n",
              "      <td>2012-04-29 21:01</td>\n",
              "      <td>PRINT - MAGAZINES</td>\n",
              "      <td>Medifastok.com</td>\n",
              "      <td>medifastok.com</td>\n",
              "      <td>N</td>\n",
              "      <td>CONVERTER</td>\n",
              "      <td>2</td>\n",
              "      <td>3</td>\n",
              "    </tr>\n",
              "  </tbody>\n",
              "</table>\n",
              "</div>"
            ],
            "text/plain": [
              "    Orderid    Orderdatetime  Saleamount  ... Positionname  DaysToConvert Touches\n",
              "0  11634052  2012-05-01 4:24       341.5  ...    CONVERTER              0       2\n",
              "1  11634052  2012-05-01 4:24       341.5  ...   ORIGINATOR              0       2\n",
              "2  11634059  2012-05-01 4:08       339.0  ...    CONVERTER              2       3\n",
              "\n",
              "[3 rows x 13 columns]"
            ]
          },
          "metadata": {
            "tags": []
          },
          "execution_count": 86
        }
      ]
    },
    {
      "cell_type": "code",
      "metadata": {
        "colab": {
          "base_uri": "https://localhost:8080/",
          "height": 141
        },
        "id": "u4cFmu9FY4mZ",
        "outputId": "ae778cff-fc91-4789-ff15-ff472577b1d8"
      },
      "source": [
        "df_uniform['LinearAttributionShare'] = 1/(df_uniform.Touches)\n",
        "df_uniform.head(3)"
      ],
      "execution_count": 89,
      "outputs": [
        {
          "output_type": "execute_result",
          "data": {
            "text/html": [
              "<div>\n",
              "<style scoped>\n",
              "    .dataframe tbody tr th:only-of-type {\n",
              "        vertical-align: middle;\n",
              "    }\n",
              "\n",
              "    .dataframe tbody tr th {\n",
              "        vertical-align: top;\n",
              "    }\n",
              "\n",
              "    .dataframe thead th {\n",
              "        text-align: right;\n",
              "    }\n",
              "</style>\n",
              "<table border=\"1\" class=\"dataframe\">\n",
              "  <thead>\n",
              "    <tr style=\"text-align: right;\">\n",
              "      <th></th>\n",
              "      <th>Orderid</th>\n",
              "      <th>Orderdatetime</th>\n",
              "      <th>Saleamount</th>\n",
              "      <th>Newcustomer</th>\n",
              "      <th>Position</th>\n",
              "      <th>Positiondatetime</th>\n",
              "      <th>Groupname</th>\n",
              "      <th>Networkname</th>\n",
              "      <th>Networkid</th>\n",
              "      <th>Brand</th>\n",
              "      <th>Positionname</th>\n",
              "      <th>DaysToConvert</th>\n",
              "      <th>Touches</th>\n",
              "      <th>LinearAttributionShare</th>\n",
              "    </tr>\n",
              "  </thead>\n",
              "  <tbody>\n",
              "    <tr>\n",
              "      <th>0</th>\n",
              "      <td>11634052</td>\n",
              "      <td>2012-05-01 4:24</td>\n",
              "      <td>341.5</td>\n",
              "      <td>Y</td>\n",
              "      <td>1</td>\n",
              "      <td>2012-05-01 3:49</td>\n",
              "      <td>BUZZ AFFILIATE</td>\n",
              "      <td>Buzz CPA Affiliate</td>\n",
              "      <td>buzz23</td>\n",
              "      <td>N</td>\n",
              "      <td>CONVERTER</td>\n",
              "      <td>0</td>\n",
              "      <td>2</td>\n",
              "      <td>0.500000</td>\n",
              "    </tr>\n",
              "    <tr>\n",
              "      <th>1</th>\n",
              "      <td>11634052</td>\n",
              "      <td>2012-05-01 4:24</td>\n",
              "      <td>341.5</td>\n",
              "      <td>Y</td>\n",
              "      <td>0</td>\n",
              "      <td>2012-05-01 3:47</td>\n",
              "      <td>SEARCH GOOGLE BRAND</td>\n",
              "      <td>G: Medifast Brand Terms &gt; Medifast &gt;</td>\n",
              "      <td>g000793</td>\n",
              "      <td>Y</td>\n",
              "      <td>ORIGINATOR</td>\n",
              "      <td>0</td>\n",
              "      <td>2</td>\n",
              "      <td>0.500000</td>\n",
              "    </tr>\n",
              "    <tr>\n",
              "      <th>2</th>\n",
              "      <td>11634059</td>\n",
              "      <td>2012-05-01 4:08</td>\n",
              "      <td>339.0</td>\n",
              "      <td>Y</td>\n",
              "      <td>2</td>\n",
              "      <td>2012-04-29 21:01</td>\n",
              "      <td>PRINT - MAGAZINES</td>\n",
              "      <td>Medifastok.com</td>\n",
              "      <td>medifastok.com</td>\n",
              "      <td>N</td>\n",
              "      <td>CONVERTER</td>\n",
              "      <td>2</td>\n",
              "      <td>3</td>\n",
              "      <td>0.333333</td>\n",
              "    </tr>\n",
              "  </tbody>\n",
              "</table>\n",
              "</div>"
            ],
            "text/plain": [
              "    Orderid    Orderdatetime  ...  Touches LinearAttributionShare\n",
              "0  11634052  2012-05-01 4:24  ...        2               0.500000\n",
              "1  11634052  2012-05-01 4:24  ...        2               0.500000\n",
              "2  11634059  2012-05-01 4:08  ...        3               0.333333\n",
              "\n",
              "[3 rows x 14 columns]"
            ]
          },
          "metadata": {
            "tags": []
          },
          "execution_count": 89
        }
      ]
    },
    {
      "cell_type": "markdown",
      "metadata": {
        "id": "IHcaujtfeYdN"
      },
      "source": [
        "**a) (10 pts) For each channel, what is the sum of the linear attribution shares? What is the corresponding share of credit (in percentage) according to the linear attribution model? Express your answer in a table like in Q1.**"
      ]
    },
    {
      "cell_type": "code",
      "metadata": {
        "colab": {
          "base_uri": "https://localhost:8080/",
          "height": 482
        },
        "id": "TGscWGkVaacE",
        "outputId": "76227bf0-f23c-4663-de2a-4f82d09f161c"
      },
      "source": [
        "linear = pd.DataFrame(df_uniform.groupby('Groupname')['LinearAttributionShare'].sum())\n",
        "linear['Linear Atrribution-Share of Credit %'] = linear['LinearAttributionShare']/sum(linear['LinearAttributionShare'])*100\n",
        "linear"
      ],
      "execution_count": 157,
      "outputs": [
        {
          "output_type": "execute_result",
          "data": {
            "text/html": [
              "<div>\n",
              "<style scoped>\n",
              "    .dataframe tbody tr th:only-of-type {\n",
              "        vertical-align: middle;\n",
              "    }\n",
              "\n",
              "    .dataframe tbody tr th {\n",
              "        vertical-align: top;\n",
              "    }\n",
              "\n",
              "    .dataframe thead th {\n",
              "        text-align: right;\n",
              "    }\n",
              "</style>\n",
              "<table border=\"1\" class=\"dataframe\">\n",
              "  <thead>\n",
              "    <tr style=\"text-align: right;\">\n",
              "      <th></th>\n",
              "      <th>LinearAttributionShare</th>\n",
              "      <th>Linear Atrribution-Share of Credit %</th>\n",
              "    </tr>\n",
              "    <tr>\n",
              "      <th>Groupname</th>\n",
              "      <th></th>\n",
              "      <th></th>\n",
              "    </tr>\n",
              "  </thead>\n",
              "  <tbody>\n",
              "    <tr>\n",
              "      <th>BUZZ AFFILIATE</th>\n",
              "      <td>338.992460</td>\n",
              "      <td>20.835431</td>\n",
              "    </tr>\n",
              "    <tr>\n",
              "      <th>CJ</th>\n",
              "      <td>132.879365</td>\n",
              "      <td>8.167140</td>\n",
              "    </tr>\n",
              "    <tr>\n",
              "      <th>CPM</th>\n",
              "      <td>827.933730</td>\n",
              "      <td>50.887138</td>\n",
              "    </tr>\n",
              "    <tr>\n",
              "      <th>DIRECT MAIL</th>\n",
              "      <td>0.333333</td>\n",
              "      <td>0.020488</td>\n",
              "    </tr>\n",
              "    <tr>\n",
              "      <th>OTHER</th>\n",
              "      <td>8.105952</td>\n",
              "      <td>0.498215</td>\n",
              "    </tr>\n",
              "    <tr>\n",
              "      <th>PRINT - MAGAZINES</th>\n",
              "      <td>3.176190</td>\n",
              "      <td>0.195218</td>\n",
              "    </tr>\n",
              "    <tr>\n",
              "      <th>SEARCH GOOGLE BRAND</th>\n",
              "      <td>200.953968</td>\n",
              "      <td>12.351197</td>\n",
              "    </tr>\n",
              "    <tr>\n",
              "      <th>SEARCH GOOGLE NON-BRAND</th>\n",
              "      <td>31.499206</td>\n",
              "      <td>1.936030</td>\n",
              "    </tr>\n",
              "    <tr>\n",
              "      <th>SEARCH MSN BRAND</th>\n",
              "      <td>46.878571</td>\n",
              "      <td>2.881289</td>\n",
              "    </tr>\n",
              "    <tr>\n",
              "      <th>SEARCH MSN NON-BRAND</th>\n",
              "      <td>4.855556</td>\n",
              "      <td>0.298436</td>\n",
              "    </tr>\n",
              "    <tr>\n",
              "      <th>Social</th>\n",
              "      <td>0.375000</td>\n",
              "      <td>0.023049</td>\n",
              "    </tr>\n",
              "    <tr>\n",
              "      <th>TV</th>\n",
              "      <td>14.028571</td>\n",
              "      <td>0.862235</td>\n",
              "    </tr>\n",
              "    <tr>\n",
              "      <th>Uncategorized</th>\n",
              "      <td>16.988095</td>\n",
              "      <td>1.044136</td>\n",
              "    </tr>\n",
              "  </tbody>\n",
              "</table>\n",
              "</div>"
            ],
            "text/plain": [
              "                         LinearAttributionShare  Linear Atrribution-Share of Credit %\n",
              "Groupname                                                                            \n",
              "BUZZ AFFILIATE                       338.992460                             20.835431\n",
              "CJ                                   132.879365                              8.167140\n",
              "CPM                                  827.933730                             50.887138\n",
              "DIRECT MAIL                            0.333333                              0.020488\n",
              "OTHER                                  8.105952                              0.498215\n",
              "PRINT - MAGAZINES                      3.176190                              0.195218\n",
              "SEARCH GOOGLE BRAND                  200.953968                             12.351197\n",
              "SEARCH GOOGLE NON-BRAND               31.499206                              1.936030\n",
              "SEARCH MSN BRAND                      46.878571                              2.881289\n",
              "SEARCH MSN NON-BRAND                   4.855556                              0.298436\n",
              "Social                                 0.375000                              0.023049\n",
              "TV                                    14.028571                              0.862235\n",
              "Uncategorized                         16.988095                              1.044136"
            ]
          },
          "metadata": {
            "tags": []
          },
          "execution_count": 157
        }
      ]
    },
    {
      "cell_type": "markdown",
      "metadata": {
        "id": "7xy07ltjefnU"
      },
      "source": [
        "**b) (10 pts) In a single bar chart, plot the share of credit (in percentage) for all three attribution models: first-touch, last-touch and linear.**"
      ]
    },
    {
      "cell_type": "code",
      "metadata": {
        "colab": {
          "base_uri": "https://localhost:8080/",
          "height": 450
        },
        "id": "26zI20JBb93i",
        "outputId": "22f605b7-64e4-43c0-ae85-56ecc3df228a"
      },
      "source": [
        "first_last['Channels'] = first_last['index']\n",
        "linear['Channels'] = linear.index\n",
        "merge_3= np.round(pd.merge(first_last, linear, how = 'outer', on = 'Channels').fillna(0), 5)\n",
        "merge_3['First Touch-Share of Credit %'] = merge_3['Originator %']\n",
        "merge_3['Last Touch-Share of Credit %'] = merge_3['Converter %']\n",
        "merge_3 = merge_3[['index', 'First Touch-Share of Credit %', 'Last Touch-Share of Credit %', 'Linear Atrribution-Share of Credit %']]\n",
        "merge_3 = merge_3[:13]\n",
        "merge_3"
      ],
      "execution_count": 159,
      "outputs": [
        {
          "output_type": "execute_result",
          "data": {
            "text/html": [
              "<div>\n",
              "<style scoped>\n",
              "    .dataframe tbody tr th:only-of-type {\n",
              "        vertical-align: middle;\n",
              "    }\n",
              "\n",
              "    .dataframe tbody tr th {\n",
              "        vertical-align: top;\n",
              "    }\n",
              "\n",
              "    .dataframe thead th {\n",
              "        text-align: right;\n",
              "    }\n",
              "</style>\n",
              "<table border=\"1\" class=\"dataframe\">\n",
              "  <thead>\n",
              "    <tr style=\"text-align: right;\">\n",
              "      <th></th>\n",
              "      <th>index</th>\n",
              "      <th>First Touch-Share of Credit %</th>\n",
              "      <th>Last Touch-Share of Credit %</th>\n",
              "      <th>Linear Atrribution-Share of Credit %</th>\n",
              "    </tr>\n",
              "  </thead>\n",
              "  <tbody>\n",
              "    <tr>\n",
              "      <th>0</th>\n",
              "      <td>BUZZ AFFILIATE</td>\n",
              "      <td>13.829</td>\n",
              "      <td>29.871</td>\n",
              "      <td>20.83543</td>\n",
              "    </tr>\n",
              "    <tr>\n",
              "      <th>1</th>\n",
              "      <td>CJ</td>\n",
              "      <td>5.347</td>\n",
              "      <td>13.768</td>\n",
              "      <td>8.16714</td>\n",
              "    </tr>\n",
              "    <tr>\n",
              "      <th>2</th>\n",
              "      <td>CPM</td>\n",
              "      <td>37.984</td>\n",
              "      <td>51.014</td>\n",
              "      <td>50.88714</td>\n",
              "    </tr>\n",
              "    <tr>\n",
              "      <th>3</th>\n",
              "      <td>OTHER</td>\n",
              "      <td>1.229</td>\n",
              "      <td>0.184</td>\n",
              "      <td>0.49821</td>\n",
              "    </tr>\n",
              "    <tr>\n",
              "      <th>4</th>\n",
              "      <td>PRINT - MAGAZINES</td>\n",
              "      <td>0.246</td>\n",
              "      <td>0.184</td>\n",
              "      <td>0.19522</td>\n",
              "    </tr>\n",
              "    <tr>\n",
              "      <th>5</th>\n",
              "      <td>SEARCH GOOGLE NON-BRAND</td>\n",
              "      <td>3.258</td>\n",
              "      <td>1.967</td>\n",
              "      <td>1.93603</td>\n",
              "    </tr>\n",
              "    <tr>\n",
              "      <th>6</th>\n",
              "      <td>SEARCH MSN NON-BRAND</td>\n",
              "      <td>0.246</td>\n",
              "      <td>0.430</td>\n",
              "      <td>0.29844</td>\n",
              "    </tr>\n",
              "    <tr>\n",
              "      <th>7</th>\n",
              "      <td>TV</td>\n",
              "      <td>0.860</td>\n",
              "      <td>1.229</td>\n",
              "      <td>0.86224</td>\n",
              "    </tr>\n",
              "    <tr>\n",
              "      <th>8</th>\n",
              "      <td>Uncategorized</td>\n",
              "      <td>0.553</td>\n",
              "      <td>1.352</td>\n",
              "      <td>1.04414</td>\n",
              "    </tr>\n",
              "    <tr>\n",
              "      <th>9</th>\n",
              "      <td>DIRECT MAIL</td>\n",
              "      <td>0.061</td>\n",
              "      <td>0.000</td>\n",
              "      <td>0.02049</td>\n",
              "    </tr>\n",
              "    <tr>\n",
              "      <th>10</th>\n",
              "      <td>SEARCH GOOGLE BRAND</td>\n",
              "      <td>29.133</td>\n",
              "      <td>0.000</td>\n",
              "      <td>12.35120</td>\n",
              "    </tr>\n",
              "    <tr>\n",
              "      <th>11</th>\n",
              "      <td>SEARCH MSN BRAND</td>\n",
              "      <td>7.191</td>\n",
              "      <td>0.000</td>\n",
              "      <td>2.88129</td>\n",
              "    </tr>\n",
              "    <tr>\n",
              "      <th>12</th>\n",
              "      <td>Social</td>\n",
              "      <td>0.061</td>\n",
              "      <td>0.000</td>\n",
              "      <td>0.02305</td>\n",
              "    </tr>\n",
              "  </tbody>\n",
              "</table>\n",
              "</div>"
            ],
            "text/plain": [
              "                      index  ...  Linear Atrribution-Share of Credit %\n",
              "0            BUZZ AFFILIATE  ...                              20.83543\n",
              "1                        CJ  ...                               8.16714\n",
              "2                       CPM  ...                              50.88714\n",
              "3                     OTHER  ...                               0.49821\n",
              "4         PRINT - MAGAZINES  ...                               0.19522\n",
              "5   SEARCH GOOGLE NON-BRAND  ...                               1.93603\n",
              "6      SEARCH MSN NON-BRAND  ...                               0.29844\n",
              "7                        TV  ...                               0.86224\n",
              "8             Uncategorized  ...                               1.04414\n",
              "9               DIRECT MAIL  ...                               0.02049\n",
              "10      SEARCH GOOGLE BRAND  ...                              12.35120\n",
              "11         SEARCH MSN BRAND  ...                               2.88129\n",
              "12                   Social  ...                               0.02305\n",
              "\n",
              "[13 rows x 4 columns]"
            ]
          },
          "metadata": {
            "tags": []
          },
          "execution_count": 159
        }
      ]
    },
    {
      "cell_type": "code",
      "metadata": {
        "colab": {
          "base_uri": "https://localhost:8080/",
          "height": 859
        },
        "id": "VzgOHo8jfLx1",
        "outputId": "34173729-a5df-4d84-a1cc-047b24b4db51"
      },
      "source": [
        "merge_3[:13].plot(x='index', y=['First Touch-Share of Credit %',\n",
        "       'Last Touch-Share of Credit %', 'Linear Atrribution-Share of Credit %'], kind='bar', figsize=(15, 10))"
      ],
      "execution_count": 161,
      "outputs": [
        {
          "output_type": "execute_result",
          "data": {
            "text/plain": [
              "<matplotlib.axes._subplots.AxesSubplot at 0x7f04730d8bd0>"
            ]
          },
          "metadata": {
            "tags": []
          },
          "execution_count": 161
        },
        {
          "output_type": "display_data",
          "data": {
            "image/png": "[encoded data removed]",
            "text/plain": [
              "<Figure size 1080x720 with 1 Axes>"
            ]
          },
          "metadata": {
            "tags": [],
            "needs_background": "light"
          }
        }
      ]
    },
    {
      "cell_type": "markdown",
      "metadata": {
        "id": "MNLGYAyejNpe"
      },
      "source": [
        "**c) (5 pts) Compare the linear model to the first-touch and last-touch models.**"
      ]
    },
    {
      "cell_type": "markdown",
      "metadata": {
        "id": "uiplx46cjRWv"
      },
      "source": [
        "CPM holds the highest share of credit across all 3 models (~50% for last touch and linear models and 37.98% for the first touch model). The Buzz Affiliate channel nholds the second highest share of credit across both the linear and last touch models. Noticeably, both search channels (Google and MSN) only display share of credit across linear and first touch models. The linear model is the only attribution model that has share of credit across all 13 channels. \n",
        "\n",
        "The linear model has some disadvantages as well. While it assigns equal credits to each touchpoint, we lose the ability to examine the true impact of each touchpoint on the sale."
      ]
    },
    {
      "cell_type": "markdown",
      "metadata": {
        "id": "qvSVqkr3xbQm"
      },
      "source": [
        "**Q5. (30 pts) Examine the role of the intermediate (Roster and Assist) touch points.**\n",
        "\n",
        "**a) (10 pts) Focusing on the top channels, what is the proportion of each channel’s touchpoints by position name: 1) Originator, 2) Roster, 3) Assist, and 4) Converter. Show your result using a table like the following (with the exact top channels listed)**"
      ]
    },
    {
      "cell_type": "code",
      "metadata": {
        "colab": {
          "base_uri": "https://localhost:8080/"
        },
        "id": "9iSRiosJ2mzB",
        "outputId": "ab17dd04-2e35-47b8-884b-ee6ae33280b6"
      },
      "source": [
        "df.groupby('Groupname')['Position'].count()"
      ],
      "execution_count": 182,
      "outputs": [
        {
          "output_type": "execute_result",
          "data": {
            "text/plain": [
              "Groupname\n",
              "BUZZ AFFILIATE             1407\n",
              "CJ                          522\n",
              "CPM                        4424\n",
              "DIRECT MAIL                   1\n",
              "OTHER                        40\n",
              "PRINT - MAGAZINES            12\n",
              "SEARCH GOOGLE BRAND         799\n",
              "SEARCH GOOGLE NON-BRAND     108\n",
              "SEARCH MSN BRAND            171\n",
              "SEARCH MSN NON-BRAND         14\n",
              "Social                        2\n",
              "TV                           57\n",
              "Uncategorized                67\n",
              "Name: Position, dtype: int64"
            ]
          },
          "metadata": {
            "tags": []
          },
          "execution_count": 182
        }
      ]
    },
    {
      "cell_type": "code",
      "metadata": {
        "colab": {
          "base_uri": "https://localhost:8080/",
          "height": 265
        },
        "id": "OqVcTw-gjEZo",
        "outputId": "e2751a3d-2b5e-4348-ac00-a5120259821e"
      },
      "source": [
        "filter_df = df[(df['Groupname'] == 'BUZZ AFFILIATE') | (df['Groupname'] == 'CJ') |  (df['Groupname'] == 'CPM') |  (df['Groupname'] == 'SEARCH GOOGLE BRAND') |  (df['Groupname'] == 'SEARCH GOOGLE NON-BRAND') |  (df['Groupname'] == 'SEARCH MSN BRAND') |  (df['Groupname'] == 'TV')]\n",
        "channel = pd.DataFrame(filter_df.groupby(['Groupname', 'Positionname'])['Position'].count())\n",
        "channel.reset_index(inplace=True)\n",
        "channel_pivot = channel.pivot(index='Groupname', columns='Positionname', values='Position')\n",
        "channel_pivot = channel_pivot.fillna(0)\n",
        "channel_pivot['Total_old'] = channel_pivot.ASSIST + channel_pivot.CONVERTER + channel_pivot.ORIGINATOR + channel_pivot.ROSTER\n",
        "channel_pivot['ASSIST'] = channel_pivot['ASSIST']/channel_pivot['Total_old']*100\n",
        "channel_pivot['CONVERTER'] = channel_pivot['CONVERTER']/channel_pivot['Total_old']*100\n",
        "channel_pivot['ORIGINATOR'] = channel_pivot['ORIGINATOR']/channel_pivot['Total_old']*100\n",
        "channel_pivot['ROSTER'] = channel_pivot['ROSTER']/channel_pivot['Total_old']*100\n",
        "channel_pivot['TOTAL'] = channel_pivot.ASSIST + channel_pivot.CONVERTER + channel_pivot.ORIGINATOR + channel_pivot.ROSTER\n",
        "channel_pivot.drop(columns=['Total_old'], inplace=True)\n",
        "channel_pivot.reset_index(inplace=True)\n",
        "channel_pivot"
      ],
      "execution_count": 206,
      "outputs": [
        {
          "output_type": "execute_result",
          "data": {
            "text/html": [
              "<div>\n",
              "<style scoped>\n",
              "    .dataframe tbody tr th:only-of-type {\n",
              "        vertical-align: middle;\n",
              "    }\n",
              "\n",
              "    .dataframe tbody tr th {\n",
              "        vertical-align: top;\n",
              "    }\n",
              "\n",
              "    .dataframe thead th {\n",
              "        text-align: right;\n",
              "    }\n",
              "</style>\n",
              "<table border=\"1\" class=\"dataframe\">\n",
              "  <thead>\n",
              "    <tr style=\"text-align: right;\">\n",
              "      <th>Positionname</th>\n",
              "      <th>Groupname</th>\n",
              "      <th>ASSIST</th>\n",
              "      <th>CONVERTER</th>\n",
              "      <th>ORIGINATOR</th>\n",
              "      <th>ROSTER</th>\n",
              "      <th>TOTAL</th>\n",
              "    </tr>\n",
              "  </thead>\n",
              "  <tbody>\n",
              "    <tr>\n",
              "      <th>0</th>\n",
              "      <td>BUZZ AFFILIATE</td>\n",
              "      <td>18.834399</td>\n",
              "      <td>34.541578</td>\n",
              "      <td>15.991471</td>\n",
              "      <td>30.632552</td>\n",
              "      <td>100.0</td>\n",
              "    </tr>\n",
              "    <tr>\n",
              "      <th>1</th>\n",
              "      <td>CJ</td>\n",
              "      <td>16.475096</td>\n",
              "      <td>42.911877</td>\n",
              "      <td>16.666667</td>\n",
              "      <td>23.946360</td>\n",
              "      <td>100.0</td>\n",
              "    </tr>\n",
              "    <tr>\n",
              "      <th>2</th>\n",
              "      <td>CPM</td>\n",
              "      <td>18.083183</td>\n",
              "      <td>18.761302</td>\n",
              "      <td>13.969259</td>\n",
              "      <td>49.186257</td>\n",
              "      <td>100.0</td>\n",
              "    </tr>\n",
              "    <tr>\n",
              "      <th>3</th>\n",
              "      <td>SEARCH GOOGLE BRAND</td>\n",
              "      <td>12.765957</td>\n",
              "      <td>0.000000</td>\n",
              "      <td>59.324155</td>\n",
              "      <td>27.909887</td>\n",
              "      <td>100.0</td>\n",
              "    </tr>\n",
              "    <tr>\n",
              "      <th>4</th>\n",
              "      <td>SEARCH GOOGLE NON-BRAND</td>\n",
              "      <td>6.481481</td>\n",
              "      <td>29.629630</td>\n",
              "      <td>49.074074</td>\n",
              "      <td>14.814815</td>\n",
              "      <td>100.0</td>\n",
              "    </tr>\n",
              "    <tr>\n",
              "      <th>5</th>\n",
              "      <td>SEARCH MSN BRAND</td>\n",
              "      <td>7.602339</td>\n",
              "      <td>0.000000</td>\n",
              "      <td>68.421053</td>\n",
              "      <td>23.976608</td>\n",
              "      <td>100.0</td>\n",
              "    </tr>\n",
              "    <tr>\n",
              "      <th>6</th>\n",
              "      <td>TV</td>\n",
              "      <td>12.280702</td>\n",
              "      <td>35.087719</td>\n",
              "      <td>24.561404</td>\n",
              "      <td>28.070175</td>\n",
              "      <td>100.0</td>\n",
              "    </tr>\n",
              "  </tbody>\n",
              "</table>\n",
              "</div>"
            ],
            "text/plain": [
              "Positionname                Groupname     ASSIST  ...     ROSTER  TOTAL\n",
              "0                      BUZZ AFFILIATE  18.834399  ...  30.632552  100.0\n",
              "1                                  CJ  16.475096  ...  23.946360  100.0\n",
              "2                                 CPM  18.083183  ...  49.186257  100.0\n",
              "3                 SEARCH GOOGLE BRAND  12.765957  ...  27.909887  100.0\n",
              "4             SEARCH GOOGLE NON-BRAND   6.481481  ...  14.814815  100.0\n",
              "5                    SEARCH MSN BRAND   7.602339  ...  23.976608  100.0\n",
              "6                                  TV  12.280702  ...  28.070175  100.0\n",
              "\n",
              "[7 rows x 6 columns]"
            ]
          },
          "metadata": {
            "tags": []
          },
          "execution_count": 206
        }
      ]
    },
    {
      "cell_type": "markdown",
      "metadata": {
        "id": "2zi7Q899553y"
      },
      "source": [
        "**b) (10 pts) In a single bar chart, plot the share in percentage (y-axis) of touchpoint types by marketing channels (x-axis).**"
      ]
    },
    {
      "cell_type": "code",
      "metadata": {
        "colab": {
          "base_uri": "https://localhost:8080/",
          "height": 859
        },
        "id": "uWDT8L7Q5xdV",
        "outputId": "380f13a6-4b54-419a-d1b7-665ea0a9d19e"
      },
      "source": [
        "channel_pivot.plot(x='Groupname', y=['ASSIST', 'CONVERTER', 'ORIGINATOR', 'ROSTER'], kind='bar', figsize=(15, 10))\n",
        "matplotlib.pyplot.title(label, fontdict=None, loc='center', pad=None, **kwargs)"
      ],
      "execution_count": 207,
      "outputs": [
        {
          "output_type": "execute_result",
          "data": {
            "text/plain": [
              "<matplotlib.axes._subplots.AxesSubplot at 0x7f0473044190>"
            ]
          },
          "metadata": {
            "tags": []
          },
          "execution_count": 207
        },
        {
          "output_type": "display_data",
          "data": {
            "image/png": "[encoded data removed]",
            "text/plain": [
              "<Figure size 1080x720 with 1 Axes>"
            ]
          },
          "metadata": {
            "tags": [],
            "needs_background": "light"
          }
        }
      ]
    },
    {
      "cell_type": "markdown",
      "metadata": {
        "id": "7LYc7A9l-7Tc"
      },
      "source": [
        "**c) (10 pts) Summarize the touch-point type results. Which channels seem to have relatively more or less of its touchpoints as rosters and assist?** \n",
        "\n",
        "All channels include 'rosters' and assist as 'touchpoints', as opposed to the 'converter', where both searches (MSN and Google) don't have any proportion of the 'converter' touchpoint. \n",
        "\n",
        "**Roster**\n",
        "\n",
        "*  The CPM, Buzz Affiliate, Search Google Brand and TV channels have a higher proportion of 'Rosters' as their touchpoints (49.18%, 30.63%, 27.91% and 28.07% respectively). \n",
        "*  The CJ, Search Google Non-Brand and Search MSN Brand channels have  lower proportion of 'Rosters' as their touchpoints (23.95%, 14.81% and 23.98% respectively). \n",
        "\n",
        "**Assist**\n",
        "*  The CPM, Buzz Affiliate and CJ channels have a higher proportion of 'Rosters' as their touchpoints (18.08%, 18.83% and 16.48% respectively). \n",
        "*  The Search Google Non-Brand, Search MSN Brand and TV channels have a lower proportion of 'Rosters' as their touchpoints (6.48%, 7.60% and 12.28% respectively). \n",
        "\n",
        "\n",
        "**Compared with linear attribution, which of these channels would receive too much or too little credit under first- and lasttouch attribution?**\n",
        "\n",
        "*  The graph in 4b) displays that the channels with the highest share of credit based on the linear attribution model include CPM, Buzz Affiliates and Search Google Brand (50.88%, 20.84% and 12.35% respectively). \n",
        "*  In the above graph, we notice that the channels with the highest proportion of 'Originator' (first touch attribution) include Search Google Brand, Search Google Non Brand and Search MSN Brand, out of which the only overlap between this and the share of credit in the linear attribution model is with the Search Google Brand channel. The Search Google Brand channel has the second highest proportion of 'Originators' as its touchpoint, and the linear attribution model displays a slightly high share of credit for this channel (12.35%).\n",
        "*  In the above graph, we notice that the channels with the highest proportion of 'Convertor' (last touch attribution) include CJ, Buzz Affiliate, Search Google Non-Brand and TV, out of which the only overlap between this and the share of credit in the linear attribution model is with the Buzz Affiliates. The Buzz Affiliates channel has the third highest proportion of 'Convertors' as its touchpoint, and the linear attribution model displays a high share of credit for this channel (20.84%).\n",
        "*  The CPM channel has relatively low proportions of 'Originator' and 'Convertor' as touchpoints, as compared to the linear attribution model which displays the highest share of credit for this channel (50.88%)."
      ]
    }
  ]
}